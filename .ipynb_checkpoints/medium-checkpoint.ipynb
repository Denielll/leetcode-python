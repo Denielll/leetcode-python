{
 "cells": [
  {
   "cell_type": "markdown",
   "metadata": {},
   "source": [
    "# DP (Dynamic Programming)"
   ]
  },
  {
   "cell_type": "code",
   "execution_count": 1,
   "metadata": {},
   "outputs": [
    {
     "data": {
      "text/plain": [
       "3"
      ]
     },
     "execution_count": 1,
     "metadata": {},
     "output_type": "execute_result"
    }
   ],
   "source": [
    "# LC_Coin Change (最少硬幣組合)\n",
    "\n",
    "# 想不到\n",
    "\n",
    "# 主要知識點：\n",
    "# 解法用Dynamic programming - Bottom up\n",
    "# Time complexity : O(S*n), where S是amount, n是len(coins)\n",
    "# On each step the algorithm finds the next F(i) in n iterations, S*n\n",
    "# Space complexity : O(S)\n",
    "# We use extra space for the memoization table. (where the concept of dp comes in.)\n",
    "\n",
    "class Solution(object):\n",
    "    def coinChange(self, coins, amount):\n",
    "        \"\"\"\n",
    "        :type coins: List[int]\n",
    "        :type amount: int\n",
    "        :rtype: int\n",
    "        \"\"\"\n",
    "        rs = [amount+1] * (amount+1)\n",
    "        rs[0] = 0\n",
    "        for i in range(1, amount+1):\n",
    "            for c in coins:\n",
    "                if i >= c:\n",
    "                    rs[i] = min(rs[i], rs[i-c] + 1)\n",
    "\n",
    "        if rs[amount] == amount+1:\n",
    "            return -1 # 這個if如果成立，就代表..amount無法被coins組成\n",
    "        return rs[amount]\n",
    "    \n",
    "    \n",
    "x = Solution()\n",
    "x.coinChange([1, 2, 5], 11)"
   ]
  },
  {
   "cell_type": "code",
   "execution_count": null,
   "metadata": {
    "collapsed": true
   },
   "outputs": [],
   "source": []
  },
  {
   "cell_type": "code",
   "execution_count": null,
   "metadata": {
    "collapsed": true
   },
   "outputs": [],
   "source": []
  },
  {
   "cell_type": "code",
   "execution_count": null,
   "metadata": {
    "collapsed": true
   },
   "outputs": [],
   "source": []
  },
  {
   "cell_type": "code",
   "execution_count": null,
   "metadata": {
    "collapsed": true
   },
   "outputs": [],
   "source": []
  },
  {
   "cell_type": "markdown",
   "metadata": {},
   "source": [
    "# Miscellaneous"
   ]
  },
  {
   "cell_type": "code",
   "execution_count": 2,
   "metadata": {
    "collapsed": true
   },
   "outputs": [],
   "source": [
    "# 這區塊主要紀錄在刷題時找到的一些其他知識點，可能是有關python的, 程式語言的, 數學的...等等\n",
    "# 等刷完題，會把這些知識點存入谷歌雲端_Research"
   ]
  },
  {
   "cell_type": "code",
   "execution_count": null,
   "metadata": {
    "collapsed": true
   },
   "outputs": [],
   "source": []
  },
  {
   "cell_type": "code",
   "execution_count": null,
   "metadata": {
    "collapsed": true
   },
   "outputs": [],
   "source": []
  },
  {
   "cell_type": "code",
   "execution_count": null,
   "metadata": {
    "collapsed": true
   },
   "outputs": [],
   "source": []
  },
  {
   "cell_type": "code",
   "execution_count": null,
   "metadata": {
    "collapsed": true
   },
   "outputs": [],
   "source": []
  },
  {
   "cell_type": "code",
   "execution_count": null,
   "metadata": {
    "collapsed": true
   },
   "outputs": [],
   "source": []
  }
 ],
 "metadata": {
  "kernelspec": {
   "display_name": "Python 3",
   "language": "python",
   "name": "python3"
  },
  "language_info": {
   "codemirror_mode": {
    "name": "ipython",
    "version": 3
   },
   "file_extension": ".py",
   "mimetype": "text/x-python",
   "name": "python",
   "nbconvert_exporter": "python",
   "pygments_lexer": "ipython3",
   "version": "3.6.1"
  }
 },
 "nbformat": 4,
 "nbformat_minor": 2
}
