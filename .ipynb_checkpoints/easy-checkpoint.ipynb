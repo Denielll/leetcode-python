{
 "cells": [
  {
   "cell_type": "code",
   "execution_count": null,
   "metadata": {
    "collapsed": true
   },
   "outputs": [],
   "source": []
  },
  {
   "cell_type": "markdown",
   "metadata": {},
   "source": [
    "# Graph"
   ]
  },
  {
   "cell_type": "code",
   "execution_count": null,
   "metadata": {
    "collapsed": true
   },
   "outputs": [],
   "source": [
    "# LC_Flower Planting With No Adjacent\n",
    "\n",
    "# 想不到\n",
    "\n",
    "# 主要知識點：\n",
    "# greedy? each step you go with the best strategy at the moment. \n",
    "\n",
    "class Solution(object):\n",
    "    def gardenNoAdj(self, N, paths):\n",
    "        res = [0] * N\n",
    "        \n",
    "        # turn paths into Adjacency List, which represents graph\n",
    "        # the x-1, y-1 trick here is to avoid G[N]. \n",
    "        G = [[] for i in range(N)]\n",
    "        for x, y in paths:\n",
    "            G[x-1].append(y-1)\n",
    "            G[y-1].append(x-1)\n",
    "            \n",
    "        for i in range(N):\n",
    "            used_neighbors_colors = []\n",
    "            for neighbor in G[i]:\n",
    "                used_neighbors_colors.append(res[neighbor])\n",
    "            for color in range(1,5):\n",
    "                if color not in used_neighbors_colors:\n",
    "                    res[i] = color\n",
    "                \n",
    "        return res"
   ]
  },
  {
   "cell_type": "code",
   "execution_count": null,
   "metadata": {
    "collapsed": true
   },
   "outputs": [],
   "source": []
  },
  {
   "cell_type": "code",
   "execution_count": null,
   "metadata": {
    "collapsed": true
   },
   "outputs": [],
   "source": [
    "# LC_Find the Town Judge\n",
    "\n",
    "# 想很久\n",
    "\n",
    "# 主要知識點：\n",
    "\n",
    "class Solution(object):\n",
    "    def findJudge(self, N, trust):\n",
    "        l = [0]*(N+1)\n",
    "        for villager, judge in trust:\n",
    "            l[villager] -= 1\n",
    "            l[judge] += 1\n",
    "        \n",
    "        for i in range(1, N+1):\n",
    "            if l[i] == N-1:\n",
    "                return i\n",
    "        return -1"
   ]
  },
  {
   "cell_type": "markdown",
   "metadata": {},
   "source": [
    "# Heap"
   ]
  },
  {
   "cell_type": "code",
   "execution_count": 37,
   "metadata": {
    "collapsed": true
   },
   "outputs": [],
   "source": [
    "# ?_return a new sorted merged list from K sorted lists (actually arrays), each with size N\n",
    "\n",
    "# 想不到\n",
    "\n",
    "# 主要知識點：\n",
    "# if possible (no list becomes empty), the heap always keeps K tuples. After one heappop, there is a heappush\n",
    "# Time Complexity: O(KN*logK), where KN is the number of elements; logK is the time of insertion into heap in worst case\n",
    "\n",
    "def merge(lists):\n",
    "    merged_list = []\n",
    "\n",
    "    heap = [(lst[0], i, 0) for i, lst in enumerate(lists) if lst]\n",
    "    heapq.heapify(heap)\n",
    "\n",
    "    while heap:\n",
    "        val, list_ind, element_ind = heapq.heappop(heap)\n",
    "\n",
    "        merged_list.append(val)\n",
    "\n",
    "        if element_ind + 1 < len(lists[list_ind]):\n",
    "            next_tuple = (lists[list_ind][element_ind + 1],\n",
    "                          list_ind,\n",
    "                          element_ind + 1)\n",
    "            heapq.heappush(heap, next_tuple)\n",
    "    return merged_list"
   ]
  },
  {
   "cell_type": "code",
   "execution_count": null,
   "metadata": {
    "collapsed": true
   },
   "outputs": [],
   "source": []
  },
  {
   "cell_type": "code",
   "execution_count": null,
   "metadata": {
    "collapsed": true
   },
   "outputs": [],
   "source": []
  },
  {
   "cell_type": "markdown",
   "metadata": {
    "collapsed": true
   },
   "source": [
    "# Queue"
   ]
  },
  {
   "cell_type": "code",
   "execution_count": null,
   "metadata": {
    "collapsed": true
   },
   "outputs": [],
   "source": [
    "# LC_Number of Recent Calls\n",
    "\n",
    "# 想不到 (題目不好懂)\n",
    "\n",
    "# 主要知識點：\n",
    "# Time Complexity: O(Q), where Q is the number of queries made.\n",
    "# Space Complexity: O(W), where W = 3000 is the size of the window we should scan for recent calls.\n",
    "# In this problem, the complexity can be considered O(1). \n",
    "\n",
    "from collections import deque\n",
    "class RecentCounter(object):\n",
    "    def __init__(self):\n",
    "        self.q = deque()\n",
    "\n",
    "    def ping(self, t):\n",
    "        self.q.append(t)\n",
    "        while self.q[0] < t-3000:\n",
    "            self.q.popleft()\n",
    "            \n",
    "        return len(self.q)"
   ]
  },
  {
   "cell_type": "markdown",
   "metadata": {},
   "source": [
    "# Stack"
   ]
  },
  {
   "cell_type": "code",
   "execution_count": null,
   "metadata": {
    "collapsed": true
   },
   "outputs": [],
   "source": [
    "# LC_Remove All Adjacent Duplicates In String\n",
    "\n",
    "# 想一下\n",
    "\n",
    "class Solution(object):\n",
    "    def removeDuplicates(self, S):\n",
    "        stack = []\n",
    "        for i in S:\n",
    "            if stack and i == stack[-1]:\n",
    "                stack.pop()\n",
    "            else:\n",
    "                stack.append(i)\n",
    "                    \n",
    "        return \"\".join(stack)"
   ]
  },
  {
   "cell_type": "code",
   "execution_count": null,
   "metadata": {
    "collapsed": true
   },
   "outputs": [],
   "source": []
  },
  {
   "cell_type": "code",
   "execution_count": null,
   "metadata": {
    "collapsed": true
   },
   "outputs": [],
   "source": [
    "# LC_Remove Outermost Parentheses\n",
    "\n",
    "# 想不到 (可以多令一個變數更好解題)\n",
    "\n",
    "# 主要知識點：\n",
    "# I almost do it. The key is that I should use a variable to store the split point(start in my code)\n",
    "\n",
    "class Solution(object):\n",
    "    def removeOuterParentheses(self, S):\n",
    "        count = 0\n",
    "        l = []\n",
    "        start = 0\n",
    "        for i in range(len(S)):\n",
    "            if S[i] == '(':\n",
    "                count += 1\n",
    "            elif S[i] == \")\":\n",
    "                count -= 1\n",
    "            if count == 0:\n",
    "                l.append(S[start+1:i])\n",
    "                start = i+1\n",
    "        return \"\".join(l)"
   ]
  },
  {
   "cell_type": "code",
   "execution_count": null,
   "metadata": {
    "collapsed": true
   },
   "outputs": [],
   "source": []
  },
  {
   "cell_type": "code",
   "execution_count": null,
   "metadata": {
    "collapsed": true
   },
   "outputs": [],
   "source": [
    "# LC_Backspace String Compare\n",
    "\n",
    "# 想一下(有嘟種解法)\n",
    "\n",
    "# 主要知識點：\n",
    "# Time Complexity: O(M + N), where M, N are the lengths of S and T respectively\n",
    "# Space Complexity: O(M + N).\n",
    "\n",
    "class Solution(object):\n",
    "    def backspaceCompare(self, S, T):\n",
    "        stack_s = []\n",
    "        stack_t = []\n",
    "        \n",
    "        for i in S:\n",
    "            if i == \"#\":\n",
    "                if stack_s:\n",
    "                    stack_s.pop()\n",
    "            else:\n",
    "                stack_s.append(i)\n",
    "                \n",
    "        for i in T:\n",
    "            if i == \"#\":\n",
    "                if stack_t:\n",
    "                    stack_t.pop()\n",
    "            else:\n",
    "                stack_t.append(i)\n",
    "                \n",
    "        return stack_s == stack_t\n",
    "    \n",
    "# Below is a better approach\n",
    "# Time Complexity: O(min(M, N)) (look at last line. all() is basically looping through a generator and check\n",
    "# if the element is True. When we reach min(M, N), we will next then return False)\n",
    "# Space Complexity: O(1)    (we used generators, iterators here to reduce memory)\n",
    "\n",
    "import itertools\n",
    "class Solution(object):\n",
    "    def backspaceCompare(self, S, T):\n",
    "        def F(s):\n",
    "            skip = 0 \n",
    "            for i in reversed(s):\n",
    "                if i == \"#\":\n",
    "                    skip += 1\n",
    "                elif skip:\n",
    "                    skip -= 1\n",
    "                else:\n",
    "                    yield i\n",
    "        return all(x == y for x, y in itertools.zip_longest(F(S), F(T)))"
   ]
  },
  {
   "cell_type": "code",
   "execution_count": null,
   "metadata": {
    "collapsed": true
   },
   "outputs": [],
   "source": []
  },
  {
   "cell_type": "code",
   "execution_count": null,
   "metadata": {
    "collapsed": true
   },
   "outputs": [],
   "source": [
    "# LC_Baseball Game\n",
    "\n",
    "# 想很久\n",
    "\n",
    "# 主要知識點：\n",
    "# impressive solution. It's hard to think of using stack when solving this problem. \n",
    "# Time Complexity: O(N), where N is the length of ops. We parse through every element\n",
    "# in the given array once, and do O(1) work for each element.\n",
    "# Space Complexity: O(N), the space used to store our stack.\n",
    "\n",
    "class Solution(object):\n",
    "    def calPoints(self, ops):\n",
    "        stack = []\n",
    "        for i in ops:\n",
    "            if i == \"C\":\n",
    "                stack.pop()\n",
    "            elif i == \"D\":\n",
    "                stack.append(2*stack[-1])\n",
    "            elif i == \"+\":\n",
    "                stack.append(stack[-1] + stack[-2])\n",
    "            else:\n",
    "                stack.append(int(i))\n",
    "        \n",
    "        return sum(stack)"
   ]
  },
  {
   "cell_type": "code",
   "execution_count": null,
   "metadata": {
    "collapsed": true
   },
   "outputs": [],
   "source": []
  },
  {
   "cell_type": "code",
   "execution_count": null,
   "metadata": {
    "collapsed": true
   },
   "outputs": [],
   "source": [
    "# LC_Next Greater Element I\n",
    "\n",
    "# 想不到\n",
    "\n",
    "# 主要知識點：\n",
    "# impressive solution. It's hard to think of using stack when solving this problem. \n",
    "\n",
    "class Solution(object):\n",
    "    def nextGreaterElement(self, nums1, nums2):\n",
    "        stack = []\n",
    "        d = {}\n",
    "        for num in nums2:\n",
    "            while stack and num > stack[-1]:\n",
    "                d[stack.pop()] = num\n",
    "            stack.append(num)\n",
    "        \n",
    "        l = []\n",
    "        for i in nums1:\n",
    "            if i in d:\n",
    "                l.append(d[i])\n",
    "            else:\n",
    "                l.append(-1)\n",
    "            \n",
    "        return l"
   ]
  },
  {
   "cell_type": "code",
   "execution_count": null,
   "metadata": {
    "collapsed": true
   },
   "outputs": [],
   "source": []
  },
  {
   "cell_type": "code",
   "execution_count": null,
   "metadata": {
    "collapsed": true
   },
   "outputs": [],
   "source": [
    "# LC_Implement Queue using Stacks\n",
    "\n",
    "# 想一下 (有很多種解法，各有優缺點)\n",
    "\n",
    "# 主要知識點：\n",
    "# I use Approach #1 (Two Stacks) Push - O(n) per operation, Pop - O(1) per operation.\n",
    "\n",
    "class MyQueue(object):\n",
    "    def __init__(self):\n",
    "        self.stack = []\n",
    "        \n",
    "    def push(self, x):\n",
    "        stack2 = []\n",
    "        while self.stack:\n",
    "            stack2.append(self.stack.pop())\n",
    "        self.stack.append(x)\n",
    "        while stack2:\n",
    "            self.stack.append(stack2.pop())\n",
    "\n",
    "    def pop(self):\n",
    "        res = self.stack.pop()\n",
    "        return res\n",
    "\n",
    "    def peek(self):\n",
    "        return self.stack[-1]\n",
    "        \n",
    "    def empty(self):\n",
    "        return len(self.stack) == 0\n",
    "\n",
    "# below is a better approach, with pop being amortized O(1) \n",
    "# Amortized pop time complexity is O((4n-1)/2n) = O(1) (this amortized analysis actually takes both push and pop into account)\n",
    "# total time: n (for push operations) + 2*n (for first pop operation) + n - 1 ( for pop operations)\n",
    "# total operations: n (push) + n(pop)\n",
    "\n",
    "class MyQueue(object):\n",
    "\n",
    "    def __init__(self):\n",
    "        self.stack = []\n",
    "        self.stack2 = []\n",
    "        \n",
    "    def push(self, x):\n",
    "        self.stack.append(x)\n",
    "\n",
    "    def pop(self):\n",
    "        self.peek()   # although there is return self.stack2[-1] from def peek(). nothing happens here.\n",
    "        return self.stack2.pop()\n",
    "       \n",
    "    def peek(self):\n",
    "        if not self.stack2:\n",
    "            while self.stack:\n",
    "                self.stack2.append(self.stack.pop())\n",
    "        return self.stack2[-1]\n",
    "\n",
    "    def empty(self):\n",
    "        return not self.stack and not self.stack2"
   ]
  },
  {
   "cell_type": "code",
   "execution_count": null,
   "metadata": {
    "collapsed": true
   },
   "outputs": [],
   "source": []
  },
  {
   "cell_type": "code",
   "execution_count": null,
   "metadata": {
    "collapsed": true
   },
   "outputs": [],
   "source": [
    "# LC_Implement Stack using Queues\n",
    "\n",
    "# 想一下 (有很多種解法，各有優缺點)\n",
    "\n",
    "# 主要知識點：\n",
    "# I use the approach of which push is O(1), pop is O(n). and I use two queues\n",
    "# there are approaches like O(n) for push, O(1) for pop...etc\n",
    "\n",
    "from collections import deque\n",
    "# imagine that we can only use deque as the base data strucutre\n",
    "# for which we always append from right and pop from left\n",
    "\n",
    "class MyStack(object):\n",
    "    def __init__(self):\n",
    "        self.queue = deque()\n",
    "        \n",
    "    def push(self, x):\n",
    "        self.queue.append(x)\n",
    "\n",
    "    def pop(self):\n",
    "        queue2 = deque()\n",
    "        while len(self.queue) >1:\n",
    "            queue2.append(self.queue.popleft())\n",
    "        res = self.queue.popleft()\n",
    "        self.queue = queue2\n",
    "        return res\n",
    "        \n",
    "    def top(self):\n",
    "        queue2 = deque()\n",
    "        while len(self.queue) >1:\n",
    "            queue2.append(self.queue.popleft())\n",
    "        res = self.queue.popleft()\n",
    "        queue2.append(res)\n",
    "        self.queue = queue2\n",
    "        return res \n",
    "\n",
    "    def empty(self):\n",
    "        return len(self.queue) == 0"
   ]
  },
  {
   "cell_type": "code",
   "execution_count": null,
   "metadata": {
    "collapsed": true
   },
   "outputs": [],
   "source": []
  },
  {
   "cell_type": "code",
   "execution_count": null,
   "metadata": {
    "collapsed": true
   },
   "outputs": [],
   "source": [
    "# LC_Min Stack\n",
    "\n",
    "# 想一下\n",
    "\n",
    "# 主要知識點：\n",
    "# the minstack is the key here. it records the min sequence along the way when you pop or push.\n",
    "\n",
    "class MinStack(object):\n",
    "    def __init__(self):\n",
    "        self.minstack = [float(\"inf\")]\n",
    "        self.stack = []\n",
    "    def push(self, x):\n",
    "        if x <= self.minstack[-1]:\n",
    "            self.minstack.append(x)\n",
    "        self.stack.append(x)\n",
    "    def pop(self):\n",
    "        pop_ = self.stack.pop() # this statement already pops the stack\n",
    "        if pop_ == self.minstack[-1]:\n",
    "            self.minstack.pop()\n",
    "    def top(self):\n",
    "        return self.stack[-1]\n",
    "    def getMin(self):\n",
    "        return self.minstack[-1]"
   ]
  },
  {
   "cell_type": "code",
   "execution_count": null,
   "metadata": {
    "collapsed": true
   },
   "outputs": [],
   "source": []
  },
  {
   "cell_type": "code",
   "execution_count": null,
   "metadata": {
    "collapsed": true
   },
   "outputs": [],
   "source": [
    "# LC_Valid Parentheses\n",
    "\n",
    "# 想一下\n",
    "\n",
    "# 主要知識點：\n",
    "# Time complexity : O(n) because we simply traverse the given string one character at a time\n",
    "# and push or pop operation on a stack take O(1) time.\n",
    "# Space complexity : O(n) as we push all opening brackets onto the stack and in the worst case,\n",
    "# we will end up pushing all the brackets onto the stack. e.g. ((((((((((.\n",
    "\n",
    "class Solution(object):\n",
    "    def isValid(self, s):\n",
    "        stack = []\n",
    "        d = {'(':')', '[':']', '{':'}'}\n",
    "        for i in s:\n",
    "            if i in d:\n",
    "                stack.append(i)\n",
    "            elif not stack:\n",
    "                return False\n",
    "            else:\n",
    "                top = stack.pop()\n",
    "                if d[top] != i:\n",
    "                    return False\n",
    "        \n",
    "        return not stack"
   ]
  },
  {
   "cell_type": "code",
   "execution_count": null,
   "metadata": {
    "collapsed": true
   },
   "outputs": [],
   "source": []
  },
  {
   "cell_type": "code",
   "execution_count": null,
   "metadata": {
    "collapsed": true
   },
   "outputs": [],
   "source": []
  },
  {
   "cell_type": "code",
   "execution_count": null,
   "metadata": {
    "collapsed": true
   },
   "outputs": [],
   "source": []
  },
  {
   "cell_type": "markdown",
   "metadata": {},
   "source": [
    "# Tree"
   ]
  },
  {
   "cell_type": "code",
   "execution_count": null,
   "metadata": {
    "collapsed": true
   },
   "outputs": [],
   "source": [
    "# ?_tree_traversals\n",
    "\n",
    "# DFS\n",
    "def printInorder(root): \n",
    "  \n",
    "    if root: \n",
    "  \n",
    "        # First recur on left child \n",
    "        printInorder(root.left) \n",
    "  \n",
    "        # then print the data of node \n",
    "        print(root.val), \n",
    "  \n",
    "        # now recur on right child \n",
    "        printInorder(root.right) \n",
    "# A function to do postorder tree traversal\n",
    "def printPostorder(root): \n",
    "  \n",
    "    if root: \n",
    "  \n",
    "        # First recur on left child \n",
    "        printPostorder(root.left) \n",
    "  \n",
    "        # the recur on right child \n",
    "        printPostorder(root.right) \n",
    "  \n",
    "        # now print the data of node \n",
    "        print(root.val), \n",
    "  \n",
    "  \n",
    "# A function to do preorder tree traversal \n",
    "def printPreorder(root): \n",
    "  \n",
    "    if root: \n",
    "  \n",
    "        # First print the data of node \n",
    "        print(root.val), \n",
    "  \n",
    "        # Then recur on left child \n",
    "        printPreorder(root.left) \n",
    "  \n",
    "        # Finally recur on right child \n",
    "        printPreorder(root.right) \n",
    "        \n",
    "\n",
    "# BFS\n",
    "class Node: \n",
    "    # A utility function to create a new node \n",
    "    def __init__(self ,key): \n",
    "        self.data = key \n",
    "        self.left = None\n",
    "        self.right = None\n",
    "        \n",
    "# Iterative Method to print the height of binary tree \n",
    "def printLevelOrder(root): \n",
    "    # Base Case \n",
    "    if root is None: \n",
    "        return\n",
    "      \n",
    "    # Create an empty queue for level order traversal \n",
    "    queue = [] \n",
    "  \n",
    "    # Enqueue Root and initialize height \n",
    "    queue.append(root) \n",
    "  \n",
    "    while(len(queue) > 0): \n",
    "        # Print front of queue and remove it from queue \n",
    "        print queue[0].data, \n",
    "        node = queue.pop(0) \n",
    "  \n",
    "        #Enqueue left child \n",
    "        if node.left is not None: \n",
    "            queue.append(node.left) \n",
    "  \n",
    "        # Enqueue right child \n",
    "        if node.right is not None: \n",
    "            queue.append(node.right)"
   ]
  },
  {
   "cell_type": "code",
   "execution_count": null,
   "metadata": {
    "collapsed": true
   },
   "outputs": [],
   "source": []
  },
  {
   "cell_type": "code",
   "execution_count": null,
   "metadata": {
    "collapsed": true
   },
   "outputs": [],
   "source": [
    "# LC_Lowest Common Ancestor of a Binary Search Tree_iteration\n",
    "\n",
    "# 想一下\n",
    "\n",
    "# 主要知識點：\n",
    "# Time Complexity : O(N), where N is the number of nodes in the BST. \n",
    "# In the worst case we might be visiting all the nodes of the BST. (e.g. to the end of completely unbalanced tree)\n",
    "# Space Complexity : O(1).\n",
    "\n",
    "class Solution(object):\n",
    "    def lowestCommonAncestor(self, root, p, q):\n",
    "        # problem notes\n",
    "        # 1, All of the nodes' values will be unique.\n",
    "        # 2, p and q are different and both values will exist in the BST.\n",
    "        while True:\n",
    "            if p.val <= root.val <= q.val or q.val <= root.val <= p.val:\n",
    "                return root \n",
    "            if p.val > root.val and q.val > root.val:\n",
    "                root = root.right\n",
    "            elif p.val < root.val and q.val < root.val:\n",
    "                root = root.left"
   ]
  },
  {
   "cell_type": "code",
   "execution_count": null,
   "metadata": {
    "collapsed": true
   },
   "outputs": [],
   "source": [
    "# LC_Lowest Common Ancestor of a Binary Search Tree_recursion\n",
    "\n",
    "# 想一下\n",
    "\n",
    "# 主要知識點：\n",
    "# Time Complexity: O(N). like time complexity of iteration approach\n",
    "# Space Complexity: O(N). This is because the maximum amount of \n",
    "# space utilized by the recursion stack would be N since the height of a skewed BST could be N. \n",
    "\n",
    "class Solution(object):\n",
    "    def lowestCommonAncestor(self, root, p, q):\n",
    "        # problem notes\n",
    "        # 1, All of the nodes' values will be unique.\n",
    "        # 2, p and q are different and both values will exist in the BST.\n",
    "        if min(p.val, q.val) <= root.val <= max(p.val, q.val):\n",
    "            return root\n",
    "        if max(p.val, q.val) < root.val:\n",
    "            return self.lowestCommonAncestor(root.left, p, q)\n",
    "        if min(p.val, q.val) > root.val:\n",
    "            return self.lowestCommonAncestor(root.right, p, q)"
   ]
  },
  {
   "cell_type": "code",
   "execution_count": null,
   "metadata": {
    "collapsed": true
   },
   "outputs": [],
   "source": []
  },
  {
   "cell_type": "code",
   "execution_count": null,
   "metadata": {
    "collapsed": true
   },
   "outputs": [],
   "source": [
    "# LC_Invert Binary Tree_recursion\n",
    "\n",
    "# 想一下\n",
    "\n",
    "# 主要知識點：\n",
    "# top-down approach from root to leaf, magical function is the key, preorder\n",
    "\n",
    "class Solution(object):\n",
    "    def invertTree(self, root):\n",
    "        \"\"\"\n",
    "        :type root: TreeNode\n",
    "        :rtype: TreeNode\n",
    "        \"\"\"\n",
    "        \n",
    "        if not root:\n",
    "            return None\n",
    "        \n",
    "        root.left, root.right = root.right, root.left\n",
    "        \n",
    "        self.invertTree(root.left)\n",
    "        self.invertTree(root.right)\n",
    "        \n",
    "        return root\n",
    "\n",
    "    \n",
    "# 主要知識點：\n",
    "# bottom-up approach from leaf to root\n",
    "class Solution(object):\n",
    "    def invertTree(self, root):\n",
    "        \"\"\"\n",
    "        :type root: TreeNode\n",
    "        :rtype: TreeNode\n",
    "        \"\"\"\n",
    "        if root:\n",
    "            root.left, root.right = self.invertTree(root.right), self.invertTree(root.left)\n",
    "        return root"
   ]
  },
  {
   "cell_type": "code",
   "execution_count": null,
   "metadata": {
    "collapsed": true
   },
   "outputs": [],
   "source": [
    "# LC_Invert Binary Tree_iteration\n",
    "\n",
    "# 想一下 (想不到 for iteration approach)\n",
    "\n",
    "# iteration approach always come with some data structures. Therefore, when using iteration approach, \n",
    "# think of what data structures to store what at when. below is a very good example!\n",
    "# variable level is used for the current level, while q is used to store next level for next while-loop variable level\n",
    "\n",
    "class Solution(object):\n",
    "    def invertTree(self, root):\n",
    "        \"\"\"\n",
    "        :type root: TreeNode\n",
    "        :rtype: TreeNode\n",
    "        \"\"\"\n",
    "        level = [root] if root else []\n",
    "        while level:\n",
    "            q = []\n",
    "            for node in level:\n",
    "                if node.left:\n",
    "                    q.append(node.left)                \n",
    "                if node.right:\n",
    "                    q.append(node.right)\n",
    "                node.left, node.right = node.right, node.left           \n",
    "            level = q\n",
    "        return root\n",
    "\n",
    "\n",
    "# p = TreeNode(3)\n",
    "# p.left = TreeNode(4)\n",
    "# p.right = TreeNode(5)\n",
    "# p.left.left = TreeNode(40)\n",
    "\n",
    "# a = p.left\n",
    "# a.left = TreeNode(111)\n",
    "# # print(p.left.left.val) will print 111"
   ]
  },
  {
   "cell_type": "code",
   "execution_count": null,
   "metadata": {
    "collapsed": true
   },
   "outputs": [],
   "source": []
  },
  {
   "cell_type": "code",
   "execution_count": 1,
   "metadata": {},
   "outputs": [
    {
     "data": {
      "text/plain": [
       "True"
      ]
     },
     "execution_count": 1,
     "metadata": {},
     "output_type": "execute_result"
    }
   ],
   "source": [
    "# LC_Same Tree_recursion\n",
    "\n",
    "# 想不到\n",
    "\n",
    "# 主要知識點：\n",
    "# a bit of DFS concept behind this\n",
    "# Time complexity: O(N),  where N is a number of nodes in the tree, since one visits each node exactly once.\n",
    "# Space Complexity: O(log(N)) in the best case of completely balanced tree and\n",
    "# O(N) in the worst case of completely unbalanced tree, to keep a recursion stack.\n",
    "\n",
    "class TreeNode(object):\n",
    "    def __init__(self, x):\n",
    "        self.val = x\n",
    "        self.right = None\n",
    "        self.left = None\n",
    "        \n",
    "class Solution(object):\n",
    "    def isSameTree(self, p, q):\n",
    "        if not p and not q:\n",
    "            return True\n",
    "        if not p or not q:\n",
    "            return False\n",
    "        if p.val != q.val:\n",
    "            return False\n",
    "        \n",
    "        return self.isSameTree(p.left, q.left) and self.isSameTree(p.right, q.right)\n",
    "    \n",
    "p = TreeNode(3)\n",
    "p.left = TreeNode(4)\n",
    "p.right = TreeNode(5)\n",
    "p.left.left = TreeNode(40)\n",
    "\n",
    "q = TreeNode(3)\n",
    "q.left = TreeNode(4)\n",
    "q.right = TreeNode(5)\n",
    "q.left.left = TreeNode(40)\n",
    "\n",
    "Solution().isSameTree(p,q)"
   ]
  },
  {
   "cell_type": "code",
   "execution_count": 23,
   "metadata": {},
   "outputs": [
    {
     "data": {
      "text/plain": [
       "True"
      ]
     },
     "execution_count": 23,
     "metadata": {},
     "output_type": "execute_result"
    }
   ],
   "source": [
    "# LC_Same Tree_iteration\n",
    "\n",
    "\n",
    "# 想不到\n",
    "\n",
    "# 主要知識點：\n",
    "# a bit of BFS concept behind this\n",
    "# Time complexity : O(N) since each node is visited exactly once.\n",
    "# Space complexity : O(N) for balanced tree. O(1) for completely unbalanced tree (Leetcode's complexity analysis is wrong)\n",
    "\n",
    "from collections import deque\n",
    "\n",
    "class TreeNode(object):\n",
    "    def __init__(self, x):\n",
    "        self.val = x\n",
    "        self.right = None\n",
    "        self.left = None     \n",
    "        \n",
    "class Solution(object):\n",
    "    def isSameTree(self, p, q):\n",
    "        \n",
    "        def check(p,q):\n",
    "            if not p and not q:\n",
    "                return True\n",
    "            if not p or not q:\n",
    "                return False\n",
    "            if p.val != q.val:\n",
    "                return False\n",
    "            \n",
    "            return True # i.e. p.val == q.val\n",
    "\n",
    "            \n",
    "        deq = deque([(p,q)])\n",
    "        while deq:\n",
    "            # print(len(deq))   # used for testing space complexity\n",
    "            p, q = deq.popleft()\n",
    "            if not check(p,q):\n",
    "                return False\n",
    "            \n",
    "            \n",
    "            if p:\n",
    "                deq.append((p.left, q.left))\n",
    "                deq.append((p.right, q.right))\n",
    "        \n",
    "        return True\n",
    "\n",
    "p = TreeNode(3)\n",
    "p.left = TreeNode(4)\n",
    "p.right = TreeNode(5)\n",
    "\n",
    "\n",
    "q = TreeNode(3)\n",
    "q.left = TreeNode(4)\n",
    "q.right = TreeNode(5)\n",
    "\n",
    "\n",
    "Solution().isSameTree(p,q)"
   ]
  },
  {
   "cell_type": "code",
   "execution_count": null,
   "metadata": {
    "collapsed": true
   },
   "outputs": [],
   "source": []
  },
  {
   "cell_type": "code",
   "execution_count": 34,
   "metadata": {},
   "outputs": [
    {
     "data": {
      "text/plain": [
       "True"
      ]
     },
     "execution_count": 34,
     "metadata": {},
     "output_type": "execute_result"
    }
   ],
   "source": [
    "# LC_Symmetric Tree_recursion\n",
    "\n",
    "\n",
    "# 想很久\n",
    "\n",
    "# 主要知識點：\n",
    "# a bit of DFS concept behind this\n",
    "# Time complexity : O(N) since each node is visited exactly once.\n",
    "# Space complexity : The number of recursive calls is bound by the height of the tree. \n",
    "# In the worst case(left child has only left child; right has only right), the tree is linear and the height is in n/2\n",
    "# Therefore, space complexity due to recursive calls on the stack is O(n) in the worst case. \n",
    "\n",
    "\n",
    "\n",
    "class TreeNode(object):\n",
    "    def __init__(self, x):\n",
    "        self.val = x\n",
    "        self.right = None\n",
    "        self.left = None     \n",
    "\n",
    "class Solution(object):\n",
    "    def isSymmetric(self, root):\n",
    "        \"\"\"\n",
    "        :type root: TreeNode\n",
    "        :rtype: bool\n",
    "        \"\"\"\n",
    "        \n",
    "        if not root:\n",
    "            return True\n",
    "        t1 = root.left\n",
    "        t2 = root.right\n",
    "        return self.isMirror(t1, t2)\n",
    "    \n",
    "    def isMirror(self, t1, t2):\n",
    "        if not t1 and not t2:\n",
    "            return True\n",
    "        if not t1 or not t2:\n",
    "            return False\n",
    "        if t1.val != t2.val:\n",
    "            return False\n",
    "        return self.isMirror(t1.left, t2.right) and self.isMirror(t1.right, t2.left)\n",
    "\n",
    "q = TreeNode(3)\n",
    "q.left = TreeNode(4)\n",
    "q.left.left = TreeNode(1)\n",
    "q.right = TreeNode(4)\n",
    "q.right.right = TreeNode(1)\n",
    "\n",
    "Solution().isSymmetric(q)"
   ]
  },
  {
   "cell_type": "code",
   "execution_count": 39,
   "metadata": {},
   "outputs": [
    {
     "data": {
      "text/plain": [
       "True"
      ]
     },
     "execution_count": 39,
     "metadata": {},
     "output_type": "execute_result"
    }
   ],
   "source": [
    "# LC_Symmetric Tree_iteration\n",
    "\n",
    "\n",
    "# 想很久\n",
    "\n",
    "# 主要知識點：\n",
    "# a bit of BFS concept behind this\n",
    "# Time complexity : O(N) since each node is visited exactly once.\n",
    "# Space complexity :  In the worst case(balanced tree), we have to insert about n nodes(number of leaves*2, all None) \n",
    "# in the queue. Therefore, space complexity is O(n).\n",
    "\n",
    "from collections import deque\n",
    "\n",
    "class TreeNode(object):\n",
    "    def __init__(self, x):\n",
    "        self.val = x\n",
    "        self.right = None\n",
    "        self.left = None     \n",
    "        \n",
    "class Solution(object):\n",
    "    def isSymmetric(self, root):\n",
    "        \"\"\"\n",
    "        :type root: TreeNode\n",
    "        :rtype: bool\n",
    "        \"\"\"\n",
    "        \n",
    "        if not root:\n",
    "            return True\n",
    "        t1 = root.left\n",
    "        t2 = root.right\n",
    "         \n",
    "        deq = deque()\n",
    "        deq.append(t1)\n",
    "        deq.append(t2)\n",
    "        while deq:\n",
    "            p = deq.popleft()\n",
    "            q = deq.popleft()\n",
    "            if not p and not q:\n",
    "                pass \n",
    "            elif not p or not q:\n",
    "                return False\n",
    "            elif p.val != q.val:\n",
    "                return False\n",
    "            \n",
    "            if p:\n",
    "                deq.append(p.left)\n",
    "                deq.append(q.right)\n",
    "                deq.append(p.right)\n",
    "                deq.append(q.left)\n",
    "        \n",
    "        return True\n",
    "                \n",
    "\n",
    "q = TreeNode(3)\n",
    "q.left = TreeNode(4)\n",
    "q.left.left = TreeNode(1)\n",
    "q.right = TreeNode(4)\n",
    "q.right.right = TreeNode(1)\n",
    "\n",
    "Solution().isSymmetric(q)"
   ]
  },
  {
   "cell_type": "code",
   "execution_count": null,
   "metadata": {
    "collapsed": true
   },
   "outputs": [],
   "source": []
  },
  {
   "cell_type": "code",
   "execution_count": 4,
   "metadata": {},
   "outputs": [
    {
     "data": {
      "text/plain": [
       "3"
      ]
     },
     "execution_count": 4,
     "metadata": {},
     "output_type": "execute_result"
    }
   ],
   "source": [
    "# LC_Maximum Depth of Binary Tree_recursion\n",
    "\n",
    "\n",
    "# 想不到\n",
    "\n",
    "# 主要知識點：\n",
    "# a bit of DFS concept behind this\n",
    "\n",
    "\n",
    "class TreeNode(object):\n",
    "    def __init__(self, x):\n",
    "        self.val = x\n",
    "        self.right = None\n",
    "        self.left = None     \n",
    "        \n",
    "class Solution(object):\n",
    "    def maxDepth(self, root):\n",
    "        \"\"\"\n",
    "        :type root: TreeNode\n",
    "        :rtype: bool\n",
    "        \"\"\"\n",
    "        if not root:\n",
    "            return 0\n",
    "        l = self.maxDepth(root.left)\n",
    "        r = self.maxDepth(root.right)\n",
    "        return max(l,r)+1\n",
    "       \n",
    "                \n",
    "\n",
    "q = TreeNode(3)\n",
    "q.left = TreeNode(4)\n",
    "q.left.left = TreeNode(1)\n",
    "q.right = TreeNode(4)\n",
    "q.right.right = TreeNode(1)\n",
    "\n",
    "Solution().maxDepth(q)"
   ]
  },
  {
   "cell_type": "code",
   "execution_count": null,
   "metadata": {
    "collapsed": true
   },
   "outputs": [],
   "source": [
    "# LC_Maximum Depth of Binary Tree_recursion\n",
    "\n",
    "# 想不到\n",
    "\n",
    "# 主要知識點：\n",
    "# a bit of BFS concept behind this\n",
    "\n",
    "\n",
    "import collections\n",
    "class Solution:\n",
    "    def maxDepth(self, root: TreeNode) -> int:\n",
    "\t    # Obvious check\n",
    "        if not root: \n",
    "            return 0\n",
    "        \n",
    "\t\t# push the current root to a queue\n",
    "\t\t# here use deque, using list seems similar performance\n",
    "        q = collections.deque([])  \n",
    "        \n",
    "\t\t# Enqueue the current root\n",
    "        q.append(root)\n",
    "\t\t\n",
    "\t\t# Initialize teh height to 0\n",
    "        height =0\n",
    "        \n",
    "        while True:\n",
    "\t\t\n",
    "            nodeCount = len(q)\n",
    "            \n",
    "            if not nodeCount:\n",
    "                return height\n",
    "            \n",
    "            height += 1\n",
    "            \n",
    "\t\t\t# The main idea here is to dequeue the current root but enqueue it's r/l children\n",
    "\t\t\t# Using the nodeCount as count down to do level by level operation.\n",
    "            while nodeCount > 0:\n",
    "                root = q.popleft()\n",
    "                \n",
    "                if root.left:\n",
    "                    q.append(root.left)\n",
    "                    \n",
    "                if root.right:\n",
    "                    q.append(root.right)\n",
    "                    \n",
    "                nodeCount -= 1"
   ]
  },
  {
   "cell_type": "code",
   "execution_count": null,
   "metadata": {
    "collapsed": true
   },
   "outputs": [],
   "source": []
  },
  {
   "cell_type": "code",
   "execution_count": null,
   "metadata": {
    "collapsed": true
   },
   "outputs": [],
   "source": [
    "# LC_Binary Tree Level Order Traversal II_iteration\n",
    "\n",
    "# 想不到\n",
    "\n",
    "\n",
    "# Definition for a binary tree node.\n",
    "# class TreeNode(object):\n",
    "#     def __init__(self, x):\n",
    "#         self.val = x\n",
    "#         self.left = None\n",
    "#         self.right = None\n",
    "\n",
    "from collections import deque\n",
    "\n",
    "class Solution(object):\n",
    "    def levelOrderBottom(self, root):\n",
    "        \"\"\"\n",
    "        :type root: TreeNode\n",
    "        :rtype: List[List[int]]\n",
    "        \"\"\"\n",
    "        if root is None:\n",
    "            return []\n",
    "        \n",
    "        level = []\n",
    "        level.append(root)\n",
    "        result = deque()\n",
    "        \n",
    "        while level:\n",
    "            l = [n.val for n in level]\n",
    "            result.appendleft(l)\n",
    "            \n",
    "            reset = []\n",
    "            for s in level:\n",
    "                if s.left:\n",
    "                    reset.append(s.left)\n",
    "                if s.right:\n",
    "                    reset.append(s.right)\n",
    "            level = reset\n",
    "            \n",
    "        return list(result)"
   ]
  },
  {
   "cell_type": "code",
   "execution_count": null,
   "metadata": {
    "collapsed": true
   },
   "outputs": [],
   "source": [
    "# LC_Binary Tree Level Order Traversal II_recursion\n",
    "\n",
    "# 想不到\n",
    "\n",
    "\n",
    "class Solution(object):\n",
    "    def levelOrderBottom(self, root):\n",
    "        \"\"\"\n",
    "        :type root: TreeNode\n",
    "        :rtype: List[List[int]]\n",
    "        \"\"\"\n",
    "        r = []\n",
    "        \n",
    "        def tra(root, level):\n",
    "            if not root:\n",
    "                return []\n",
    "            if level>= len(r):\n",
    "                r.append([root.val])\n",
    "            else:\n",
    "                r[level].append(root.val)\n",
    "            \n",
    "            tra(root.left, level+1)\n",
    "            tra(root.right, level+1)\n",
    "            \n",
    "        tra(root, 0)\n",
    "        return r[::-1]\n"
   ]
  },
  {
   "cell_type": "code",
   "execution_count": null,
   "metadata": {
    "collapsed": true
   },
   "outputs": [],
   "source": []
  },
  {
   "cell_type": "code",
   "execution_count": null,
   "metadata": {
    "collapsed": true
   },
   "outputs": [],
   "source": [
    "# LC_Convert Sorted Array to Binary Search Tree_recursion\n",
    "\n",
    "# 想不到\n",
    "\n",
    "# 主要知識點：\n",
    "# This question is easier done using recursion \n",
    "\n",
    "class Solution(object):\n",
    "    def sortedArrayToBST(self, nums):\n",
    "        \"\"\"\n",
    "        :type nums: List[int]\n",
    "        :rtype: TreeNode\n",
    "        \"\"\"\n",
    "        if not nums:\n",
    "            return None\n",
    "        mid_index = len(nums)//2\n",
    "        node = TreeNode(nums[mid_index])\n",
    "        node.left = self.sortedArrayToBST(nums[:mid_index])\n",
    "        node.right = self.sortedArrayToBST(nums[mid_index+1:])\n",
    "        \n",
    "        return node"
   ]
  },
  {
   "cell_type": "code",
   "execution_count": null,
   "metadata": {
    "collapsed": true
   },
   "outputs": [],
   "source": []
  },
  {
   "cell_type": "code",
   "execution_count": null,
   "metadata": {
    "collapsed": true
   },
   "outputs": [],
   "source": [
    "# LC_Balanced Binary Tree_recursion\n",
    "\n",
    "# 想不到\n",
    "\n",
    "# 主要知識點：\n",
    "# recursion method is easier than the iteration one in this problem\n",
    "\n",
    "class Solution(object):\n",
    "    balanced = True\n",
    "    def isBalanced(self, root):\n",
    "        \"\"\"\n",
    "        :type root: TreeNode\n",
    "        :rtype: bool\n",
    "        \"\"\"\n",
    "        self.get_height(root)\n",
    "        return self.balanced    \n",
    "    \n",
    "    def get_height(self, root):\n",
    "        if root is None:\n",
    "            return 0 \n",
    "\n",
    "        left = self.get_height(root.left)\n",
    "        right = self.get_height(root.right)\n",
    "\n",
    "        if abs(left - right) >1:\n",
    "            self.balanced = False\n",
    "\n",
    "        return max(left, right)+1\n",
    "    \n",
    "# Below is a faster solution beating 98% with a 40ms runtime. \n",
    "# The moment you find imbalance, pass that all the way back up and skip doing anymore recursion.\n",
    "\n",
    "# class Solution(object):\n",
    "#     def isBalanced(self, root):\n",
    "#         def check(root):\n",
    "#             if not root:\n",
    "#                 return 0\n",
    "            \n",
    "#             left = check(root.left)\n",
    "#             if left == -1:\n",
    "#                 return -1\n",
    "#             right = check(root.right)\n",
    "#             if right == -1:\n",
    "#                 return -1\n",
    "            \n",
    "#             if abs(left - right) > 1:\n",
    "#                 return -1\n",
    "#             return max(left, right) + 1\n",
    "        \n",
    "#         return check(root) != -1"
   ]
  },
  {
   "cell_type": "code",
   "execution_count": null,
   "metadata": {
    "collapsed": true
   },
   "outputs": [],
   "source": [
    "# LC_Balanced Binary Tree_iteration\n",
    "\n",
    "# 想不到\n",
    "\n",
    "# 主要知識點：\n",
    "# use postorder traversal! Once you understand that what behind this iteration code is postorder traversal, \n",
    "# the code will be much readable\n",
    "\n",
    "class Solution(object):\n",
    "    def isBalanced(self, root):\n",
    "        stack, node, last, depths = [], root, None, {}\n",
    "        while stack or node:\n",
    "            if node:\n",
    "                stack.append(node)\n",
    "                node = node.left\n",
    "            else:\n",
    "                node = stack[-1]\n",
    "                if not node.right or last == node.right:\n",
    "                    node = stack.pop()\n",
    "                    left, right  = depths.get(node.left, 0), depths.get(node.right, 0)\n",
    "                    if abs(left - right) > 1: return False\n",
    "                    depths[node] = 1 + max(left, right)\n",
    "                    last = node\n",
    "                    node = None\n",
    "                else:\n",
    "                    node = node.right\n",
    "        return True"
   ]
  },
  {
   "cell_type": "code",
   "execution_count": null,
   "metadata": {
    "collapsed": true
   },
   "outputs": [],
   "source": []
  },
  {
   "cell_type": "code",
   "execution_count": null,
   "metadata": {
    "collapsed": true
   },
   "outputs": [],
   "source": [
    "# LC_Minimum Depth of Binary Tree_recursion\n",
    "\n",
    "# 想很久\n",
    "\n",
    "# 主要知識點：\n",
    "# be careful of the edge case! e.g. When left or right node of root is None, min(left, right) + 1 doesn't work anymore, \n",
    "# e.g. the min depth of the tree below is 3 not 1. Therefore, min(left, right)  won't work. use max(left, right)\n",
    "    3\n",
    "      2\n",
    "        4\n",
    "\n",
    "\n",
    "class Solution(object):\n",
    "    def minDepth(self, root):\n",
    "        \"\"\"\n",
    "        :type root: TreeNode\n",
    "        :rtype: int\n",
    "        \"\"\"\n",
    "        if not root:\n",
    "            return 0\n",
    "        left = self.minDepth(root.left)\n",
    "        right = self.minDepth(root.right)\n",
    "        if left == 0 or right == 0:\n",
    "            return max(left, right)+1\n",
    "        return min(left, right)+1\n",
    "    \n",
    "# Below is a faster solution beating 98% with a 40ms runtime. \n",
    "# The moment you find imbalance, pass that all the way back up and skip doing anymore recursion.\n",
    "\n",
    "# class Solution(object):\n",
    "#     def isBalanced(self, root):\n",
    "#         def check(root):\n",
    "#             if not root:\n",
    "#                 return 0\n",
    "            \n",
    "#             left = check(root.left)\n",
    "#             if left == -1:\n",
    "#                 return -1\n",
    "#             right = check(root.right)\n",
    "#             if right == -1:\n",
    "#                 return -1\n",
    "            \n",
    "#             if abs(left - right) > 1:\n",
    "#                 return -1\n",
    "#             return max(left, right) + 1\n",
    "        \n",
    "#         return check(root) != -1"
   ]
  },
  {
   "cell_type": "code",
   "execution_count": null,
   "metadata": {
    "collapsed": true
   },
   "outputs": [],
   "source": [
    "# LC_Minimum Depth of Binary Tree_iteration\n",
    "\n",
    "# 想很久\n",
    "\n",
    "# 主要知識點：\n",
    "# BFS. iteration is always (not must be)related to BFS. Therefore, when building a solution, think of BFS.\n",
    "\n",
    "class Solution(object):\n",
    "    def minDepth(self, root):\n",
    "        \"\"\"\n",
    "        :type root: TreeNode\n",
    "        :rtype: int\n",
    "        \"\"\"\n",
    "        if not root:\n",
    "            return 0  \n",
    "        depth, level = 0, [root]\n",
    "        while level:\n",
    "            depth += 1\n",
    "            temp = []\n",
    "            for node in level:\n",
    "                l, r = node.left, node.right\n",
    "                if not l and not r:\n",
    "                    return depth\n",
    "                if l:\n",
    "                    temp.append(l)\n",
    "                if r:\n",
    "                    temp.append(r)\n",
    "            level = temp\n",
    "        return depth"
   ]
  },
  {
   "cell_type": "code",
   "execution_count": null,
   "metadata": {
    "collapsed": true
   },
   "outputs": [],
   "source": []
  },
  {
   "cell_type": "code",
   "execution_count": null,
   "metadata": {
    "collapsed": true
   },
   "outputs": [],
   "source": [
    "# LC_Path Sum_recursion\n",
    "\n",
    "# 想不到\n",
    "\n",
    "# 主要知識點：\n",
    "# gradually, I kind of get the trick of writing recursive code:\n",
    "# step1, base case. step2, imagine there is a magical function. step3, use step1 and step2 to complete the function\n",
    "\n",
    "\n",
    "class Solution(object):\n",
    "    def hasPathSum(self, root, sum):\n",
    "        \"\"\"\n",
    "        :type root: TreeNode\n",
    "        :type sum: int\n",
    "        :rtype: bool\n",
    "        \"\"\"\n",
    "\n",
    "        if not root:\n",
    "            return False\n",
    "        \n",
    "        if (root.val - sum) == 0 and root.left is None and root.right is None:\n",
    "            return True\n",
    "        if root.left != None:\n",
    "            if self.hasPathSum(root.left, sum-root.val):\n",
    "                return True\n",
    "            \n",
    "        if root.right != None:\n",
    "            if self.hasPathSum(root.right, sum-root.val):\n",
    "                return True\n",
    "        \n",
    "        return False"
   ]
  },
  {
   "cell_type": "code",
   "execution_count": null,
   "metadata": {
    "collapsed": true
   },
   "outputs": [],
   "source": [
    "# LC_Path Sum_iteration\n",
    "\n",
    "# 想不到\n",
    "\n",
    "# 主要知識點：\n",
    "# when encountering iteration, think of BFS (sometimes post-order). And BFS is normally implemented with queue+loop \n",
    "\n",
    "from collections import deque\n",
    "class Solution(object):\n",
    "    def hasPathSum(self, root, sum):\n",
    "        \"\"\"\n",
    "        :type root: TreeNode\n",
    "        :type sum: int\n",
    "        :rtype: bool\n",
    "        \"\"\"\n",
    "        if not root:\n",
    "            return False\n",
    "\n",
    "        deq = deque([(root, root.val)])\n",
    "        temp = []\n",
    "        \n",
    "        while deq:\n",
    "            n, v = deq.popleft()\n",
    "            if not n.left and not n.right:\n",
    "                temp.append(v)\n",
    "            if n.left:\n",
    "                deq.append((n.left, v+n.left.val))\n",
    "            if n.right:\n",
    "                deq.append((n.right, v+n.right.val))\n",
    "        \n",
    "        return sum in temp"
   ]
  },
  {
   "cell_type": "code",
   "execution_count": null,
   "metadata": {
    "collapsed": true
   },
   "outputs": [],
   "source": []
  },
  {
   "cell_type": "code",
   "execution_count": null,
   "metadata": {
    "collapsed": true
   },
   "outputs": [],
   "source": []
  },
  {
   "cell_type": "code",
   "execution_count": null,
   "metadata": {
    "collapsed": true
   },
   "outputs": [],
   "source": []
  },
  {
   "cell_type": "code",
   "execution_count": null,
   "metadata": {
    "collapsed": true
   },
   "outputs": [],
   "source": []
  },
  {
   "cell_type": "code",
   "execution_count": null,
   "metadata": {
    "collapsed": true
   },
   "outputs": [],
   "source": []
  },
  {
   "cell_type": "code",
   "execution_count": null,
   "metadata": {
    "collapsed": true
   },
   "outputs": [],
   "source": []
  },
  {
   "cell_type": "markdown",
   "metadata": {},
   "source": [
    "# Linked List"
   ]
  },
  {
   "cell_type": "code",
   "execution_count": null,
   "metadata": {
    "collapsed": true
   },
   "outputs": [],
   "source": [
    "# LC_Design Linked List\n",
    "\n",
    "# 想不到 ( 這題corner case很多 )\n",
    "\n",
    "# 主要知識點：\n",
    "# 2 tricks. 1, use a variable, size, to facilitate operations. 2, many corner cases in this problem\n",
    "\n",
    "\n",
    "class ListNode:\n",
    "    def __init__(self, x):\n",
    "        self.val = x\n",
    "        self.next = None\n",
    "        \n",
    "class MyLinkedList(object):\n",
    "\n",
    "    def __init__(self):\n",
    "        self.head = None\n",
    "        self.size = 0\n",
    "\n",
    "    def get(self, index):\n",
    "        if index < 0 or index >= self.size:\n",
    "            return -1\n",
    "        cur = self.head\n",
    "        for i in range(index):\n",
    "            cur = cur.next      \n",
    "        return cur.val\n",
    "        \n",
    "    def addAtHead(self, val):\n",
    "        self.addAtIndex(0, val)   \n",
    "\n",
    "    def addAtTail(self, val):\n",
    "        self.addAtIndex(self.size, val)\n",
    "    \n",
    "    def addAtIndex(self, index, val):\n",
    "        if index > self.size:\n",
    "            return None\n",
    "        if index < 0:\n",
    "            index = 0\n",
    "        node = ListNode(val)\n",
    "        if index == 0:\n",
    "            node.next = self.head\n",
    "            self.head = node\n",
    "            self.size += 1\n",
    "        else:\n",
    "            cur = self.head \n",
    "            for i in range(1, index):\n",
    "                cur = cur.next\n",
    "            node.next = cur.next\n",
    "            cur.next = node\n",
    "            self.size += 1\n",
    "        \n",
    "    def deleteAtIndex(self, index):\n",
    "        if index < 0 or index >= self.size:\n",
    "            return \n",
    "        if index == 0:\n",
    "            self.head = self.head.next\n",
    "            self.size -= 1\n",
    "        else:\n",
    "            cur = self.head\n",
    "            for i in range(1, index):\n",
    "                cur = cur.next\n",
    "            cur.next = cur.next.next\n",
    "            self.size -= 1"
   ]
  },
  {
   "cell_type": "code",
   "execution_count": null,
   "metadata": {
    "collapsed": true
   },
   "outputs": [],
   "source": []
  },
  {
   "cell_type": "code",
   "execution_count": null,
   "metadata": {
    "collapsed": true
   },
   "outputs": [],
   "source": [
    "# LC_Middle of the Linked List\n",
    "\n",
    "# 想一下\n",
    "\n",
    "# 主要知識點：\n",
    "# use two pointers\n",
    "# Time Complexity: O(N), where N is the number of nodes in the given list.\n",
    "# Space Complexity: O(1), the space used by slow and fast. \n",
    "\n",
    "class Solution(object):\n",
    "    def middleNode(self, head):\n",
    "        slow = fast = head\n",
    "        while fast.next and fast.next.next:\n",
    "            fast = fast.next.next\n",
    "            slow = slow.next\n",
    "        # if number of nodes is even, not odd.\n",
    "        if fast.next:\n",
    "            slow = slow.next\n",
    "        return slow"
   ]
  },
  {
   "cell_type": "code",
   "execution_count": null,
   "metadata": {
    "collapsed": true
   },
   "outputs": [],
   "source": []
  },
  {
   "cell_type": "code",
   "execution_count": null,
   "metadata": {
    "collapsed": true
   },
   "outputs": [],
   "source": [
    "# LC_Merge Two Sorted Lists_iteration\n",
    "\n",
    "# 想一下\n",
    "\n",
    "# 主要知識點：\n",
    "# while l1 and l2, while l1, while l2... good technique!\n",
    "\n",
    "\n",
    "class Solution(object):\n",
    "    def mergeTwoLists(self, l1, l2):\n",
    "        \"\"\"\n",
    "        :type l1: ListNode\n",
    "        :type l2: ListNode\n",
    "        :rtype: ListNode\n",
    "        \"\"\" \n",
    "        new = ListNode(0)\n",
    "        new1 = new\n",
    "        while l1 and l2:\n",
    "            if l1.val <= l2.val:\n",
    "                new.next = l1\n",
    "                l1 = l1.next\n",
    "                new = new.next\n",
    "            else:\n",
    "                new.next = l2\n",
    "                l2 = l2.next\n",
    "                new = new.next\n",
    "        while l1:\n",
    "            new.next = l1\n",
    "            l1 = l1.next\n",
    "            new = new.next\n",
    "        \n",
    "        while l2:\n",
    "            new.next = l2\n",
    "            l2 = l2.next\n",
    "            new = new.next\n",
    "                \n",
    "        return new1.next"
   ]
  },
  {
   "cell_type": "code",
   "execution_count": null,
   "metadata": {
    "collapsed": true
   },
   "outputs": [],
   "source": [
    "# LC_Merge Two Sorted Lists_recursion\n",
    "\n",
    "# 想一下  (recur的解法想不到)\n",
    "\n",
    "# 主要知識點：\n",
    "# This solution on the Internet is brilliant. Look at that! recursion approach can recur in different ways!!!\n",
    "# But.. 3 steps\n",
    "# base, magical function, use them to build the recursion functions\n",
    "\n",
    "\n",
    "class Solution(object):\n",
    "    def mergeTwoLists(self, l1, l2):\n",
    "        \"\"\"\n",
    "        :type l1: ListNode\n",
    "        :type l2: ListNode\n",
    "        :rtype: ListNode\n",
    "        \"\"\" \n",
    "        if not l1 or not l2:\n",
    "            return l1 or l2\n",
    "        if l1.val < l2.val:\n",
    "            l1.next = self.mergeTwoLists(l1.next, l2)\n",
    "            return l1\n",
    "        else:\n",
    "            l2.next = self.mergeTwoLists(l1, l2.next)\n",
    "            return l2"
   ]
  },
  {
   "cell_type": "code",
   "execution_count": null,
   "metadata": {
    "collapsed": true
   },
   "outputs": [],
   "source": []
  },
  {
   "cell_type": "code",
   "execution_count": null,
   "metadata": {
    "collapsed": true
   },
   "outputs": [],
   "source": [
    "# LC_Remove Duplicates from Sorted List\n",
    "\n",
    "# 想一下  (但是一開始有小bug)\n",
    "\n",
    "class Solution(object):\n",
    "    def deleteDuplicates(self, head):\n",
    "        \"\"\"\n",
    "        :type head: ListNode\n",
    "        :rtype: ListNode\n",
    "        \"\"\"\n",
    "\n",
    "        dummy = head\n",
    "        while head and head.next:\n",
    "            if head.next.val == head.val:\n",
    "                head.next = head.next.next\n",
    "            else:\n",
    "                head = head.next\n",
    "        \n",
    "        return dummy"
   ]
  },
  {
   "cell_type": "code",
   "execution_count": null,
   "metadata": {
    "collapsed": true
   },
   "outputs": [],
   "source": []
  },
  {
   "cell_type": "code",
   "execution_count": null,
   "metadata": {
    "collapsed": true
   },
   "outputs": [],
   "source": [
    "# LC_Linked List Cycle_two pointers\n",
    "\n",
    "# 想一下  (但是一開始有小bug)\n",
    "\n",
    "# 主要知識點。 \n",
    "# besides this approach, we can use hashtable approach, with space complexity being O(n)\n",
    "# We go through each node one by one and record each node's reference (or memory address) in a hash table. \n",
    "\n",
    "# Time complexity: List has no cycle: O(n), The fast pointer reaches the end first and \n",
    "# the run time depends on the list's length. List has a cycle: O(N+K) = O(n), where N is the non-cyclic length\n",
    "# K is the cyclic length. K = diff between two pointers when the slow pointer enters the loop(K at most) / (2-1)\n",
    "# Space complexity : O(1). We only use two nodes (slow and fast) so the space complexity is O(1).\n",
    "\n",
    "\n",
    "class Solution(object):\n",
    "    def hasCycle(self, head, pos):\n",
    "        fast = slow = head\n",
    "        while slow and fast and fast.next:\n",
    "            slow = slow.next                \n",
    "            fast = fast.next.next           \n",
    "\n",
    "            if slow is fast:                \n",
    "                return True\n",
    "\n",
    "        return False"
   ]
  },
  {
   "cell_type": "code",
   "execution_count": null,
   "metadata": {
    "collapsed": true
   },
   "outputs": [],
   "source": []
  },
  {
   "cell_type": "code",
   "execution_count": null,
   "metadata": {
    "collapsed": true
   },
   "outputs": [],
   "source": [
    "# LC_Intersection of Two Linked Lists_hash table\n",
    "\n",
    "# 想一下  \n",
    "\n",
    "# 主要知識點。 \n",
    "# Traverse list A and store the address / reference to each node in a hash set(lookup in hash set is faster (O(1))). \n",
    "# Then check every node bi in list B: if bi appears in the hash set, then bi is the intersection node.\n",
    "# Time complexity: O(m+n), where m is length of ListA, n is length of ListB\n",
    "# Space complexity: O(m) or O(n)\n",
    "\n",
    "class Solution(object):\n",
    "    def getIntersectionNode(self, listA, listB):\n",
    "        d = dict()\n",
    "        while listA:\n",
    "            d[listA] = 1\n",
    "            listA = listA.next\n",
    "        while listB:\n",
    "            if listB in d:\n",
    "                return listB\n",
    "            listB = listB.next\n",
    "        return None"
   ]
  },
  {
   "cell_type": "code",
   "execution_count": null,
   "metadata": {
    "collapsed": true
   },
   "outputs": [],
   "source": [
    "# LC_Intersection of Two Linked Lists_two pointers\n",
    "\n",
    "# 想一下 (two pointer解法想不到)\n",
    "\n",
    "# 主要知識點。 \n",
    "# When pA reaches the end of a list, then redirect it to the head of B (yes, B, that's right.);\n",
    "# similarly when pB reaches the end of a list, redirect it the head of A.\n",
    "# If at any point pApA meets pBpB, then pApA/pBpB is the intersection node.\n",
    "# Time complexity: O(m+n), where m is the length of listA and n is the length of listB. \n",
    "# worst case time complexity occurs when.. e.g.pA runs through listA and listB. \n",
    "# Space complexity: O(1)\n",
    "\n",
    "class Solution(object):\n",
    "    def getIntersectionNode(self, listA, listB):\n",
    "        \n",
    "        headA, headB, swapped = listA, listB, 0\n",
    "        \n",
    "        while listA and listB:\n",
    "            if listA == listB:\n",
    "                return listA\n",
    "            listA, listB = listA.next, listB.next\n",
    "            if not listA and swapped == 0:\n",
    "                listA = headB\n",
    "                swapped = 1\n",
    "            if not listB:\n",
    "                listB = headA     \n",
    "        return None"
   ]
  },
  {
   "cell_type": "code",
   "execution_count": null,
   "metadata": {
    "collapsed": true
   },
   "outputs": [],
   "source": []
  },
  {
   "cell_type": "code",
   "execution_count": null,
   "metadata": {
    "collapsed": true
   },
   "outputs": [],
   "source": [
    "# LC_Remove Linked List Elements_iteration\n",
    "\n",
    "# 想不到\n",
    "\n",
    "# 主要知識點。 \n",
    "# 2 steps. First while loop ensures that the head.val != val. Second, use a while loop to remove all val nodes.\n",
    "\n",
    "class Solution(object):\n",
    "    def removeElements(self, head, val):\n",
    "        while head is not None and head.val == val:\n",
    "            head = head.next\n",
    "            \n",
    "        curr = head \n",
    "        if not curr:\n",
    "            return head\n",
    "        while curr.next:\n",
    "            if curr.next.val == val:\n",
    "                curr.next = curr.next.next\n",
    "            else:\n",
    "                curr = curr.next\n",
    "                \n",
    "        return head"
   ]
  },
  {
   "cell_type": "code",
   "execution_count": null,
   "metadata": {
    "collapsed": true
   },
   "outputs": [],
   "source": [
    "# LC_Remove Linked List Elements_recursion\n",
    "\n",
    "# 想不到\n",
    "\n",
    "class Solution(object):\n",
    "    def removeElements(self, head, val):\n",
    "        if not head:\n",
    "            return head\n",
    "        if head.val == val:\n",
    "            head = self.removeElements(head.next, val)\n",
    "        else:\n",
    "            head.next = self.removeElements(head.next, val)\n",
    "        \n",
    "        return head "
   ]
  },
  {
   "cell_type": "code",
   "execution_count": null,
   "metadata": {
    "collapsed": true
   },
   "outputs": [],
   "source": []
  },
  {
   "cell_type": "code",
   "execution_count": null,
   "metadata": {
    "collapsed": true
   },
   "outputs": [],
   "source": [
    "# LC_Reverse Linked List_iteration\n",
    "\n",
    "# 想不到\n",
    "\n",
    "# 主要知識點。 \n",
    "# use three pointers. \n",
    "# While you are traversing the list, change the current node's next pointer to point to its previous element.\n",
    "# Since a node does not have reference to its previous node, you must store its previous element beforehand. \n",
    "# You also need another pointer to store the next node before \n",
    "# changing the reference. Do not forget to return the new head reference at the end!\n",
    "# Time complexity: O(n)\n",
    "# Space complexity: O(1)\n",
    "\n",
    "class Solution(object):\n",
    "    def reverseList(self, head):\n",
    "        prev = None\n",
    "        while head:\n",
    "            tmp = head \n",
    "            head = head.next\n",
    "            tmp.next = prev\n",
    "            prev = tmp\n",
    "        return prev"
   ]
  },
  {
   "cell_type": "code",
   "execution_count": null,
   "metadata": {
    "collapsed": true
   },
   "outputs": [],
   "source": [
    "# LC_Reverse Linked List_recursion\n",
    "\n",
    "# 想不到 (recursive解法太猛)\n",
    "\n",
    "# 主要知識點。\n",
    "# one of the best solutions ever... so impressive. \n",
    "# But It's actually not hard to write it down. still three steps: base condition, magical function, build the final function\n",
    "# Time complexity: O(n)  (It's easily understandable if we simulate with real data)\n",
    "# Space complexity: O(n) (The extra space comes from implicit stack space due to recursion. \n",
    "# The recursion could go up to n levels deep.)\n",
    "\n",
    "class Solution(object):\n",
    "    def reverseList(self, head):\n",
    "        if not head or not head.next:\n",
    "            return head\n",
    "        \n",
    "        p = self.reverseList(head.next)\n",
    "        head.next.next = head\n",
    "        head.next = None\n",
    "        return p"
   ]
  },
  {
   "cell_type": "code",
   "execution_count": null,
   "metadata": {
    "collapsed": true
   },
   "outputs": [],
   "source": []
  },
  {
   "cell_type": "code",
   "execution_count": null,
   "metadata": {
    "collapsed": true
   },
   "outputs": [],
   "source": [
    "# LC_Palindrome Linked List\n",
    "\n",
    "# 想不到 \n",
    "\n",
    "# 主要知識點。\n",
    "# use three pointers: slow, tmp, fast \n",
    "# the key is that we use a while loop to find the middle of the Linkedlist and also change the direction of first half \n",
    "# part of the original Linkedlist\n",
    "# Time complexity: O(n)\n",
    "# Space complexity: O(1) (only three pointers are used)\n",
    "\n",
    "class Solution(object):\n",
    "    def isPalindrome(self, head):\n",
    "        if not head:\n",
    "            return True\n",
    "        slow = fast = head\n",
    "        prev = None\n",
    "        while fast.next and fast.next.next:\n",
    "            fast = fast.next.next\n",
    "            tmp = slow.next\n",
    "            slow.next = prev\n",
    "            prev = slow\n",
    "            slow = tmp\n",
    "        # if even nodes \n",
    "        if fast.next:\n",
    "            tmp = slow.next\n",
    "            slow.next = prev \n",
    "            prev = slow \n",
    "            slow = tmp\n",
    "        # if odd nodes\n",
    "        else:\n",
    "            slow = slow.next\n",
    "        while slow:\n",
    "            if slow.val != prev.val:\n",
    "                return False\n",
    "            slow = slow.next\n",
    "            prev = prev.next\n",
    "        return True"
   ]
  },
  {
   "cell_type": "code",
   "execution_count": null,
   "metadata": {
    "collapsed": true
   },
   "outputs": [],
   "source": []
  },
  {
   "cell_type": "code",
   "execution_count": null,
   "metadata": {
    "collapsed": true
   },
   "outputs": [],
   "source": [
    "# LC_Delete Node in a Linked List\n",
    "\n",
    "# 想一下\n",
    "\n",
    "# 主要知識點。\n",
    "# Time complexity: O(1)\n",
    "# Space complexity: O(1) \n",
    "\n",
    "class Solution(object):\n",
    "    def deleteNode(self, node):\n",
    "        node.val = node.next.val\n",
    "        node.next = node.next.next"
   ]
  },
  {
   "cell_type": "code",
   "execution_count": null,
   "metadata": {
    "collapsed": true
   },
   "outputs": [],
   "source": []
  },
  {
   "cell_type": "markdown",
   "metadata": {
    "collapsed": true
   },
   "source": [
    "# Hash Table"
   ]
  },
  {
   "cell_type": "code",
   "execution_count": null,
   "metadata": {
    "collapsed": true
   },
   "outputs": [],
   "source": [
    "# LC_Intersection of Two Arrays II\n",
    "\n",
    "# 想一下 (有多種解法)\n",
    "\n",
    "# 主要知識點\n",
    "# use two pointers\n",
    "# Time Complexity: O(nlogn + mlogm)\n",
    "# Space Comxplity: O(1) (if we don't count in the space for ls)\n",
    "class Solution(object):\n",
    "    def intersect(self, nums1, nums2):\n",
    "        nums1.sort()\n",
    "        nums2.sort()\n",
    "        i = j = 0\n",
    "        ls = []\n",
    "        while i < len(nums1) and j < len(nums2): \n",
    "            if nums1[i] == nums2[j]:\n",
    "                ls.append(nums1[i])\n",
    "                i += 1\n",
    "                j += 1\n",
    "            elif nums1[i] < nums2[j]:\n",
    "                i += 1\n",
    "            else:\n",
    "                j += 1\n",
    "        return ls\n",
    "    \n",
    "# Below is another appraoch using hash table\n",
    "# Time Complexity: O(n+m)  (Counter & for loop in nums2)\n",
    "# Space Comxplity: O(n) (if we don't count in ... the space for ls)\n",
    "\n",
    "from collections import Counter\n",
    "class Solution(object):\n",
    "    def intersect(self, nums1, nums2):\n",
    "        nums1_Counter = Counter(nums1)\n",
    "        ls = []\n",
    "        for i in nums2:\n",
    "            if i in nums1_Counter and nums1_Counter[i] > 0 :\n",
    "                ls.append(i)\n",
    "                nums1_Counter[i] -= 1\n",
    "        return ls\n",
    "    "
   ]
  },
  {
   "cell_type": "code",
   "execution_count": null,
   "metadata": {
    "collapsed": true
   },
   "outputs": [],
   "source": []
  },
  {
   "cell_type": "code",
   "execution_count": null,
   "metadata": {
    "collapsed": true
   },
   "outputs": [],
   "source": [
    "# LC_Intersection of Two Arrays\n",
    "\n",
    "# 想一下 \n",
    "\n",
    "# 主要知識點\n",
    "# Time Complexity: O(n+m)\n",
    "# Space Complexity: O(n) (assume that we ignore the resulting ls space )\n",
    "\n",
    "class Solution(object):\n",
    "    def intersection(self, nums1, nums2):\n",
    "        d = set(nums1) # O(n) time/space complexity\n",
    "        ls = []\n",
    "        for i in nums2: # O(m) time complexity\n",
    "            if i in d:\n",
    "                ls.append(i)\n",
    "                d.remove(i)\n",
    "        return ls"
   ]
  },
  {
   "cell_type": "code",
   "execution_count": null,
   "metadata": {
    "collapsed": true
   },
   "outputs": [],
   "source": []
  },
  {
   "cell_type": "code",
   "execution_count": null,
   "metadata": {
    "collapsed": true
   },
   "outputs": [],
   "source": [
    "# LC_Word Pattern\n",
    "\n",
    "# 想一下 ( corner case )\n",
    "\n",
    "# 主要知識點\n",
    "# be careful of the corner cases (e.g. len(str_) != len(pattern) )\n",
    "\n",
    "class Solution(object):\n",
    "    def wordPattern(self, pattern, str):\n",
    "\n",
    "        str_ = str.split(' ')\n",
    "        if len(str_) != len(pattern):\n",
    "            return False\n",
    "        \n",
    "        d1 = dict()\n",
    "        d2 = dict()\n",
    "        for a, b in zip(pattern, str_):\n",
    "            if (a in d1 and d1[a] != b) or (b in d2 and d2[b] != a):\n",
    "                return False\n",
    "            else:\n",
    "                d1[a], d2[b] = b, a\n",
    "        return True"
   ]
  },
  {
   "cell_type": "code",
   "execution_count": null,
   "metadata": {
    "collapsed": true
   },
   "outputs": [],
   "source": []
  },
  {
   "cell_type": "code",
   "execution_count": null,
   "metadata": {
    "collapsed": true
   },
   "outputs": [],
   "source": [
    "# LC_Valid Anagram\n",
    "\n",
    "# 想一下\n",
    "\n",
    "# 主要知識點\n",
    "# Time complexity : O(n) for creating a counting dictionary\n",
    "# Space complexity : O(1). Although we do use extra space, the space complexity is O(1)\n",
    "# because the table's size stays constant no matter how large n is. ( input string is composed of a,b,c,d,e...etc. )\n",
    "\n",
    "from collections import Counter\n",
    "class Solution(object):\n",
    "    def isAnagram(self, s, t):\n",
    "        return Counter(s) == Counter(t)"
   ]
  },
  {
   "cell_type": "code",
   "execution_count": null,
   "metadata": {
    "collapsed": true
   },
   "outputs": [],
   "source": []
  },
  {
   "cell_type": "code",
   "execution_count": null,
   "metadata": {
    "collapsed": true
   },
   "outputs": [],
   "source": [
    "# LC_Contains Duplicate II\n",
    "\n",
    "# 想一下\n",
    "\n",
    "# 主要知識點\n",
    "\n",
    "class Solution(object):\n",
    "    def containsNearbyDuplicate(self, nums, k):\n",
    "        d = dict()\n",
    "        for i, num in enumerate(nums):\n",
    "            if num in d and i - d[num] <= k:\n",
    "                return True\n",
    "            d[num] = i # only save the most recently index\n",
    "        return False"
   ]
  },
  {
   "cell_type": "code",
   "execution_count": null,
   "metadata": {
    "collapsed": true
   },
   "outputs": [],
   "source": []
  },
  {
   "cell_type": "code",
   "execution_count": null,
   "metadata": {
    "collapsed": true
   },
   "outputs": [],
   "source": [
    "# LC_Contains Duplicate\n",
    "\n",
    "# 想一下 (有多種解法)\n",
    "\n",
    "# 主要知識點\n",
    "# Time Complexity: O(n)\n",
    "# Space Complexity: O(n)\n",
    "\n",
    "class Solution(object):\n",
    "    def containsDuplicate(self, nums):\n",
    "        d = set()\n",
    "        for i in nums:\n",
    "            if i in d:\n",
    "                return True\n",
    "            d.add(i)\n",
    "        return False\n",
    "\n",
    "    \n",
    "# Below is another appraoch with..\n",
    "# Time Complexity: O(nlogn) (sorting)\n",
    "# Space Complexity: O(1)  (nums.sort() takes O(1) space)\n",
    "\n",
    "class Solution(object):\n",
    "    def containsDuplicate(self, nums):\n",
    "        nums.sort()\n",
    "        for i in range(len(nums)-1):\n",
    "            if nums[i] == nums[i+1]:\n",
    "                return True\n",
    "        return False"
   ]
  },
  {
   "cell_type": "code",
   "execution_count": null,
   "metadata": {
    "collapsed": true
   },
   "outputs": [],
   "source": []
  },
  {
   "cell_type": "code",
   "execution_count": 6,
   "metadata": {
    "collapsed": true
   },
   "outputs": [],
   "source": [
    "# LC_Isomorphic Strings\n",
    "\n",
    "# 想不到\n",
    "\n",
    "# 主要知識點\n",
    "# using 2 dictionaries is the key, which ensures that this is a one-to-one map but not many-to-one or one-to-many.\n",
    "# I didn't think of using 2 dictionaries but only one dictinoary...\n",
    "\n",
    "class Solution(object):\n",
    "    def isIsomorphic(self, s, t):\n",
    "        d1 = dict()\n",
    "        d2 = dict()\n",
    "        for i, j in zip(s,t):\n",
    "            if (i in d1 and d1[i] != j) or (j in d2 and d2[j] != i):\n",
    "                return False\n",
    "            else:\n",
    "                d1[i], d2[j] = j, i \n",
    "        return True\n",
    "\n",
    "# below is a brilliant appraoch! but not fast\n",
    "\n",
    "class Solution(object):\n",
    "    def isIsomorphic(self, s, t):\n",
    "        for i in range(len(s)):\n",
    "            if s.find(s[i]) != t.find(t[i]):\n",
    "                return False\n",
    "        return True   "
   ]
  },
  {
   "cell_type": "code",
   "execution_count": null,
   "metadata": {
    "collapsed": true
   },
   "outputs": [],
   "source": []
  },
  {
   "cell_type": "code",
   "execution_count": null,
   "metadata": {
    "collapsed": true
   },
   "outputs": [],
   "source": [
    "# LC_Count Primes\n",
    "\n",
    "# 想不到\n",
    "\n",
    "# 主要知識點\n",
    "# I was about to write a function called isPrime and called the function on each element. But that is inefficient!\n",
    "# use sieve of Eratosthenes algorithm\n",
    "# Space Complexity: O(n)\n",
    "# Time Complexity: O(n), From macro perspective, the first loop runs through elements, and the second loop (nested) runs\n",
    "# through x elements in total, where x must be smaller n (x elements from True to False). Thus, O(n+x) = O(n)\n",
    "\n",
    "class Solution:\n",
    "    def countPrimes(self, n: int) -> int:\n",
    "        count, sieve = 0, [True] * n\n",
    "        for i in range(2, n):\n",
    "            if sieve[i]:\n",
    "                count+=1\n",
    "                for j in range(i*i, n, i):\n",
    "                    sieve[j] = False\n",
    "        return count"
   ]
  },
  {
   "cell_type": "code",
   "execution_count": null,
   "metadata": {
    "collapsed": true
   },
   "outputs": [],
   "source": []
  },
  {
   "cell_type": "code",
   "execution_count": null,
   "metadata": {
    "collapsed": true
   },
   "outputs": [],
   "source": [
    "# LC_Happy Number\n",
    "\n",
    "# 想很久\n",
    "\n",
    "# 主要知識點\n",
    "# be careful of the details mentioned in the problem discription. ... loops endlessly in a \"cycle\" \n",
    "# which does not include 1. ... this means that if the same number shows up two times, then we could return False \n",
    "\n",
    "class Solution(object):\n",
    "    def isHappy(self, n):\n",
    "        s = set()\n",
    "        while n != 1:\n",
    "            if n in s:\n",
    "                return False\n",
    "            s.add(n)\n",
    "            n = sum([int(i)**2 for i in str(n)])\n",
    "        return True\n",
    "    \n",
    "# another thing to note here is that we can use floyd cycle detection we learn from LinkedList cycle detection instead of \n",
    "# hash table. The advantage of this approach is O(1) space\n",
    "\n",
    "class Solution(object):\n",
    "    def digitSquareSum(self, n):\n",
    "        sum_ = 0\n",
    "        while n:\n",
    "            sum_ += (n%10)**2\n",
    "            n = n//10\n",
    "        return sum_\n",
    "        \n",
    "    def isHappy(self, n):\n",
    "        \n",
    "        slow = fast = n\n",
    "        slow = self.digitSquareSum(slow)\n",
    "        fast = self.digitSquareSum(fast)\n",
    "        fast = self.digitSquareSum(fast)\n",
    "            \n",
    "        while slow != fast :\n",
    "            slow = self.digitSquareSum(slow)\n",
    "            fast = self.digitSquareSum(fast)\n",
    "            fast = self.digitSquareSum(fast)\n",
    "            if slow == 1 or fast == 1:\n",
    "                return True\n",
    "        if slow == 1:\n",
    "            return True\n",
    "        else:\n",
    "            return False\n",
    "\n",
    "# below in a impressive approach inspired by math! math is great! \n",
    "# proof:\n",
    "# 1.loop number is less than 162.\n",
    "# Assume f(x) is the sum of the squares of x's digits. let's say 0 < x <= 9,999,999,999 which is larger than \n",
    "# the range of an int. f(x) <= 9^2 * 10 = 810. So no mater how big x is, after one step of f(x), \n",
    "# it will be less than 810.The most large f(x) value (x < 810) is f(799) = 211. \n",
    "# And do this several times: f(211) < f(199) = 163. f(163) < f(99) = 162. So no mater which x you choose \n",
    "# after several times of f(x),it finally fall in the range of [1,162] and can never get out.\n",
    "# 2.I check every unhappy number in range of [1,162] , they all fall in loop {4,16,37,58,89,145,42,20} ,\n",
    "# which means every unhappy number fall in this loop.\n",
    "\n",
    "class Solution(object):\n",
    "    def isHappy(self, n):\n",
    "        while n != 1:\n",
    "            if n == 4:\n",
    "                return False\n",
    "            n = sum([int(i)**2 for i in str(n)])\n",
    "        return True\n",
    "# or recursively...\n",
    "def isHappy(self, n):\n",
    "    if n == 1:\n",
    "        return True\n",
    "    elif n == 4: # or any other number in the cycle, pick 42 if you like it, \"42 is the answer\"\n",
    "        return False\n",
    "    else:\n",
    "        return self.isHappy(sum(map(lambda x: int(x) ** 2, list(str(n)))))"
   ]
  },
  {
   "cell_type": "code",
   "execution_count": null,
   "metadata": {
    "collapsed": true
   },
   "outputs": [],
   "source": []
  },
  {
   "cell_type": "code",
   "execution_count": null,
   "metadata": {
    "collapsed": true
   },
   "outputs": [],
   "source": [
    "# LC_Single Number\n",
    "\n",
    "# 想一下 (之前看過這題，用了XOR這個神解法)\n",
    "\n",
    "# 主要知識點。\n",
    "# Time complexity: O(n)\n",
    "# Space complexity: O(1) \n",
    "\n",
    "class Solution(object):\n",
    "    def singleNumber(self, nums):\n",
    "        ans = 0\n",
    "        for i in nums:\n",
    "            ans = ans^i\n",
    "        return ans\n",
    "    \n",
    "# Below is a approach using set (implemented with hash table). O(n) for space complexity. O(n) for time complexity\n",
    "class Solution(object):\n",
    "    def singleNumber(self, nums):\n",
    "        nums_set = set()\n",
    "        for i in nums:\n",
    "            if i not in nums_set:\n",
    "                nums_set.add(i)\n",
    "            else:\n",
    "                nums_set.remove(i)\n",
    "        return nums_set.pop()"
   ]
  },
  {
   "cell_type": "code",
   "execution_count": null,
   "metadata": {
    "collapsed": true
   },
   "outputs": [],
   "source": []
  },
  {
   "cell_type": "code",
   "execution_count": null,
   "metadata": {
    "collapsed": true
   },
   "outputs": [],
   "source": [
    "# given an array A of N integers, returns the smallest positive integer (greater than 0) that does not occur in A.\n",
    "\n",
    "# For example, given A = [1, 3, 6, 4, 1, 2], the function should return 5.\n",
    "\n",
    "# Given A = [1, 2, 3], the function should return 4.\n",
    "\n",
    "# Given A = [−1, −3], the function should return 1.\n",
    "\n",
    "# Write an efficient algorithm for the following assumptions:\n",
    "\n",
    "# N is an integer within the range [1..100,000];\n",
    "# each element of array A is an integer within the range [−1,000,000..1,000,000].\n",
    "\n",
    "\n",
    "# time complexity: O(N) ( for i in A)\n",
    "# i not in d is lookup in hashtable, and its time complexity is O(1)\n",
    "def solution(A):\n",
    "    # write your code in Python 3.6\n",
    "    d = dict()\n",
    "    for i in A:\n",
    "        if i > 0:\n",
    "            d[i] = 1\n",
    "            \n",
    "    for i in range(1,100002):\n",
    "        if i not in d:\n",
    "            return i"
   ]
  },
  {
   "cell_type": "code",
   "execution_count": null,
   "metadata": {
    "collapsed": true
   },
   "outputs": [],
   "source": []
  },
  {
   "cell_type": "code",
   "execution_count": null,
   "metadata": {
    "collapsed": true
   },
   "outputs": [],
   "source": []
  },
  {
   "cell_type": "code",
   "execution_count": null,
   "metadata": {
    "collapsed": true
   },
   "outputs": [],
   "source": []
  },
  {
   "cell_type": "code",
   "execution_count": null,
   "metadata": {
    "collapsed": true
   },
   "outputs": [],
   "source": []
  },
  {
   "cell_type": "code",
   "execution_count": null,
   "metadata": {
    "collapsed": true
   },
   "outputs": [],
   "source": []
  },
  {
   "cell_type": "code",
   "execution_count": null,
   "metadata": {
    "collapsed": true
   },
   "outputs": [],
   "source": []
  },
  {
   "cell_type": "markdown",
   "metadata": {},
   "source": [
    "# array"
   ]
  },
  {
   "cell_type": "code",
   "execution_count": 33,
   "metadata": {},
   "outputs": [
    {
     "data": {
      "text/plain": [
       "[0, 1]"
      ]
     },
     "execution_count": 33,
     "metadata": {},
     "output_type": "execute_result"
    }
   ],
   "source": [
    "# LC_Two Sum\n",
    "\n",
    "# 想一下\n",
    "\n",
    "# 主要知識點：\n",
    "# 解法用One-pass Hash Table\n",
    "# Time complexity : O(n)\n",
    "# We traverse the list containing n elements only once. Each look up in the table costs only O(1) time.\n",
    "# Space complexity : O(n)\n",
    "# The extra space required depends on the number of items stored in the hash table, which stores at most n elements.\n",
    "\n",
    "class Solution(object):\n",
    "    def twoSum(self, nums, target):\n",
    "        if len(nums) <=1:\n",
    "            return None\n",
    "        \n",
    "        dic = {}\n",
    "        for i,v in enumerate(nums):\n",
    "            if target-v in dic:\n",
    "                return [dic[target-v], i]\n",
    "            dic[v] = i\n",
    "            \n",
    "x = Solution()\n",
    "x.twoSum([2, 7, 11, 15], 9)"
   ]
  },
  {
   "cell_type": "code",
   "execution_count": null,
   "metadata": {
    "collapsed": true
   },
   "outputs": [],
   "source": []
  },
  {
   "cell_type": "code",
   "execution_count": 18,
   "metadata": {},
   "outputs": [
    {
     "data": {
      "text/plain": [
       "[0, 1, 9, 16, 100]"
      ]
     },
     "execution_count": 18,
     "metadata": {},
     "output_type": "execute_result"
    }
   ],
   "source": [
    "# LC_Squares of a Sorted Array\n",
    "\n",
    "# 想一下\n",
    "\n",
    "# 主要知識點：\n",
    "# 解法用到 Two Pointer (兩個index)\n",
    "# 這題不要傻傻的先平方後再排序。題目一開始給的array就是排序好的，是一定有原因的！\n",
    "# Time complexity: O(N), where N is the length of A.\n",
    "# Space Complexity: O(N).\n",
    "\n",
    "class Solution(object):\n",
    "    def sortedSquares(self, A):\n",
    "        \"\"\"\n",
    "        :type A: List[int]\n",
    "        :rtype: List[int]\n",
    "        \"\"\"\n",
    "        N = len(A)\n",
    "        \n",
    "        j = 0\n",
    "        while j<N and A[j]<0:\n",
    "            j += 1\n",
    "        i = j-1\n",
    "        \n",
    "        box = []\n",
    "        while 0<=i and j<N:\n",
    "            if A[i]**2 < A[j]**2:\n",
    "                box.append(A[i]**2)\n",
    "                i -= 1\n",
    "            else:\n",
    "                box.append(A[j]**2)\n",
    "                j += 1\n",
    "        \n",
    "        while 0<=i:\n",
    "            box.append(A[i]**2)\n",
    "            i -=1\n",
    "        \n",
    "        while j<N:\n",
    "            box.append(A[j]**2)\n",
    "            j += 1\n",
    "        \n",
    "        return box    \n",
    "                \n",
    "x = Solution()\n",
    "x.sortedSquares([-4,-1,0,3,10])"
   ]
  },
  {
   "cell_type": "code",
   "execution_count": null,
   "metadata": {
    "collapsed": true
   },
   "outputs": [],
   "source": []
  },
  {
   "cell_type": "code",
   "execution_count": null,
   "metadata": {
    "collapsed": true
   },
   "outputs": [],
   "source": []
  },
  {
   "cell_type": "code",
   "execution_count": null,
   "metadata": {
    "collapsed": true
   },
   "outputs": [],
   "source": []
  },
  {
   "cell_type": "code",
   "execution_count": null,
   "metadata": {
    "collapsed": true
   },
   "outputs": [],
   "source": []
  },
  {
   "cell_type": "code",
   "execution_count": null,
   "metadata": {
    "collapsed": true
   },
   "outputs": [],
   "source": []
  },
  {
   "cell_type": "markdown",
   "metadata": {},
   "source": [
    "# DP (Dynamic Programming)"
   ]
  },
  {
   "cell_type": "code",
   "execution_count": 5,
   "metadata": {
    "scrolled": true
   },
   "outputs": [
    {
     "name": "stdout",
     "output_type": "stream",
     "text": [
      "5\n"
     ]
    }
   ],
   "source": [
    "# ?_coin combination (給定某target(5) ＆ 一些零錢組合e.g. 1,2,3 。 試問這個零錢組合有多少種不同組合方式，可以湊成此target)\n",
    "\n",
    "# 想不到\n",
    "\n",
    "# 主要知識點：\n",
    "# 用到DP的概念，儲存intermediate result，以避免重複計算 ( e.g. 2+3 和 3+2 對這題而言，本質是一樣的)\n",
    "# https://stackoverflow.com/questions/14992411/understanding-change-making-algorithm\n",
    "\n",
    "target = 5\n",
    "coins = [1,2,3]\n",
    "ways = [1]+[0]*target\n",
    "for coin in coins:\n",
    "    for i in range(coin, target+1):\n",
    "        ways[i] += ways[i-coin]\n",
    "  \n",
    "        \n",
    "print(ways[target])"
   ]
  },
  {
   "cell_type": "code",
   "execution_count": null,
   "metadata": {
    "collapsed": true
   },
   "outputs": [],
   "source": []
  },
  {
   "cell_type": "code",
   "execution_count": 73,
   "metadata": {},
   "outputs": [
    {
     "data": {
      "text/plain": [
       "13"
      ]
     },
     "execution_count": 73,
     "metadata": {},
     "output_type": "execute_result"
    }
   ],
   "source": [
    "# ?_Fibonacci_bottomup\n",
    "\n",
    "# 想一下\n",
    "\n",
    "# 主要知識點：\n",
    "# bottom-up approach \n",
    "# Time complexity: O(n)\n",
    "# https://www.youtube.com/watch?v=vYquumk4nWw&t=1s\n",
    "\n",
    "\n",
    "def fb(n):\n",
    "    b = [0]*n\n",
    "    b[0] = 1\n",
    "    b[1] = 1\n",
    "    for i in range(2,n):\n",
    "        b[i] = b[i-1] + b[i-2]\n",
    "    \n",
    "    return b[n-1]\n",
    "fb(7)"
   ]
  },
  {
   "cell_type": "code",
   "execution_count": 19,
   "metadata": {},
   "outputs": [
    {
     "data": {
      "text/plain": [
       "13"
      ]
     },
     "execution_count": 19,
     "metadata": {},
     "output_type": "execute_result"
    }
   ],
   "source": [
    "# ?_Fibonacci_topdown\n",
    "\n",
    "# 想不到\n",
    "\n",
    "# 主要知識點：\n",
    "# top-down approach \n",
    "# 我真的想不出來這種解法，可能是因為recursive式的編程方式我還不習慣\n",
    "# Time complexity: O(n)\n",
    "# https://www.youtube.com/watch?v=vYquumk4nWw&t=1s\n",
    "\n",
    "def fb(n,memo):\n",
    "    if memo[n]:\n",
    "        return memo[n]\n",
    "    if n==1 or n==2:\n",
    "        result = 1\n",
    "    else:\n",
    "        result = fb(n-1,memo)+fb(n-2,memo)\n",
    "    memo[n] = result\n",
    "    return result\n",
    "\n",
    "\n",
    "fb(7,[None]*8)"
   ]
  },
  {
   "cell_type": "code",
   "execution_count": null,
   "metadata": {
    "collapsed": true
   },
   "outputs": [],
   "source": []
  },
  {
   "cell_type": "code",
   "execution_count": null,
   "metadata": {
    "collapsed": true
   },
   "outputs": [],
   "source": []
  },
  {
   "cell_type": "code",
   "execution_count": null,
   "metadata": {
    "collapsed": true
   },
   "outputs": [],
   "source": []
  },
  {
   "cell_type": "code",
   "execution_count": null,
   "metadata": {
    "collapsed": true
   },
   "outputs": [],
   "source": []
  },
  {
   "cell_type": "code",
   "execution_count": null,
   "metadata": {
    "collapsed": true
   },
   "outputs": [],
   "source": []
  },
  {
   "cell_type": "code",
   "execution_count": null,
   "metadata": {
    "collapsed": true
   },
   "outputs": [],
   "source": []
  },
  {
   "cell_type": "code",
   "execution_count": null,
   "metadata": {
    "collapsed": true
   },
   "outputs": [],
   "source": []
  },
  {
   "cell_type": "code",
   "execution_count": null,
   "metadata": {
    "collapsed": true
   },
   "outputs": [],
   "source": []
  },
  {
   "cell_type": "markdown",
   "metadata": {},
   "source": [
    "# Miscellaneous"
   ]
  },
  {
   "cell_type": "code",
   "execution_count": 56,
   "metadata": {
    "collapsed": true
   },
   "outputs": [],
   "source": [
    "# 這區塊主要紀錄在刷題時找到的一些其他知識點，可能是有關python的, 程式語言的, 數學的...等等\n",
    "# 等刷完題，會把這些知識點存入谷歌雲端_Research"
   ]
  },
  {
   "cell_type": "code",
   "execution_count": null,
   "metadata": {
    "collapsed": true
   },
   "outputs": [],
   "source": [
    "# 14 patterns to ace any coding interview\n",
    "\n",
    "# https://medium.com/hackernoon/14-patterns-to-ace-any-coding-interview-question-c5bb3357f6ed\n",
    "# Sliding Window\n",
    "# 2 Pointers or Iterators (e.g. squared of a sorted list)\n",
    "# Fast and Slow Pointers or Iterators (e.g. cycle detection in linked list)\n",
    "# Merge Intervals\n",
    "# Cyclic sort\n",
    "# In-place reversal of linked list\n",
    "# Tree BFS\n",
    "# Tree DFS\n",
    "# Two heaps\n",
    "# Subsets\n",
    "# Modified binary search\n",
    "# Top K elements (use heap)\n",
    "# K-way merge (use heap)\n",
    "# Topological sort"
   ]
  },
  {
   "cell_type": "code",
   "execution_count": null,
   "metadata": {
    "collapsed": true
   },
   "outputs": [],
   "source": [
    "# everything in python is a object. and variables act as tags to an object\n",
    "\n",
    "# a = [1,2,3]\n",
    "# b = a\n",
    "# b.append(4)\n",
    "# >>>print(a)\n",
    "# [1,2,3,4]"
   ]
  },
  {
   "cell_type": "code",
   "execution_count": null,
   "metadata": {
    "collapsed": true
   },
   "outputs": [],
   "source": [
    "# defaultdict in python?\n",
    "\n",
    "# https://stackoverflow.com/questions/5900578/how-does-collections-defaultdict-work\n",
    "# Usually, a Python dictionary throws a KeyError if you try to get an item with a key that is not currently in the \n",
    "# dictionary. The defaultdict in contrast will simply create any \n",
    "# items that you try to access (provided of course they do not exist yet).\n",
    "# e.g.\n",
    "# from collections import defaultdict\n",
    "# s = 'mississippi'\n",
    "# d = defaultdict(int)\n",
    "# for k in s:\n",
    "#     d[k] += 1\n",
    "# d[\"g\"]\n",
    "# >>>0"
   ]
  },
  {
   "cell_type": "code",
   "execution_count": 1,
   "metadata": {
    "collapsed": true
   },
   "outputs": [],
   "source": [
    "# The self variable in python explained\n",
    "\n",
    "# https://pythontips.com/2013/08/07/the-self-variable-in-python-explained/\n",
    "# self refers to the bound variable or object of class.\n",
    "\n",
    "\n",
    "# python class method\n",
    "\n",
    "# https://stackoverflow.com/questions/17557190/python-nameerror-global-name-is-not-defined\n",
    "# if within a class, you want to call other method A in method B, you should use self.A() in B, because A is not a \n",
    "# global function. It is a class method \n",
    "\n",
    "\n",
    "# class general knowledge\n",
    "\n",
    "# https://medium.com/quick-code/understanding-self-in-python-a3704319e5f0\n",
    "# Class variables are variables that are being shared with all instances (objects). \n",
    "# instance variables should be defined within methods. e.g. \n",
    "# class SomeClass:\n",
    "#     variable_1 = 100   # variable_1 is a class variable\n",
    "\n",
    "#     def __init__(self, param1, param2):\n",
    "#         self.instance_var1 = param1\n",
    "#         #instance_var1 is a instance variable\n",
    "\n",
    "# Just as there are instance and class variables, there are instance and class methods\n",
    "# the purpose of the class methods is to set or get the details (status) of the class. \n",
    "# Purpose of instance methods is to set or get details about instances (objects)  e.g.\n",
    "# class SomeClass:\n",
    "#     def create_arr(self): # An instance method\n",
    "#         self.arr = []\n",
    "    \n",
    "#     def insert_to_arr(self, value):  #An instance method\n",
    "#         self.arr.append(value)\n",
    "        \n",
    "#     @classmethod\n",
    "#     def class_method(cls):     #An class method, cls is a special paramter, just like self.\n",
    "#         print(\"the class method was called\")\n",
    "# Without even instantiating an object (e.g. x = SomeClass()), we can access class methods as follows:\n",
    "# SomeClass.class_method()"
   ]
  },
  {
   "cell_type": "code",
   "execution_count": 8,
   "metadata": {},
   "outputs": [
    {
     "name": "stdout",
     "output_type": "stream",
     "text": [
      "hi\n"
     ]
    }
   ],
   "source": [
    "# if in python\n",
    "\n",
    "# if 3:\n",
    "#     print(\"hi\")\n",
    "# >>>hi\n",
    "\n",
    "# if float(\"inf\"):\n",
    "#     print(\"fuck\")\n",
    "# >>>fuck\n",
    "    \n",
    "# if 0:\n",
    "#     print(\"hi\")\n",
    "# >>>"
   ]
  },
  {
   "cell_type": "code",
   "execution_count": null,
   "metadata": {
    "collapsed": true
   },
   "outputs": [],
   "source": [
    "# iteration, iterable, iterator, generator?\n",
    "\n",
    "# https://stackoverflow.com/questions/9884132/what-exactly-are-iterator-iterable-and-iteration\n",
    "# https://stackoverflow.com/questions/2776829/difference-between-pythons-generators-and-iterators\n",
    "\n",
    "# iteration is a general term for taking each item of something, one after another.\n",
    "\n",
    "# An iterable is an object that has an __iter__ method which returns an iterator, or which defines a __getitem__ method \n",
    "# that can take sequential indexes starting from zero (and raises an IndexError when the indexes are no longer valid). \n",
    "# So an iterable is an object that you can get an iterator from.\n",
    "# e.g. list in python is a iterable but not iterator. but it can be converted into iterator. (e.g. via for loop)\n",
    "\n",
    "# An iterator is an object with a next (Python 2) or __next__ (Python 3) method. It's subset of iterable\n",
    "\n",
    "# Whenever you use a for loop, or map, or a list comprehension, etc. in Python, the next method is called automatically\n",
    "# to get each item from the iterator, thus going through the process of iteration.\n",
    "\n",
    "# Every generator is an iterator, but not vice versa. A generator is built by calling a function that has one or\n",
    "# more yield expressions (yield statements, in Python 2.5 and earlier),\n",
    "# and is an object that meets the previous paragraph's definition of an iterator"
   ]
  },
  {
   "cell_type": "code",
   "execution_count": null,
   "metadata": {
    "collapsed": true
   },
   "outputs": [],
   "source": [
    "# python built-in functions\n",
    "\n",
    "# https://www.programiz.com/python-programming/methods/built-in/all\n",
    "# all()\n",
    "# The all() method returns True when all elements in the given iterable are true. If not, it returns False."
   ]
  },
  {
   "cell_type": "code",
   "execution_count": 39,
   "metadata": {
    "collapsed": true
   },
   "outputs": [],
   "source": [
    "# memoization?\n",
    "\n",
    "# https://pjchender.blogspot.com/2017/09/fibonacci-cache-memoization.html\n",
    "# It's like cache"
   ]
  },
  {
   "cell_type": "code",
   "execution_count": null,
   "metadata": {
    "collapsed": true
   },
   "outputs": [],
   "source": [
    "# deque in python?\n",
    "\n",
    "# deque is short for \"Double Ended Queue\", which provides a sequence with efficient methods to work as a stack or a queue.\n",
    "\n",
    "# https://www.geeksforgeeks.org/deque-in-python/\n",
    "# Deque can be implemented in python using the module “collections“. Deque is preferred over list in the cases where \n",
    "# we need quicker append and pop operations from both the ends of container, \n",
    "# as deque provides an O(1) time complexity for append and pop operations"
   ]
  },
  {
   "cell_type": "code",
   "execution_count": null,
   "metadata": {
    "collapsed": true
   },
   "outputs": [],
   "source": [
    "# set in python\n",
    "\n",
    "# implemented with hash table. so O(1) lookup!"
   ]
  },
  {
   "cell_type": "code",
   "execution_count": null,
   "metadata": {
    "collapsed": true
   },
   "outputs": [],
   "source": [
    "# tree traversals\n",
    "\n",
    "# https://www.geeksforgeeks.org/tree-traversals-inorder-preorder-and-postorder/\n",
    "# DFS: Inorder, Preorder, Postorder(kind of like reversed version of BFS)\n",
    "# BFS (stops from the top, level by level to the leaves)"
   ]
  },
  {
   "cell_type": "code",
   "execution_count": null,
   "metadata": {
    "collapsed": true
   },
   "outputs": [],
   "source": [
    "# Difference between multiple if's and elif's?\n",
    "\n",
    "# https://stackoverflow.com/questions/9271712/difference-between-multiple-ifs-and-elifs\n",
    "# Multiple if's means your code would go and check all the if conditions,\n",
    "# where as in case of elif, if one if condition satisfies it would not check other conditions.."
   ]
  },
  {
   "cell_type": "code",
   "execution_count": null,
   "metadata": {
    "collapsed": true
   },
   "outputs": [],
   "source": [
    "# How to frame two for loops in list comprehension python\n",
    "\n",
    "# https://stackoverflow.com/questions/18551458/how-to-frame-two-for-loops-in-list-comprehension-python\n",
    "# e.g.\n",
    "\n",
    "result = []\n",
    "\n",
    "for tag in tags:\n",
    "    for entry in entries:\n",
    "        if tag in entry:\n",
    "            result.extend(entry)\n",
    "            \n",
    "# is equal to ..\n",
    "\n",
    "[entry for tag in tags for entry in entries if tag in entry]"
   ]
  },
  {
   "cell_type": "code",
   "execution_count": null,
   "metadata": {
    "collapsed": true
   },
   "outputs": [],
   "source": [
    "# some list tips\n",
    "\n",
    "# a = [1,2,3]; a[5:10] == []"
   ]
  },
  {
   "cell_type": "code",
   "execution_count": null,
   "metadata": {
    "collapsed": true
   },
   "outputs": [],
   "source": [
    "# some dict tips\n",
    "\n",
    "# the second parameter is the value to be returned if the key is not found. The default value is None.\n",
    "# a = dict; a[3] = 1; \n",
    "# a.get(3,2) returns 1\n",
    "# a.get(2,5) returns 5"
   ]
  },
  {
   "cell_type": "code",
   "execution_count": null,
   "metadata": {
    "collapsed": true
   },
   "outputs": [],
   "source": [
    "# some generator tips\n",
    "\n",
    "# def gen(n):\n",
    "# \twhile n<11:\n",
    "# \t\tyield n \n",
    "# \t\tn += 1\n",
    "\n",
    "# >>>print([*gen(1)])\n",
    "# [1,2,3,4,5,6,7,8,9]"
   ]
  },
  {
   "cell_type": "code",
   "execution_count": 1,
   "metadata": {
    "collapsed": true
   },
   "outputs": [],
   "source": [
    "# set in python\n",
    "\n",
    "# https://stackoverflow.com/questions/7351459/time-complexity-of-python-set-operations\n",
    "# set is implemented as a hash table. So you can expect to lookup/insert/delete in O(1) average.\n",
    "\n",
    "# {1,2,3}&{3,2} creates a set of {2,3}"
   ]
  },
  {
   "cell_type": "code",
   "execution_count": null,
   "metadata": {
    "collapsed": true
   },
   "outputs": [],
   "source": [
    "# shallow/deep copy, variable definition in python\n",
    "\n",
    "# https://kknews.cc/zh-tw/news/yna3gab.html\n",
    "# definition:\n",
    "# list_a = [1,2,3,\"hello\",[\"python\",\"C++\"]]; list_b = list_a\n",
    "# then id(list_b) == id(list_a)   (list_b and list_a are like tags to the object)\n",
    "\n",
    "# shallow copy:\n",
    "# It creates a referrence to the original object. e.g.list_b = copy.copy(list_a)\n",
    "# id(list_b) != id(list_a)  BUT... id(x) for x in list_a is the same as id(x) for x in list_b   !!!\n",
    "# Also, when we do list_a[4].append(\"C\"), list_b[4] also appends(\"C)  !!!   (where the word \"shallow\" comes from)\n",
    "\n",
    "# deep copy:\n",
    "# list_b = copy.deepcopy(list_a). Then list_b is totally a different thing from list_a\n",
    "\n",
    "# notes:\n",
    "# for non-container object, there is no concept of copy. only concept of definition"
   ]
  },
  {
   "cell_type": "code",
   "execution_count": null,
   "metadata": {
    "collapsed": true
   },
   "outputs": [],
   "source": [
    "# graph?\n",
    "\n",
    "# https://www.freecodecamp.org/news/the-top-data-structures-you-should-know-for-your-next-coding-interview-36af0831f5e3/\n",
    "# https://www.hackerearth.com/zh/practice/algorithms/graphs/graph-representation/tutorial/\n",
    "# https://en.wikipedia.org/wiki/Topological_sorting#Algorithms\n",
    "\n",
    "# A graph is a set of nodes that are connected to each other in the form of a network. Nodes are also called \n",
    "# vertices. A pair(x,y) is called an edge, which indicates that vertex x is connected to vertex y.\n",
    "# An edge may contain weight/cost, showing how much cost is required to traverse from vertex x to y.\n",
    "\n",
    "# Types of Graphs:\n",
    "# Undirected Graph\n",
    "# Directed Graph\n",
    "\n",
    "# In a programming language, graphs can be represented using two forms:\n",
    "# edge list (commonly seen in leetcode, e.g. [[1,2], [1,3], [3,5]])\n",
    "# Adjacency Matrix\n",
    "# Adjacency Lists (the order of lists in the Big list is important. e.g. [[1,2,3], [0,2], [0,1], [0]])\n",
    "\n",
    "# Common graph traversing algorithms:\n",
    "# Breadth First Search (BFS)\n",
    "# Depth First Search (DFS)  (e.g. look at leetcode-python/medium/LC_Course Schedule for example. it uses adjacency list dfs)\n",
    "# DFS time complexity: https://www.quora.com/Why-is-the-complexity-of-DFS-O-V+E\n",
    "# DFS time complexity notes: the way you implement graph will affect the time complexity.\n",
    "\n",
    "# Topological sorting for Directed Acyclic Graph (DAG) is a linear ordering of vertices such that \n",
    "# for every directed edge uv, vertex u comes before v in the ordering. e.g. u a b c v also counts! not necessarily u v a b c\n",
    "# Any DAG has at least one topological ordering, and algorithms are known for constructing a topological ordering of any DAG in linear time\n",
    "# Topological sorting can be simply DFS with an extra stack. (using adjacency list).\n",
    "# Topological sorting can also be implemented with BFS (aka kahn's algorithm)"
   ]
  },
  {
   "cell_type": "code",
   "execution_count": null,
   "metadata": {
    "collapsed": true
   },
   "outputs": [],
   "source": [
    "# binary tree?\n",
    "\n",
    "# https://www.geeksforgeeks.org/binary-tree-data-structure/\n",
    "# A tree whose elements have at most 2 children is called a binary tree. Since each element in a binary tree \n",
    "# can have only 2 children, we typically name them the left and right child."
   ]
  },
  {
   "cell_type": "code",
   "execution_count": 47,
   "metadata": {
    "collapsed": true
   },
   "outputs": [],
   "source": [
    "# priority queue (also called heap queue)?\n",
    "\n",
    "# https://www.geeksforgeeks.org/priority-queue-set-1-introduction/\n",
    "# Priority Queue is an extension of queue with following properties.\n",
    "# 1, Every item has a priority associated with it.\n",
    "# 2, An element with high priority is dequeued before an element with low priority.\n",
    "# 3, If two elements have the same priority, they are served according to their order in the queue.\n",
    "# Priority Queue can be implemented using array, linked list, heap...etc. heap is the best choice"
   ]
  },
  {
   "cell_type": "code",
   "execution_count": null,
   "metadata": {
    "collapsed": true
   },
   "outputs": [],
   "source": [
    "# heap in python?\n",
    "\n",
    "# https://www.geeksforgeeks.org/heap-queue-or-heapq-in-python/\n",
    "# Heap data structure is mainly used to represent a priority queue. In Python, it is available using \n",
    "# “heapq” module. The property of this data structure in python is that each time the smallest of heap element is\n",
    "# popped(min heap). Whenever elements are pushed or popped, heap structure is\n",
    "# maintained. The heap[0] element also returns the smallest element each time.\n",
    "\n",
    "# https://www.geeksforgeeks.org/heap-data-structure/\n",
    "# A Heap is a special Tree-based data structure in which the tree \n",
    "# is a complete binary tree. Generally, Heaps can be of two types: Min-heap, Max-heap\n",
    "# the key present at the root node must be minimum/maximum among the keys present at all of it’s children\n",
    "# insertion: O(logn), insertion from the bottom, at worst case, all the way to top. (height: logn)\n",
    "# deletion: O(logn), if we want to delete the root from the heap, we first swap the root (e.g. 33) and one of the leaves, \n",
    "# and delete it (33). And next we need to heapify (fix) the consequent heap, which takes O(logn)"
   ]
  },
  {
   "cell_type": "code",
   "execution_count": null,
   "metadata": {
    "collapsed": true
   },
   "outputs": [],
   "source": [
    "# heap sort? \n",
    "\n",
    "# https://en.wikipedia.org/wiki/Heapsort\n",
    "# https://cs.stackexchange.com/questions/74714/why-is-heapsort-in-on-log-n-if-not-all-n-operations-take-time-log-n\n",
    "# https://en.wikipedia.org/wiki/Stirling%27s_approximation\n",
    "# 1. Call the buildMaxHeap() function on the list. Also referred to as heapify(), this builds a heap from a list in O(n) operations.\n",
    "# 2. Swap the first element of the list with the final element. Decrease the considered range of the list by one.\n",
    "# 3. Call the siftDown() function on the list to sift the new first element to its appropriate index in the heap. (heapify)\n",
    "# 4. Go to step 2 unless the considered range of the list is one element.\n",
    "\n",
    "# The buildMaxHeap() operation (from array to heap ) is run once, and is O(n) in performance. \n",
    "# The siftDown() function is O(log n), and is called n times. (It's actually logn + logn-1 + ... + log1 converging to nlogn)\n",
    "# Therefore, the performance of this algorithm is O(n + n log n) = O(n log n)."
   ]
  },
  {
   "cell_type": "code",
   "execution_count": null,
   "metadata": {
    "collapsed": true
   },
   "outputs": [],
   "source": [
    "# What is None in python?\n",
    "\n",
    "# None is just a value that commonly is used to signify 'empty', or 'no value here'. It is a signal object; \n",
    "# it only has meaning because the Python documentation says it has that meaning.\n",
    "# type(None) is NoneType"
   ]
  },
  {
   "cell_type": "code",
   "execution_count": 2,
   "metadata": {},
   "outputs": [
    {
     "name": "stdout",
     "output_type": "stream",
     "text": [
      "1 6\n",
      "2 7\n",
      "3 8\n",
      "4 9\n",
      "5 10\n"
     ]
    }
   ],
   "source": [
    "# zip in python?\n",
    "\n",
    "a = [1,2,3,4,5]\n",
    "b = [6,7,8,9,10]\n",
    "\n",
    "for i, j in zip(a,b):\n",
    "    print(i,j)\n"
   ]
  },
  {
   "cell_type": "code",
   "execution_count": null,
   "metadata": {
    "collapsed": true
   },
   "outputs": [],
   "source": [
    "# sort list(array) in python?\n",
    "\n",
    "# https://www.programiz.com/python-programming/methods/list/sort\n",
    "# list.sort or sorted(list)\n",
    "# list.sort doesn't return anything, it just changes the original list\n",
    "# sort() has two optional parameters: \n",
    "# key: function that serves as a key for the sort comparison\n",
    "# reverse: If true, the sorted list is reversed (or sorted in Descending order)\n",
    " \n",
    "# a = [-100, 32, 3, 9]\n",
    "# a.sort(key = lambda x:x**2, reverse = True)\n",
    "# >>> [-100, 32, -9, 3]"
   ]
  },
  {
   "cell_type": "code",
   "execution_count": null,
   "metadata": {
    "collapsed": true
   },
   "outputs": [],
   "source": []
  },
  {
   "cell_type": "code",
   "execution_count": null,
   "metadata": {
    "collapsed": true
   },
   "outputs": [],
   "source": [
    "# path in UNIX-like system\n",
    "\n",
    "# https://stackoverflow.com/questions/12100299/whats-a-canonical-path\n",
    "# diff between absolute path & canonical path?\n",
    "# A good way to define a canonical path will be: the shortest absolute path. e.g. \n",
    "# absolute path:  C:\\abc\\..\\abc\\file.txt\n",
    "# canonical path: C:\\abc\\file.txt\n",
    "\n",
    "# https://unix.stackexchange.com/questions/1910/how-does-linux-handle-multiple-consecutive-path-separators-home-username\n",
    "# Multiple slashes are allowed and are equivalent to a single slash. e.g.\n",
    "# \"/home//foo/\" is equivalent of \"/home/foo\"\n",
    "# if a pathname starts with exactly two slashes, it may be treated differently."
   ]
  },
  {
   "cell_type": "code",
   "execution_count": null,
   "metadata": {
    "collapsed": true
   },
   "outputs": [],
   "source": []
  },
  {
   "cell_type": "code",
   "execution_count": null,
   "metadata": {
    "collapsed": true
   },
   "outputs": [],
   "source": []
  },
  {
   "cell_type": "code",
   "execution_count": null,
   "metadata": {
    "collapsed": true
   },
   "outputs": [],
   "source": []
  }
 ],
 "metadata": {
  "kernelspec": {
   "display_name": "Python 3",
   "language": "python",
   "name": "python3"
  },
  "language_info": {
   "codemirror_mode": {
    "name": "ipython",
    "version": 3
   },
   "file_extension": ".py",
   "mimetype": "text/x-python",
   "name": "python",
   "nbconvert_exporter": "python",
   "pygments_lexer": "ipython3",
   "version": "3.6.1"
  }
 },
 "nbformat": 4,
 "nbformat_minor": 2
}
