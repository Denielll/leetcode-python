{
 "cells": [
  {
   "cell_type": "code",
   "execution_count": null,
   "metadata": {
    "collapsed": true
   },
   "outputs": [],
   "source": []
  },
  {
   "cell_type": "code",
   "execution_count": null,
   "metadata": {
    "collapsed": true
   },
   "outputs": [],
   "source": []
  },
  {
   "cell_type": "code",
   "execution_count": null,
   "metadata": {
    "collapsed": true
   },
   "outputs": [],
   "source": []
  },
  {
   "cell_type": "code",
   "execution_count": null,
   "metadata": {
    "collapsed": true
   },
   "outputs": [],
   "source": []
  },
  {
   "cell_type": "code",
   "execution_count": null,
   "metadata": {
    "collapsed": true
   },
   "outputs": [],
   "source": []
  },
  {
   "cell_type": "code",
   "execution_count": null,
   "metadata": {
    "collapsed": true
   },
   "outputs": [],
   "source": []
  },
  {
   "cell_type": "code",
   "execution_count": null,
   "metadata": {
    "collapsed": true
   },
   "outputs": [],
   "source": []
  },
  {
   "cell_type": "code",
   "execution_count": null,
   "metadata": {
    "collapsed": true
   },
   "outputs": [],
   "source": [
    "#\n",
    "# Complete the 'minimumOperations' function below.\n",
    "#\n",
    "# The function is expected to return a LONG_INTEGER.\n",
    "# The function accepts INTEGER_ARRAY numbers as parameter.\n",
    "#\n",
    "\n",
    "def compare(ls, inserted):\n",
    "    for i in ls:\n",
    "        if inserted >= i:\n",
    "            return [ls.index(i)+1, len(ls)-(ls.index(i)+1)]\n",
    "\n",
    "        \n",
    "def minimumOperations(numbers):\n",
    "    # Write your code here\n",
    "    cn = 0\n",
    "    box = []\n",
    "    for i in numbers:\n",
    "        if not box:\n",
    "            box.append(i)\n",
    "            \n",
    "        if not compare(box, i):\n",
    "            box = [i] + [box[0]]\n",
    "        else:\n",
    "            cn += min(compare(box, i))*2\n",
    "            box.append(i)\n",
    "        box.sort()\n",
    "        \n",
    "    return cn\n",
    "            \n",
    "        \n",
    "    \n",
    "\n"
   ]
  },
  {
   "cell_type": "code",
   "execution_count": null,
   "metadata": {
    "collapsed": true
   },
   "outputs": [],
   "source": []
  },
  {
   "cell_type": "code",
   "execution_count": null,
   "metadata": {
    "collapsed": true
   },
   "outputs": [],
   "source": []
  },
  {
   "cell_type": "code",
   "execution_count": null,
   "metadata": {
    "collapsed": true
   },
   "outputs": [],
   "source": []
  },
  {
   "cell_type": "code",
   "execution_count": null,
   "metadata": {
    "collapsed": true
   },
   "outputs": [],
   "source": []
  },
  {
   "cell_type": "code",
   "execution_count": null,
   "metadata": {
    "collapsed": true
   },
   "outputs": [],
   "source": []
  },
  {
   "cell_type": "code",
   "execution_count": null,
   "metadata": {
    "collapsed": true
   },
   "outputs": [],
   "source": []
  },
  {
   "cell_type": "code",
   "execution_count": null,
   "metadata": {
    "collapsed": true
   },
   "outputs": [],
   "source": []
  },
  {
   "cell_type": "code",
   "execution_count": null,
   "metadata": {
    "collapsed": true
   },
   "outputs": [],
   "source": []
  },
  {
   "cell_type": "code",
   "execution_count": null,
   "metadata": {
    "collapsed": true
   },
   "outputs": [],
   "source": []
  },
  {
   "cell_type": "code",
   "execution_count": null,
   "metadata": {
    "collapsed": true
   },
   "outputs": [],
   "source": []
  },
  {
   "cell_type": "markdown",
   "metadata": {},
   "source": [
    "# parsing words"
   ]
  },
  {
   "cell_type": "code",
   "execution_count": 972,
   "metadata": {
    "collapsed": true
   },
   "outputs": [],
   "source": [
    "import sys, re, string"
   ]
  },
  {
   "cell_type": "code",
   "execution_count": 1003,
   "metadata": {
    "collapsed": true
   },
   "outputs": [],
   "source": [
    "#data = sys.stdin.readlines()\n",
    "data = 'apple' + '\\n' + 'banana' + '\\n' + 'fuck'"
   ]
  },
  {
   "cell_type": "code",
   "execution_count": 1004,
   "metadata": {
    "collapsed": true
   },
   "outputs": [],
   "source": [
    "tmp = []\n",
    "findNonWord = False\n",
    "wordList = []"
   ]
  },
  {
   "cell_type": "code",
   "execution_count": 1005,
   "metadata": {
    "collapsed": true
   },
   "outputs": [],
   "source": [
    "for iLine in data:\n",
    "    findNonWord = False\n",
    "    for idx in range(len(iLine)):\n",
    "        iChar = iLine[idx]\n",
    "        if re.match(\"[a-z]\", iChar) and not findNonWord:\n",
    "            tmp.append(iChar)\n",
    "        elif iChar == ' ':\n",
    "            if not findNonWord and len(tmp)>0:\n",
    "                wordList.append(''.join(tmp))\n",
    "            tmp = []\n",
    "            findNonWord = False\n",
    "        else:\n",
    "            findNonWord = True\n",
    "            tmp = []\n",
    "        if idx==len(iLine)-1:\n",
    "            if not findNonWord and len(tmp)>0:\n",
    "                wordList.append(''.join(tmp))\n",
    "            tmp = []\n",
    "        "
   ]
  },
  {
   "cell_type": "code",
   "execution_count": null,
   "metadata": {
    "collapsed": true
   },
   "outputs": [],
   "source": []
  },
  {
   "cell_type": "code",
   "execution_count": null,
   "metadata": {
    "collapsed": true
   },
   "outputs": [],
   "source": []
  },
  {
   "cell_type": "code",
   "execution_count": 1019,
   "metadata": {},
   "outputs": [
    {
     "name": "stdout",
     "output_type": "stream",
     "text": [
      "15\n",
      "words\n",
      "a 4\n",
      "b 1\n",
      "c 1\n",
      "e 1\n",
      "f 1\n",
      "k 1\n",
      "l 1\n",
      "n 2\n",
      "p 2\n",
      "u 1\n",
      "letters\n",
      "a 4\n",
      "b 1\n",
      "c 1\n",
      "d 0\n",
      "e 1\n",
      "f 1\n",
      "g 0\n",
      "h 0\n",
      "i 0\n",
      "j 0\n",
      "k 1\n",
      "l 1\n",
      "m 0\n",
      "n 2\n",
      "o 0\n",
      "p 2\n",
      "q 0\n",
      "r 0\n",
      "s 0\n",
      "t 0\n",
      "u 1\n",
      "v 0\n",
      "w 0\n",
      "x 0\n",
      "y 0\n",
      "z 0\n"
     ]
    }
   ],
   "source": [
    "wordCount = len(wordList)\n",
    "print(wordCount)\n",
    "print('words')\n",
    "\n",
    "\n",
    "wordSet = sorted(set(wordList))\n",
    "for iWord in wordSet:\n",
    "    print(iWord + \" \" + str(wordList.count(iWord)))\n",
    "print('letters')\n",
    "\n",
    "\n",
    "for iLetters in string.ascii_lowercase[:26]:\n",
    "    count = 0\n",
    "    for iWord in wordList:\n",
    "        count += iWord.count(iLetters)\n",
    "    print(iLetters + \" \" + str(count))\n",
    "    count = 0;"
   ]
  },
  {
   "cell_type": "code",
   "execution_count": null,
   "metadata": {
    "collapsed": true
   },
   "outputs": [],
   "source": []
  },
  {
   "cell_type": "code",
   "execution_count": null,
   "metadata": {
    "collapsed": true
   },
   "outputs": [],
   "source": []
  }
 ],
 "metadata": {
  "kernelspec": {
   "display_name": "Python 3",
   "language": "python",
   "name": "python3"
  },
  "language_info": {
   "codemirror_mode": {
    "name": "ipython",
    "version": 3
   },
   "file_extension": ".py",
   "mimetype": "text/x-python",
   "name": "python",
   "nbconvert_exporter": "python",
   "pygments_lexer": "ipython3",
   "version": "3.6.1"
  }
 },
 "nbformat": 4,
 "nbformat_minor": 2
}
