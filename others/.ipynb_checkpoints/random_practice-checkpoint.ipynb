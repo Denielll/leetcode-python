{
 "cells": [
  {
   "cell_type": "code",
   "execution_count": null,
   "metadata": {
    "collapsed": true
   },
   "outputs": [],
   "source": []
  },
  {
   "cell_type": "code",
   "execution_count": null,
   "metadata": {
    "collapsed": true
   },
   "outputs": [],
   "source": []
  },
  {
   "cell_type": "markdown",
   "metadata": {},
   "source": [
    "# implement Binary Search"
   ]
  },
  {
   "cell_type": "code",
   "execution_count": 5,
   "metadata": {},
   "outputs": [
    {
     "data": {
      "text/plain": [
       "5"
      ]
     },
     "execution_count": 5,
     "metadata": {},
     "output_type": "execute_result"
    }
   ],
   "source": [
    "# ?_implement binary search_recursive\n",
    "\n",
    "\n",
    "def binary_search(arr, l, r, t):\n",
    "    \n",
    "    if r>=l:\n",
    "        \n",
    "        mid = (l+r)//2\n",
    "\n",
    "\n",
    "        if arr[mid] == t:\n",
    "            return mid\n",
    "        if arr[mid]>t:\n",
    "            return binary_search(arr,l,mid-1, t)\n",
    "        if arr[mid]<t:\n",
    "            return binary_search(arr,mid+1,r,t)\n",
    "        \n",
    "    # if r was once <l, they must have been equal before. \n",
    "    # if r and l have been equal before and we still can't find the element(t), then the element is not existent.\n",
    "    else: \n",
    "        return -1\n",
    "    \n",
    "    \n",
    "arr = [1,2,3,4,10,11,13,19,20,21,22,23]\n",
    "binary_search(arr,0, len(arr)-1, 11)"
   ]
  },
  {
   "cell_type": "code",
   "execution_count": null,
   "metadata": {
    "collapsed": true
   },
   "outputs": [],
   "source": []
  },
  {
   "cell_type": "code",
   "execution_count": 1,
   "metadata": {},
   "outputs": [
    {
     "data": {
      "text/plain": [
       "-1"
      ]
     },
     "execution_count": 1,
     "metadata": {},
     "output_type": "execute_result"
    }
   ],
   "source": [
    "# ?_implement binary search_iterative \n",
    "\n",
    "\n",
    "def binary_search(arr, l, r, t):\n",
    "    \n",
    "    while r>=l:\n",
    "        \n",
    "        mid = (l+r)//2\n",
    "\n",
    "        if arr[mid] == t:\n",
    "            return mid\n",
    "        if arr[mid]>t:\n",
    "            r = mid-1\n",
    "        if arr[mid]<t:\n",
    "            l = mid+1\n",
    "        \n",
    "    # if r was once <l, they must have been equal before. \n",
    "    # if r and l have been equal before and we still can't find the element(t), then the element is not existent.\n",
    "    else: \n",
    "        return -1\n",
    "    \n",
    "    \n",
    "arr = [1,2,3,4,10,11,13,19,20,21,22,23]\n",
    "binary_search(arr,0, len(arr)-1, 100)"
   ]
  },
  {
   "cell_type": "code",
   "execution_count": null,
   "metadata": {
    "collapsed": true
   },
   "outputs": [],
   "source": []
  },
  {
   "cell_type": "code",
   "execution_count": null,
   "metadata": {
    "collapsed": true
   },
   "outputs": [],
   "source": []
  },
  {
   "cell_type": "code",
   "execution_count": null,
   "metadata": {
    "collapsed": true
   },
   "outputs": [],
   "source": []
  },
  {
   "cell_type": "markdown",
   "metadata": {},
   "source": [
    "# implement hashtable"
   ]
  },
  {
   "cell_type": "code",
   "execution_count": 2,
   "metadata": {
    "collapsed": true
   },
   "outputs": [],
   "source": [
    "# implement hashtable\n",
    "# reference: thinkpython2.pdf"
   ]
  },
  {
   "cell_type": "markdown",
   "metadata": {},
   "source": [
    "v1, <br>\n",
    "time complexity of get(access) : linear <br>\n",
    "time complexity of add : constant"
   ]
  },
  {
   "cell_type": "code",
   "execution_count": 150,
   "metadata": {
    "collapsed": true
   },
   "outputs": [],
   "source": [
    "class LinearMap:\n",
    "    def __init__(self):\n",
    "        self.items = []\n",
    "    def add(self, k, v):\n",
    "        self.items.append((k, v))\n",
    "    def get(self, k):\n",
    "        for key, val in self.items:\n",
    "            if key == k:\n",
    "                return val\n",
    "        raise KeyError"
   ]
  },
  {
   "cell_type": "code",
   "execution_count": 151,
   "metadata": {
    "collapsed": true
   },
   "outputs": [],
   "source": [
    "a = LinearMap()"
   ]
  },
  {
   "cell_type": "code",
   "execution_count": 152,
   "metadata": {
    "collapsed": true
   },
   "outputs": [],
   "source": [
    "a.add(\"hi\",\"sunny\")"
   ]
  },
  {
   "cell_type": "code",
   "execution_count": 153,
   "metadata": {},
   "outputs": [
    {
     "data": {
      "text/plain": [
       "'sunny'"
      ]
     },
     "execution_count": 153,
     "metadata": {},
     "output_type": "execute_result"
    }
   ],
   "source": [
    "a.get(\"hi\")"
   ]
  },
  {
   "cell_type": "code",
   "execution_count": null,
   "metadata": {
    "collapsed": true
   },
   "outputs": [],
   "source": []
  },
  {
   "cell_type": "markdown",
   "metadata": {},
   "source": [
    "v2, <br>\n",
    "time complexity of get(access) : still linear.. but the leading term is smaller (e.g. n-> 1/100*n), at least 100x faster <br>\n",
    "time complexity of add : constant"
   ]
  },
  {
   "cell_type": "code",
   "execution_count": 94,
   "metadata": {
    "collapsed": true
   },
   "outputs": [],
   "source": [
    "class BetterMap:\n",
    "    \n",
    "    # __init__ makes a list of n LinearMaps.\n",
    "    def __init__(self, n=100):\n",
    "        self.maps = []\n",
    "        for i in range(n):\n",
    "            self.maps.append(LinearMap())\n",
    "            \n",
    "    def find_map(self, k):\n",
    "        index = hash(k)%len(self.maps)\n",
    "        return self.maps[index]\n",
    "    \n",
    "    def add(self, k, v):\n",
    "        m = self.find_map(k)\n",
    "        m.add(k, v)\n",
    "        \n",
    "    def get(self, k):\n",
    "        m = self.find_map(k)\n",
    "        return m.get(k)\n",
    "        "
   ]
  },
  {
   "cell_type": "code",
   "execution_count": 95,
   "metadata": {
    "collapsed": true
   },
   "outputs": [],
   "source": [
    "b = BetterMap()"
   ]
  },
  {
   "cell_type": "code",
   "execution_count": 97,
   "metadata": {
    "collapsed": true
   },
   "outputs": [],
   "source": [
    "b.add(\"hello\", \"sunny\")"
   ]
  },
  {
   "cell_type": "code",
   "execution_count": 98,
   "metadata": {},
   "outputs": [
    {
     "data": {
      "text/plain": [
       "'sunny'"
      ]
     },
     "execution_count": 98,
     "metadata": {},
     "output_type": "execute_result"
    }
   ],
   "source": [
    "b.get(\"hello\")"
   ]
  },
  {
   "cell_type": "code",
   "execution_count": null,
   "metadata": {
    "collapsed": true
   },
   "outputs": [],
   "source": []
  },
  {
   "cell_type": "markdown",
   "metadata": {},
   "source": [
    "v3(continuation of BetterMap, into which concept of dynamic array is integrated), <br>\n",
    "time complexity of get(access) : constant <br>\n",
    "time complexity of add : amortized O(1) ( resize occurs occasionally )"
   ]
  },
  {
   "cell_type": "code",
   "execution_count": 181,
   "metadata": {
    "collapsed": true
   },
   "outputs": [],
   "source": [
    "class HashMap:\n",
    "    def __init__(self):\n",
    "        self.maps = BetterMap(2)\n",
    "        self.num = 0\n",
    "        \n",
    "    def resize(self):\n",
    "        new_maps = BetterMap(self.num*2)\n",
    "        # two loops below, but it is not O(n^2) actually! It's O(num)\n",
    "        for m in self.maps.maps:\n",
    "            for k,v in m.items:\n",
    "                new_maps.add(k,v)\n",
    "        self.maps = new_maps\n",
    "    \n",
    "    def get(self, k):\n",
    "        return self.maps.get(k)\n",
    "    \n",
    "    def add(self, k, v):\n",
    "        if self.num == len(self.maps.maps):\n",
    "            self.resize()\n",
    "        self.maps.add(k, v)\n",
    "        self.num += 1"
   ]
  },
  {
   "cell_type": "code",
   "execution_count": 182,
   "metadata": {
    "collapsed": true
   },
   "outputs": [],
   "source": [
    "c = HashMap()"
   ]
  },
  {
   "cell_type": "code",
   "execution_count": 183,
   "metadata": {
    "collapsed": true
   },
   "outputs": [],
   "source": [
    "c.add(\"ciao\", \"sunny\")"
   ]
  },
  {
   "cell_type": "code",
   "execution_count": 184,
   "metadata": {
    "collapsed": true
   },
   "outputs": [],
   "source": [
    "c.add(\"cia\", \"sunny\")"
   ]
  },
  {
   "cell_type": "code",
   "execution_count": 185,
   "metadata": {
    "collapsed": true
   },
   "outputs": [],
   "source": [
    "c.add(\"ci\", \"sunny\")"
   ]
  },
  {
   "cell_type": "code",
   "execution_count": 186,
   "metadata": {
    "collapsed": true
   },
   "outputs": [],
   "source": [
    "c.add(\"c\", \"sunny\")"
   ]
  },
  {
   "cell_type": "code",
   "execution_count": null,
   "metadata": {
    "collapsed": true
   },
   "outputs": [],
   "source": []
  },
  {
   "cell_type": "code",
   "execution_count": 187,
   "metadata": {
    "scrolled": true
   },
   "outputs": [
    {
     "data": {
      "text/plain": [
       "[]"
      ]
     },
     "execution_count": 187,
     "metadata": {},
     "output_type": "execute_result"
    }
   ],
   "source": [
    "c.maps.maps[0].items"
   ]
  },
  {
   "cell_type": "code",
   "execution_count": 188,
   "metadata": {},
   "outputs": [
    {
     "data": {
      "text/plain": [
       "[('cia', 'sunny')]"
      ]
     },
     "execution_count": 188,
     "metadata": {},
     "output_type": "execute_result"
    }
   ],
   "source": [
    "c.maps.maps[1].items"
   ]
  },
  {
   "cell_type": "code",
   "execution_count": 189,
   "metadata": {},
   "outputs": [
    {
     "data": {
      "text/plain": [
       "[('c', 'sunny')]"
      ]
     },
     "execution_count": 189,
     "metadata": {},
     "output_type": "execute_result"
    }
   ],
   "source": [
    "c.maps.maps[2].items"
   ]
  },
  {
   "cell_type": "code",
   "execution_count": 190,
   "metadata": {},
   "outputs": [
    {
     "data": {
      "text/plain": [
       "[('ciao', 'sunny'), ('ci', 'sunny')]"
      ]
     },
     "execution_count": 190,
     "metadata": {},
     "output_type": "execute_result"
    }
   ],
   "source": [
    "c.maps.maps[3].items"
   ]
  },
  {
   "cell_type": "code",
   "execution_count": 191,
   "metadata": {},
   "outputs": [
    {
     "ename": "IndexError",
     "evalue": "list index out of range",
     "output_type": "error",
     "traceback": [
      "\u001b[0;31m---------------------------------------------------------------------------\u001b[0m",
      "\u001b[0;31mIndexError\u001b[0m                                Traceback (most recent call last)",
      "\u001b[0;32m<ipython-input-191-10660568d46d>\u001b[0m in \u001b[0;36m<module>\u001b[0;34m()\u001b[0m\n\u001b[0;32m----> 1\u001b[0;31m \u001b[0mc\u001b[0m\u001b[0;34m.\u001b[0m\u001b[0mmaps\u001b[0m\u001b[0;34m.\u001b[0m\u001b[0mmaps\u001b[0m\u001b[0;34m[\u001b[0m\u001b[0;36m4\u001b[0m\u001b[0;34m]\u001b[0m\u001b[0;34m.\u001b[0m\u001b[0mitems\u001b[0m\u001b[0;34m\u001b[0m\u001b[0m\n\u001b[0m",
      "\u001b[0;31mIndexError\u001b[0m: list index out of range"
     ]
    }
   ],
   "source": [
    "c.maps.maps[4].items"
   ]
  },
  {
   "cell_type": "code",
   "execution_count": null,
   "metadata": {
    "collapsed": true
   },
   "outputs": [],
   "source": []
  },
  {
   "cell_type": "code",
   "execution_count": null,
   "metadata": {
    "collapsed": true
   },
   "outputs": [],
   "source": []
  },
  {
   "cell_type": "code",
   "execution_count": null,
   "metadata": {
    "collapsed": true
   },
   "outputs": [],
   "source": []
  },
  {
   "cell_type": "code",
   "execution_count": null,
   "metadata": {
    "collapsed": true
   },
   "outputs": [],
   "source": []
  },
  {
   "cell_type": "code",
   "execution_count": null,
   "metadata": {
    "collapsed": true
   },
   "outputs": [],
   "source": []
  },
  {
   "cell_type": "code",
   "execution_count": null,
   "metadata": {
    "collapsed": true
   },
   "outputs": [],
   "source": []
  },
  {
   "cell_type": "code",
   "execution_count": null,
   "metadata": {
    "collapsed": true
   },
   "outputs": [],
   "source": []
  },
  {
   "cell_type": "code",
   "execution_count": null,
   "metadata": {
    "collapsed": true
   },
   "outputs": [],
   "source": []
  }
 ],
 "metadata": {
  "kernelspec": {
   "display_name": "Python 3",
   "language": "python",
   "name": "python3"
  },
  "language_info": {
   "codemirror_mode": {
    "name": "ipython",
    "version": 3
   },
   "file_extension": ".py",
   "mimetype": "text/x-python",
   "name": "python",
   "nbconvert_exporter": "python",
   "pygments_lexer": "ipython3",
   "version": "3.6.1"
  }
 },
 "nbformat": 4,
 "nbformat_minor": 2
}
