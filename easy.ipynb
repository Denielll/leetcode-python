{
 "cells": [
  {
   "cell_type": "markdown",
   "metadata": {},
   "source": [
    "# array"
   ]
  },
  {
   "cell_type": "code",
   "execution_count": 33,
   "metadata": {},
   "outputs": [
    {
     "data": {
      "text/plain": [
       "[0, 1]"
      ]
     },
     "execution_count": 33,
     "metadata": {},
     "output_type": "execute_result"
    }
   ],
   "source": [
    "# LC_Two Sum\n",
    "\n",
    "# 想了一下下\n",
    "\n",
    "# 主要知識點：\n",
    "# 解法用One-pass Hash Table\n",
    "# Time complexity : O(n)\n",
    "# We traverse the list containing nn elements only once. Each look up in the table costs only O(1)O(1) time.\n",
    "# Space complexity : O(n)\n",
    "# The extra space required depends on the number of items stored in the hash table, which stores at most nn elements.\n",
    "\n",
    "class Solution(object):\n",
    "    def twoSum(self, nums, target):\n",
    "        if len(nums) <=1:\n",
    "            return None\n",
    "        \n",
    "        dic = {}\n",
    "        for i,v in enumerate(nums):\n",
    "            if target-v in dic:\n",
    "                return [dic[target-v], i]\n",
    "            dic[v] = i\n",
    "            \n",
    "x = Solution()\n",
    "x.twoSum([2, 7, 11, 15], 9)"
   ]
  },
  {
   "cell_type": "code",
   "execution_count": null,
   "metadata": {
    "collapsed": true
   },
   "outputs": [],
   "source": []
  },
  {
   "cell_type": "code",
   "execution_count": 18,
   "metadata": {},
   "outputs": [
    {
     "data": {
      "text/plain": [
       "[0, 1, 9, 16, 100]"
      ]
     },
     "execution_count": 18,
     "metadata": {},
     "output_type": "execute_result"
    }
   ],
   "source": [
    "# LC_Squares of a Sorted Array\n",
    "\n",
    "# 想了一下下\n",
    "\n",
    "# 主要知識點：\n",
    "# 解法用到 Two Pointer (兩個index)\n",
    "# 這題不要傻傻的先平方後再排序。題目一開始給的array就是排序好的，是一定有原因的！\n",
    "# Time complexity: O(N), where N is the length of A.\n",
    "# Space Complexity: O(N).\n",
    "\n",
    "class Solution(object):\n",
    "    def sortedSquares(self, A):\n",
    "        \"\"\"\n",
    "        :type A: List[int]\n",
    "        :rtype: List[int]\n",
    "        \"\"\"\n",
    "        N = len(A)\n",
    "        \n",
    "        j = 0\n",
    "        while j<N and A[j]<0:\n",
    "            j += 1\n",
    "        i = j-1\n",
    "        \n",
    "        box = []\n",
    "        while 0<=i and j<N:\n",
    "            if A[i]**2 < A[j]**2:\n",
    "                box.append(A[i]**2)\n",
    "                i -= 1\n",
    "            else:\n",
    "                box.append(A[j]**2)\n",
    "                j += 1\n",
    "        \n",
    "        while 0<=i:\n",
    "            box.append(A[i]**2)\n",
    "            i -=1\n",
    "        \n",
    "        while j<N:\n",
    "            box.append(A[j]**2)\n",
    "            j += 1\n",
    "        \n",
    "        return box    \n",
    "                \n",
    "x = Solution()\n",
    "x.sortedSquares([-4,-1,0,3,10])"
   ]
  },
  {
   "cell_type": "code",
   "execution_count": null,
   "metadata": {
    "collapsed": true
   },
   "outputs": [],
   "source": []
  },
  {
   "cell_type": "code",
   "execution_count": null,
   "metadata": {
    "collapsed": true
   },
   "outputs": [],
   "source": []
  },
  {
   "cell_type": "code",
   "execution_count": null,
   "metadata": {
    "collapsed": true
   },
   "outputs": [],
   "source": []
  },
  {
   "cell_type": "code",
   "execution_count": null,
   "metadata": {
    "collapsed": true
   },
   "outputs": [],
   "source": []
  },
  {
   "cell_type": "code",
   "execution_count": null,
   "metadata": {
    "collapsed": true
   },
   "outputs": [],
   "source": []
  },
  {
   "cell_type": "markdown",
   "metadata": {},
   "source": [
    "# DP (Dynamic Programming)"
   ]
  },
  {
   "cell_type": "code",
   "execution_count": 5,
   "metadata": {},
   "outputs": [
    {
     "name": "stdout",
     "output_type": "stream",
     "text": [
      "5\n"
     ]
    }
   ],
   "source": [
    "# ?_給定某target(5) ＆ 一些零錢組合e.g. 1,2,3 。 試問這個零錢組合有多少種不同組合方式，可以湊成此target\n",
    "\n",
    "# 想不出來\n",
    "\n",
    "# 主要知識點：\n",
    "# 用到DP的概念，儲存intermediate result，以避免重複計算 ( e.g. 2+3 和 3+2 對這題而言，本質是一樣的)\n",
    "# https://stackoverflow.com/questions/14992411/understanding-change-making-algorithm\n",
    "\n",
    "target = 5\n",
    "coins = [1,2,3]\n",
    "ways = [1]+[0]*target\n",
    "for coin in coins:\n",
    "    for i in range(coin, target+1):\n",
    "        ways[i] += ways[i-coin]\n",
    "  \n",
    "        \n",
    "print(ways[target])"
   ]
  },
  {
   "cell_type": "code",
   "execution_count": null,
   "metadata": {
    "collapsed": true
   },
   "outputs": [],
   "source": []
  },
  {
   "cell_type": "code",
   "execution_count": null,
   "metadata": {
    "collapsed": true
   },
   "outputs": [],
   "source": []
  },
  {
   "cell_type": "code",
   "execution_count": 73,
   "metadata": {},
   "outputs": [
    {
     "data": {
      "text/plain": [
       "13"
      ]
     },
     "execution_count": 73,
     "metadata": {},
     "output_type": "execute_result"
    }
   ],
   "source": [
    "# ?_費波切那函數\n",
    "\n",
    "# 想了一下下\n",
    "\n",
    "# 主要知識點：\n",
    "# bottom-up approach \n",
    "# Time complexity: O(n)\n",
    "# https://www.youtube.com/watch?v=vYquumk4nWw&t=1s\n",
    "\n",
    "\n",
    "def fb(n):\n",
    "    b = [0]*n\n",
    "    b[0] = 1\n",
    "    b[1] = 1\n",
    "    for i in range(2,n):\n",
    "        b[i] = b[i-1] + b[i-2]\n",
    "    \n",
    "    return b[n-1]\n",
    "fb(7)"
   ]
  },
  {
   "cell_type": "code",
   "execution_count": 19,
   "metadata": {},
   "outputs": [
    {
     "data": {
      "text/plain": [
       "13"
      ]
     },
     "execution_count": 19,
     "metadata": {},
     "output_type": "execute_result"
    }
   ],
   "source": [
    "# ?_費波切那函數\n",
    "\n",
    "# 想不出來\n",
    "\n",
    "# 主要知識點：\n",
    "# top-down approach \n",
    "# 我真的想不出來這種解法，可能是因為recursive式的編程方式我還不習慣\n",
    "# Time complexity: O(n)\n",
    "# https://www.youtube.com/watch?v=vYquumk4nWw&t=1s\n",
    "\n",
    "def fb(n,memo):\n",
    "    if memo[n]:\n",
    "        return memo[n]\n",
    "    if n==1 or n==2:\n",
    "        result = 1\n",
    "    else:\n",
    "        result = fb(n-1,memo)+fb(n-2,memo)\n",
    "    memo[n] = result\n",
    "    return result\n",
    "\n",
    "\n",
    "fb(7,[None]*8)"
   ]
  },
  {
   "cell_type": "code",
   "execution_count": null,
   "metadata": {
    "collapsed": true
   },
   "outputs": [],
   "source": []
  },
  {
   "cell_type": "code",
   "execution_count": null,
   "metadata": {
    "collapsed": true
   },
   "outputs": [],
   "source": []
  },
  {
   "cell_type": "code",
   "execution_count": null,
   "metadata": {
    "collapsed": true
   },
   "outputs": [],
   "source": []
  },
  {
   "cell_type": "markdown",
   "metadata": {},
   "source": [
    "# Miscellaneous"
   ]
  },
  {
   "cell_type": "code",
   "execution_count": 56,
   "metadata": {
    "collapsed": true
   },
   "outputs": [],
   "source": [
    "# 這區塊主要紀錄在刷題時找到的一些其他知識點，可能是有關python的, 程式語言的, 數學的...等等\n",
    "# 等刷完題，會把這些知識點存入谷歌雲端_Research"
   ]
  },
  {
   "cell_type": "code",
   "execution_count": 1,
   "metadata": {
    "collapsed": true
   },
   "outputs": [],
   "source": [
    "# The self variable in python explained\n",
    "\n",
    "# self refers to the bound variable or object of class.\n",
    "# https://pythontips.com/2013/08/07/the-self-variable-in-python-explained/"
   ]
  },
  {
   "cell_type": "code",
   "execution_count": 39,
   "metadata": {
    "collapsed": true
   },
   "outputs": [],
   "source": [
    "# memoization?\n",
    "\n",
    "# 就類似cache拉！\n",
    "# https://pjchender.blogspot.com/2017/09/fibonacci-cache-memoization.html"
   ]
  },
  {
   "cell_type": "code",
   "execution_count": null,
   "metadata": {
    "collapsed": true
   },
   "outputs": [],
   "source": []
  },
  {
   "cell_type": "code",
   "execution_count": null,
   "metadata": {
    "collapsed": true
   },
   "outputs": [],
   "source": []
  },
  {
   "cell_type": "code",
   "execution_count": null,
   "metadata": {
    "collapsed": true
   },
   "outputs": [],
   "source": []
  },
  {
   "cell_type": "code",
   "execution_count": null,
   "metadata": {
    "collapsed": true
   },
   "outputs": [],
   "source": []
  },
  {
   "cell_type": "code",
   "execution_count": null,
   "metadata": {
    "collapsed": true
   },
   "outputs": [],
   "source": []
  },
  {
   "cell_type": "code",
   "execution_count": null,
   "metadata": {
    "collapsed": true
   },
   "outputs": [],
   "source": []
  },
  {
   "cell_type": "code",
   "execution_count": null,
   "metadata": {
    "collapsed": true
   },
   "outputs": [],
   "source": []
  },
  {
   "cell_type": "code",
   "execution_count": null,
   "metadata": {
    "collapsed": true
   },
   "outputs": [],
   "source": []
  },
  {
   "cell_type": "code",
   "execution_count": null,
   "metadata": {
    "collapsed": true
   },
   "outputs": [],
   "source": []
  },
  {
   "cell_type": "code",
   "execution_count": null,
   "metadata": {
    "collapsed": true
   },
   "outputs": [],
   "source": []
  }
 ],
 "metadata": {
  "kernelspec": {
   "display_name": "Python 3",
   "language": "python",
   "name": "python3"
  },
  "language_info": {
   "codemirror_mode": {
    "name": "ipython",
    "version": 3
   },
   "file_extension": ".py",
   "mimetype": "text/x-python",
   "name": "python",
   "nbconvert_exporter": "python",
   "pygments_lexer": "ipython3",
   "version": "3.6.1"
  }
 },
 "nbformat": 4,
 "nbformat_minor": 2
}
