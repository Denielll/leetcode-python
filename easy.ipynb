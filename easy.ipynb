{
 "cells": [
  {
   "cell_type": "markdown",
   "metadata": {},
   "source": [
    "# Stack"
   ]
  },
  {
   "cell_type": "code",
   "execution_count": null,
   "metadata": {
    "collapsed": true
   },
   "outputs": [],
   "source": [
    "# LC_Valid Parentheses\n",
    "\n",
    "# 想一下\n",
    "\n",
    "# 主要知識點：\n",
    "# Time complexity : O(n) because we simply traverse the given string one character at a time\n",
    "# and push or pop operation on a stack take O(1) time.\n",
    "# Space complexity : O(n) as we push all opening brackets onto the stack and in the worst case,\n",
    "# we will end up pushing all the brackets onto the stack. e.g. ((((((((((.\n",
    "\n",
    "class Solution(object):\n",
    "    def isValid(self, s):\n",
    "        stack = []\n",
    "        d = {'(':')', '[':']', '{':'}'}\n",
    "        for i in s:\n",
    "            if i in d:\n",
    "                stack.append(i)\n",
    "            elif not stack:\n",
    "                return False\n",
    "            else:\n",
    "                top = stack.pop()\n",
    "                if d[top] != i:\n",
    "                    return False\n",
    "        \n",
    "        return not stack"
   ]
  },
  {
   "cell_type": "code",
   "execution_count": null,
   "metadata": {
    "collapsed": true
   },
   "outputs": [],
   "source": []
  },
  {
   "cell_type": "code",
   "execution_count": null,
   "metadata": {
    "collapsed": true
   },
   "outputs": [],
   "source": []
  },
  {
   "cell_type": "code",
   "execution_count": null,
   "metadata": {
    "collapsed": true
   },
   "outputs": [],
   "source": []
  },
  {
   "cell_type": "markdown",
   "metadata": {},
   "source": [
    "# Tree"
   ]
  },
  {
   "cell_type": "code",
   "execution_count": null,
   "metadata": {
    "collapsed": true
   },
   "outputs": [],
   "source": [
    "# LC_Lowest Common Ancestor of a Binary Search Tree_iteration\n",
    "\n",
    "# 想一下\n",
    "\n",
    "# 主要知識點：\n",
    "# Time Complexity : O(N), where N is the number of nodes in the BST. \n",
    "# In the worst case we might be visiting all the nodes of the BST. (e.g. to the end of completely unbalanced tree)\n",
    "# Space Complexity : O(1).\n",
    "\n",
    "class Solution(object):\n",
    "    def lowestCommonAncestor(self, root, p, q):\n",
    "        # problem notes\n",
    "        # 1, All of the nodes' values will be unique.\n",
    "        # 2, p and q are different and both values will exist in the BST.\n",
    "        while True:\n",
    "            if p.val <= root.val <= q.val or q.val <= root.val <= p.val:\n",
    "                return root \n",
    "            if p.val > root.val and q.val > root.val:\n",
    "                root = root.right\n",
    "            elif p.val < root.val and q.val < root.val:\n",
    "                root = root.left"
   ]
  },
  {
   "cell_type": "code",
   "execution_count": null,
   "metadata": {
    "collapsed": true
   },
   "outputs": [],
   "source": [
    "# LC_Lowest Common Ancestor of a Binary Search Tree_recursion\n",
    "\n",
    "# 想一下\n",
    "\n",
    "# 主要知識點：\n",
    "# Time Complexity: O(N). like time complexity of iteration approach\n",
    "# Space Complexity: O(N). This is because the maximum amount of \n",
    "# space utilized by the recursion stack would be N since the height of a skewed BST could be N. \n",
    "\n",
    "class Solution(object):\n",
    "    def lowestCommonAncestor(self, root, p, q):\n",
    "        # problem notes\n",
    "        # 1, All of the nodes' values will be unique.\n",
    "        # 2, p and q are different and both values will exist in the BST.\n",
    "        if min(p.val, q.val) <= root.val <= max(p.val, q.val):\n",
    "            return root\n",
    "        if max(p.val, q.val) < root.val:\n",
    "            return self.lowestCommonAncestor(root.left, p, q)\n",
    "        if min(p.val, q.val) > root.val:\n",
    "            return self.lowestCommonAncestor(root.right, p, q)"
   ]
  },
  {
   "cell_type": "code",
   "execution_count": null,
   "metadata": {
    "collapsed": true
   },
   "outputs": [],
   "source": []
  },
  {
   "cell_type": "code",
   "execution_count": null,
   "metadata": {
    "collapsed": true
   },
   "outputs": [],
   "source": [
    "# LC_Invert Binary Tree_recursion\n",
    "\n",
    "# 想一下\n",
    "\n",
    "# 主要知識點：\n",
    "# top-down approach from root to leaf, magical function is the key, preorder\n",
    "\n",
    "class Solution(object):\n",
    "    def invertTree(self, root):\n",
    "        \"\"\"\n",
    "        :type root: TreeNode\n",
    "        :rtype: TreeNode\n",
    "        \"\"\"\n",
    "        \n",
    "        if not root:\n",
    "            return None\n",
    "        \n",
    "        root.left, root.right = root.right, root.left\n",
    "        \n",
    "        self.invertTree(root.left)\n",
    "        self.invertTree(root.right)\n",
    "        \n",
    "        return root\n",
    "\n",
    "    \n",
    "# 主要知識點：\n",
    "# bottom-up approach from leaf to root\n",
    "class Solution(object):\n",
    "    def invertTree(self, root):\n",
    "        \"\"\"\n",
    "        :type root: TreeNode\n",
    "        :rtype: TreeNode\n",
    "        \"\"\"\n",
    "        if root:\n",
    "            root.left, root.right = self.invertTree(root.right), self.invertTree(root.left)\n",
    "        return root"
   ]
  },
  {
   "cell_type": "code",
   "execution_count": null,
   "metadata": {
    "collapsed": true
   },
   "outputs": [],
   "source": [
    "# LC_Invert Binary Tree_iteration\n",
    "\n",
    "# 想一下 (想不到 for iteration approach)\n",
    "\n",
    "# iteration approach always come with some data structures. Therefore, when using iteration approach, \n",
    "# think of what data structures to store what at when. below is a very good example!\n",
    "# variable level is used for the current level, while q is used to store next level for next while-loop variable level\n",
    "\n",
    "class Solution(object):\n",
    "    def invertTree(self, root):\n",
    "        \"\"\"\n",
    "        :type root: TreeNode\n",
    "        :rtype: TreeNode\n",
    "        \"\"\"\n",
    "        level = [root] if root else []\n",
    "        while level:\n",
    "            q = []\n",
    "            for node in level:\n",
    "                if node.left:\n",
    "                    q.append(node.left)                \n",
    "                if node.right:\n",
    "                    q.append(node.right)\n",
    "                node.left, node.right = node.right, node.left           \n",
    "            level = q\n",
    "        return root\n",
    "\n",
    "\n",
    "# p = TreeNode(3)\n",
    "# p.left = TreeNode(4)\n",
    "# p.right = TreeNode(5)\n",
    "# p.left.left = TreeNode(40)\n",
    "\n",
    "# a = p.left\n",
    "# a.left = TreeNode(111)\n",
    "# # print(p.left.left.val) will print 111"
   ]
  },
  {
   "cell_type": "code",
   "execution_count": null,
   "metadata": {
    "collapsed": true
   },
   "outputs": [],
   "source": []
  },
  {
   "cell_type": "code",
   "execution_count": 1,
   "metadata": {},
   "outputs": [
    {
     "data": {
      "text/plain": [
       "True"
      ]
     },
     "execution_count": 1,
     "metadata": {},
     "output_type": "execute_result"
    }
   ],
   "source": [
    "# LC_Same Tree_recursion\n",
    "\n",
    "# 想不到\n",
    "\n",
    "# 主要知識點：\n",
    "# a bit of DFS concept behind this\n",
    "# Time complexity: O(N),  where N is a number of nodes in the tree, since one visits each node exactly once.\n",
    "# Space Complexity: O(log(N)) in the best case of completely balanced tree and\n",
    "# O(N) in the worst case of completely unbalanced tree, to keep a recursion stack.\n",
    "\n",
    "class TreeNode(object):\n",
    "    def __init__(self, x):\n",
    "        self.val = x\n",
    "        self.right = None\n",
    "        self.left = None\n",
    "        \n",
    "class Solution(object):\n",
    "    def isSameTree(self, p, q):\n",
    "        if not p and not q:\n",
    "            return True\n",
    "        if not p or not q:\n",
    "            return False\n",
    "        if p.val != q.val:\n",
    "            return False\n",
    "        \n",
    "        return self.isSameTree(p.left, q.left) and self.isSameTree(p.right, q.right)\n",
    "    \n",
    "p = TreeNode(3)\n",
    "p.left = TreeNode(4)\n",
    "p.right = TreeNode(5)\n",
    "p.left.left = TreeNode(40)\n",
    "\n",
    "q = TreeNode(3)\n",
    "q.left = TreeNode(4)\n",
    "q.right = TreeNode(5)\n",
    "q.left.left = TreeNode(40)\n",
    "\n",
    "Solution().isSameTree(p,q)"
   ]
  },
  {
   "cell_type": "code",
   "execution_count": 23,
   "metadata": {},
   "outputs": [
    {
     "data": {
      "text/plain": [
       "True"
      ]
     },
     "execution_count": 23,
     "metadata": {},
     "output_type": "execute_result"
    }
   ],
   "source": [
    "# LC_Same Tree_iteration\n",
    "\n",
    "\n",
    "# 想不到\n",
    "\n",
    "# 主要知識點：\n",
    "# a bit of BFS concept behind this\n",
    "# Time complexity : O(N) since each node is visited exactly once.\n",
    "# Space complexity : O(N) for balanced tree. O(1) for completely unbalanced tree (Leetcode's complexity analysis is wrong)\n",
    "\n",
    "from collections import deque\n",
    "\n",
    "class TreeNode(object):\n",
    "    def __init__(self, x):\n",
    "        self.val = x\n",
    "        self.right = None\n",
    "        self.left = None     \n",
    "        \n",
    "class Solution(object):\n",
    "    def isSameTree(self, p, q):\n",
    "        \n",
    "        def check(p,q):\n",
    "            if not p and not q:\n",
    "                return True\n",
    "            if not p or not q:\n",
    "                return False\n",
    "            if p.val != q.val:\n",
    "                return False\n",
    "            \n",
    "            return True # i.e. p.val == q.val\n",
    "\n",
    "            \n",
    "        deq = deque([(p,q)])\n",
    "        while deq:\n",
    "            # print(len(deq))   # used for testing space complexity\n",
    "            p, q = deq.popleft()\n",
    "            if not check(p,q):\n",
    "                return False\n",
    "            \n",
    "            \n",
    "            if p:\n",
    "                deq.append((p.left, q.left))\n",
    "                deq.append((p.right, q.right))\n",
    "        \n",
    "        return True\n",
    "\n",
    "p = TreeNode(3)\n",
    "p.left = TreeNode(4)\n",
    "p.right = TreeNode(5)\n",
    "\n",
    "\n",
    "q = TreeNode(3)\n",
    "q.left = TreeNode(4)\n",
    "q.right = TreeNode(5)\n",
    "\n",
    "\n",
    "Solution().isSameTree(p,q)"
   ]
  },
  {
   "cell_type": "code",
   "execution_count": null,
   "metadata": {
    "collapsed": true
   },
   "outputs": [],
   "source": []
  },
  {
   "cell_type": "code",
   "execution_count": 34,
   "metadata": {},
   "outputs": [
    {
     "data": {
      "text/plain": [
       "True"
      ]
     },
     "execution_count": 34,
     "metadata": {},
     "output_type": "execute_result"
    }
   ],
   "source": [
    "# LC_Symmetric Tree_recursion\n",
    "\n",
    "\n",
    "# 想很久\n",
    "\n",
    "# 主要知識點：\n",
    "# a bit of DFS concept behind this\n",
    "# Time complexity : O(N) since each node is visited exactly once.\n",
    "# Space complexity : The number of recursive calls is bound by the height of the tree. \n",
    "# In the worst case(left child has only left child; right has only right), the tree is linear and the height is in n/2\n",
    "# Therefore, space complexity due to recursive calls on the stack is O(n) in the worst case. \n",
    "\n",
    "\n",
    "\n",
    "class TreeNode(object):\n",
    "    def __init__(self, x):\n",
    "        self.val = x\n",
    "        self.right = None\n",
    "        self.left = None     \n",
    "\n",
    "class Solution(object):\n",
    "    def isSymmetric(self, root):\n",
    "        \"\"\"\n",
    "        :type root: TreeNode\n",
    "        :rtype: bool\n",
    "        \"\"\"\n",
    "        \n",
    "        if not root:\n",
    "            return True\n",
    "        t1 = root.left\n",
    "        t2 = root.right\n",
    "        return self.isMirror(t1, t2)\n",
    "    \n",
    "    def isMirror(self, t1, t2):\n",
    "        if not t1 and not t2:\n",
    "            return True\n",
    "        if not t1 or not t2:\n",
    "            return False\n",
    "        if t1.val != t2.val:\n",
    "            return False\n",
    "        return self.isMirror(t1.left, t2.right) and self.isMirror(t1.right, t2.left)\n",
    "\n",
    "q = TreeNode(3)\n",
    "q.left = TreeNode(4)\n",
    "q.left.left = TreeNode(1)\n",
    "q.right = TreeNode(4)\n",
    "q.right.right = TreeNode(1)\n",
    "\n",
    "Solution().isSymmetric(q)"
   ]
  },
  {
   "cell_type": "code",
   "execution_count": 39,
   "metadata": {},
   "outputs": [
    {
     "data": {
      "text/plain": [
       "True"
      ]
     },
     "execution_count": 39,
     "metadata": {},
     "output_type": "execute_result"
    }
   ],
   "source": [
    "# LC_Symmetric Tree_iteration\n",
    "\n",
    "\n",
    "# 想很久\n",
    "\n",
    "# 主要知識點：\n",
    "# a bit of BFS concept behind this\n",
    "# Time complexity : O(N) since each node is visited exactly once.\n",
    "# Space complexity :  In the worst case(balanced tree), we have to insert about n nodes(number of leaves*2, all None) \n",
    "# in the queue. Therefore, space complexity is O(n).\n",
    "\n",
    "from collections import deque\n",
    "\n",
    "class TreeNode(object):\n",
    "    def __init__(self, x):\n",
    "        self.val = x\n",
    "        self.right = None\n",
    "        self.left = None     \n",
    "        \n",
    "class Solution(object):\n",
    "    def isSymmetric(self, root):\n",
    "        \"\"\"\n",
    "        :type root: TreeNode\n",
    "        :rtype: bool\n",
    "        \"\"\"\n",
    "        \n",
    "        if not root:\n",
    "            return True\n",
    "        t1 = root.left\n",
    "        t2 = root.right\n",
    "         \n",
    "        deq = deque()\n",
    "        deq.append(t1)\n",
    "        deq.append(t2)\n",
    "        while deq:\n",
    "            p = deq.popleft()\n",
    "            q = deq.popleft()\n",
    "            if not p and not q:\n",
    "                pass \n",
    "            elif not p or not q:\n",
    "                return False\n",
    "            elif p.val != q.val:\n",
    "                return False\n",
    "            \n",
    "            if p:\n",
    "                deq.append(p.left)\n",
    "                deq.append(q.right)\n",
    "                deq.append(p.right)\n",
    "                deq.append(q.left)\n",
    "        \n",
    "        return True\n",
    "                \n",
    "\n",
    "q = TreeNode(3)\n",
    "q.left = TreeNode(4)\n",
    "q.left.left = TreeNode(1)\n",
    "q.right = TreeNode(4)\n",
    "q.right.right = TreeNode(1)\n",
    "\n",
    "Solution().isSymmetric(q)"
   ]
  },
  {
   "cell_type": "code",
   "execution_count": null,
   "metadata": {
    "collapsed": true
   },
   "outputs": [],
   "source": []
  },
  {
   "cell_type": "code",
   "execution_count": 4,
   "metadata": {},
   "outputs": [
    {
     "data": {
      "text/plain": [
       "3"
      ]
     },
     "execution_count": 4,
     "metadata": {},
     "output_type": "execute_result"
    }
   ],
   "source": [
    "# LC_Maximum Depth of Binary Tree_recursion\n",
    "\n",
    "\n",
    "# 想不到\n",
    "\n",
    "# 主要知識點：\n",
    "# a bit of DFS concept behind this\n",
    "\n",
    "\n",
    "class TreeNode(object):\n",
    "    def __init__(self, x):\n",
    "        self.val = x\n",
    "        self.right = None\n",
    "        self.left = None     \n",
    "        \n",
    "class Solution(object):\n",
    "    def maxDepth(self, root):\n",
    "        \"\"\"\n",
    "        :type root: TreeNode\n",
    "        :rtype: bool\n",
    "        \"\"\"\n",
    "        if not root:\n",
    "            return 0\n",
    "        l = self.maxDepth(root.left)\n",
    "        r = self.maxDepth(root.right)\n",
    "        return max(l,r)+1\n",
    "       \n",
    "                \n",
    "\n",
    "q = TreeNode(3)\n",
    "q.left = TreeNode(4)\n",
    "q.left.left = TreeNode(1)\n",
    "q.right = TreeNode(4)\n",
    "q.right.right = TreeNode(1)\n",
    "\n",
    "Solution().maxDepth(q)"
   ]
  },
  {
   "cell_type": "code",
   "execution_count": null,
   "metadata": {
    "collapsed": true
   },
   "outputs": [],
   "source": [
    "# LC_Maximum Depth of Binary Tree_recursion\n",
    "\n",
    "# 想不到\n",
    "\n",
    "# 主要知識點：\n",
    "# a bit of BFS concept behind this\n",
    "\n",
    "\n",
    "import collections\n",
    "class Solution:\n",
    "    def maxDepth(self, root: TreeNode) -> int:\n",
    "\t    # Obvious check\n",
    "        if not root: \n",
    "            return 0\n",
    "        \n",
    "\t\t# push the current root to a queue\n",
    "\t\t# here use deque, using list seems similar performance\n",
    "        q = collections.deque([])  \n",
    "        \n",
    "\t\t# Enqueue the current root\n",
    "        q.append(root)\n",
    "\t\t\n",
    "\t\t# Initialize teh height to 0\n",
    "        height =0\n",
    "        \n",
    "        while True:\n",
    "\t\t\n",
    "            nodeCount = len(q)\n",
    "            \n",
    "            if not nodeCount:\n",
    "                return height\n",
    "            \n",
    "            height += 1\n",
    "            \n",
    "\t\t\t# The main idea here is to dequeue the current root but enqueue it's r/l children\n",
    "\t\t\t# Using the nodeCount as count down to do level by level operation.\n",
    "            while nodeCount > 0:\n",
    "                root = q.popleft()\n",
    "                \n",
    "                if root.left:\n",
    "                    q.append(root.left)\n",
    "                    \n",
    "                if root.right:\n",
    "                    q.append(root.right)\n",
    "                    \n",
    "                nodeCount -= 1"
   ]
  },
  {
   "cell_type": "code",
   "execution_count": null,
   "metadata": {
    "collapsed": true
   },
   "outputs": [],
   "source": []
  },
  {
   "cell_type": "code",
   "execution_count": null,
   "metadata": {
    "collapsed": true
   },
   "outputs": [],
   "source": [
    "# LC_Binary Tree Level Order Traversal II_iteration\n",
    "\n",
    "# 想不到\n",
    "\n",
    "\n",
    "# Definition for a binary tree node.\n",
    "# class TreeNode(object):\n",
    "#     def __init__(self, x):\n",
    "#         self.val = x\n",
    "#         self.left = None\n",
    "#         self.right = None\n",
    "\n",
    "from collections import deque\n",
    "\n",
    "class Solution(object):\n",
    "    def levelOrderBottom(self, root):\n",
    "        \"\"\"\n",
    "        :type root: TreeNode\n",
    "        :rtype: List[List[int]]\n",
    "        \"\"\"\n",
    "        if root is None:\n",
    "            return []\n",
    "        \n",
    "        level = []\n",
    "        level.append(root)\n",
    "        result = deque()\n",
    "        \n",
    "        while level:\n",
    "            l = [n.val for n in level]\n",
    "            result.appendleft(l)\n",
    "            \n",
    "            reset = []\n",
    "            for s in level:\n",
    "                if s.left:\n",
    "                    reset.append(s.left)\n",
    "                if s.right:\n",
    "                    reset.append(s.right)\n",
    "            level = reset\n",
    "            \n",
    "        return list(result)"
   ]
  },
  {
   "cell_type": "code",
   "execution_count": null,
   "metadata": {
    "collapsed": true
   },
   "outputs": [],
   "source": [
    "# LC_Binary Tree Level Order Traversal II_recursion\n",
    "\n",
    "# 想不到\n",
    "\n",
    "\n",
    "class Solution(object):\n",
    "    def levelOrderBottom(self, root):\n",
    "        \"\"\"\n",
    "        :type root: TreeNode\n",
    "        :rtype: List[List[int]]\n",
    "        \"\"\"\n",
    "        r = []\n",
    "        \n",
    "        def tra(root, level):\n",
    "            if not root:\n",
    "                return []\n",
    "            if level>= len(r):\n",
    "                r.append([root.val])\n",
    "            else:\n",
    "                r[level].append(root.val)\n",
    "            \n",
    "            tra(root.left, level+1)\n",
    "            tra(root.right, level+1)\n",
    "            \n",
    "        tra(root, 0)\n",
    "        return r[::-1]\n"
   ]
  },
  {
   "cell_type": "code",
   "execution_count": null,
   "metadata": {
    "collapsed": true
   },
   "outputs": [],
   "source": []
  },
  {
   "cell_type": "code",
   "execution_count": null,
   "metadata": {
    "collapsed": true
   },
   "outputs": [],
   "source": [
    "# LC_Convert Sorted Array to Binary Search Tree_recursion\n",
    "\n",
    "# 想不到\n",
    "\n",
    "# 主要知識點：\n",
    "# This question is easier done using recursion \n",
    "\n",
    "class Solution(object):\n",
    "    def sortedArrayToBST(self, nums):\n",
    "        \"\"\"\n",
    "        :type nums: List[int]\n",
    "        :rtype: TreeNode\n",
    "        \"\"\"\n",
    "        if not nums:\n",
    "            return None\n",
    "        mid_index = len(nums)//2\n",
    "        node = TreeNode(nums[mid_index])\n",
    "        node.left = self.sortedArrayToBST(nums[:mid_index])\n",
    "        node.right = self.sortedArrayToBST(nums[mid_index+1:])\n",
    "        \n",
    "        return node"
   ]
  },
  {
   "cell_type": "code",
   "execution_count": null,
   "metadata": {
    "collapsed": true
   },
   "outputs": [],
   "source": []
  },
  {
   "cell_type": "code",
   "execution_count": null,
   "metadata": {
    "collapsed": true
   },
   "outputs": [],
   "source": [
    "# LC_Balanced Binary Tree_recursion\n",
    "\n",
    "# 想不到\n",
    "\n",
    "# 主要知識點：\n",
    "# recursion method is easier than the iteration one in this problem\n",
    "\n",
    "class Solution(object):\n",
    "    balanced = True\n",
    "    def isBalanced(self, root):\n",
    "        \"\"\"\n",
    "        :type root: TreeNode\n",
    "        :rtype: bool\n",
    "        \"\"\"\n",
    "        self.get_height(root)\n",
    "        return self.balanced    \n",
    "    \n",
    "    def get_height(self, root):\n",
    "        if root is None:\n",
    "            return 0 \n",
    "\n",
    "        left = self.get_height(root.left)\n",
    "        right = self.get_height(root.right)\n",
    "\n",
    "        if abs(left - right) >1:\n",
    "            self.balanced = False\n",
    "\n",
    "        return max(left, right)+1\n",
    "    \n",
    "# Below is a faster solution beating 98% with a 40ms runtime. \n",
    "# The moment you find imbalance, pass that all the way back up and skip doing anymore recursion.\n",
    "\n",
    "# class Solution(object):\n",
    "#     def isBalanced(self, root):\n",
    "#         def check(root):\n",
    "#             if not root:\n",
    "#                 return 0\n",
    "            \n",
    "#             left = check(root.left)\n",
    "#             if left == -1:\n",
    "#                 return -1\n",
    "#             right = check(root.right)\n",
    "#             if right == -1:\n",
    "#                 return -1\n",
    "            \n",
    "#             if abs(left - right) > 1:\n",
    "#                 return -1\n",
    "#             return max(left, right) + 1\n",
    "        \n",
    "#         return check(root) != -1"
   ]
  },
  {
   "cell_type": "code",
   "execution_count": null,
   "metadata": {
    "collapsed": true
   },
   "outputs": [],
   "source": [
    "# LC_Balanced Binary Tree_iteration\n",
    "\n",
    "# 想不到\n",
    "\n",
    "# 主要知識點：\n",
    "# use postorder traversal! Once you understand that what behind this iteration code is postorder traversal, \n",
    "# the code will be much readable\n",
    "\n",
    "class Solution(object):\n",
    "    def isBalanced(self, root):\n",
    "        stack, node, last, depths = [], root, None, {}\n",
    "        while stack or node:\n",
    "            if node:\n",
    "                stack.append(node)\n",
    "                node = node.left\n",
    "            else:\n",
    "                node = stack[-1]\n",
    "                if not node.right or last == node.right:\n",
    "                    node = stack.pop()\n",
    "                    left, right  = depths.get(node.left, 0), depths.get(node.right, 0)\n",
    "                    if abs(left - right) > 1: return False\n",
    "                    depths[node] = 1 + max(left, right)\n",
    "                    last = node\n",
    "                    node = None\n",
    "                else:\n",
    "                    node = node.right\n",
    "        return True"
   ]
  },
  {
   "cell_type": "code",
   "execution_count": null,
   "metadata": {
    "collapsed": true
   },
   "outputs": [],
   "source": []
  },
  {
   "cell_type": "code",
   "execution_count": null,
   "metadata": {
    "collapsed": true
   },
   "outputs": [],
   "source": [
    "# LC_Minimum Depth of Binary Tree_recursion\n",
    "\n",
    "# 想很久\n",
    "\n",
    "# 主要知識點：\n",
    "# be careful of the edge case! e.g. When left or right node of root is None, min(left, right) + 1 doesn't work anymore, \n",
    "# e.g. the min depth of the tree below is 3 not 1. Therefore, min(left, right)  won't work. use max(left, right)\n",
    "    3\n",
    "      2\n",
    "        4\n",
    "\n",
    "\n",
    "class Solution(object):\n",
    "    def minDepth(self, root):\n",
    "        \"\"\"\n",
    "        :type root: TreeNode\n",
    "        :rtype: int\n",
    "        \"\"\"\n",
    "        if not root:\n",
    "            return 0\n",
    "        left = self.minDepth(root.left)\n",
    "        right = self.minDepth(root.right)\n",
    "        if left == 0 or right == 0:\n",
    "            return max(left, right)+1\n",
    "        return min(left, right)+1\n",
    "    \n",
    "# Below is a faster solution beating 98% with a 40ms runtime. \n",
    "# The moment you find imbalance, pass that all the way back up and skip doing anymore recursion.\n",
    "\n",
    "# class Solution(object):\n",
    "#     def isBalanced(self, root):\n",
    "#         def check(root):\n",
    "#             if not root:\n",
    "#                 return 0\n",
    "            \n",
    "#             left = check(root.left)\n",
    "#             if left == -1:\n",
    "#                 return -1\n",
    "#             right = check(root.right)\n",
    "#             if right == -1:\n",
    "#                 return -1\n",
    "            \n",
    "#             if abs(left - right) > 1:\n",
    "#                 return -1\n",
    "#             return max(left, right) + 1\n",
    "        \n",
    "#         return check(root) != -1"
   ]
  },
  {
   "cell_type": "code",
   "execution_count": null,
   "metadata": {
    "collapsed": true
   },
   "outputs": [],
   "source": [
    "# LC_Minimum Depth of Binary Tree_iteration\n",
    "\n",
    "# 想很久\n",
    "\n",
    "# 主要知識點：\n",
    "# BFS. iteration is always (not must be)related to BFS. Therefore, when building a solution, think of BFS.\n",
    "\n",
    "class Solution(object):\n",
    "    def minDepth(self, root):\n",
    "        \"\"\"\n",
    "        :type root: TreeNode\n",
    "        :rtype: int\n",
    "        \"\"\"\n",
    "        if not root:\n",
    "            return 0  \n",
    "        depth, level = 0, [root]\n",
    "        while level:\n",
    "            depth += 1\n",
    "            temp = []\n",
    "            for node in level:\n",
    "                l, r = node.left, node.right\n",
    "                if not l and not r:\n",
    "                    return depth\n",
    "                if l:\n",
    "                    temp.append(l)\n",
    "                if r:\n",
    "                    temp.append(r)\n",
    "            level = temp\n",
    "        return depth"
   ]
  },
  {
   "cell_type": "code",
   "execution_count": null,
   "metadata": {
    "collapsed": true
   },
   "outputs": [],
   "source": []
  },
  {
   "cell_type": "code",
   "execution_count": null,
   "metadata": {
    "collapsed": true
   },
   "outputs": [],
   "source": [
    "# LC_Path Sum_recursion\n",
    "\n",
    "# 想不到\n",
    "\n",
    "# 主要知識點：\n",
    "# gradually, I kind of get the trick of writing recursive code:\n",
    "# step1, base case. step2, imagine there is a magical function. step3, use step1 and step2 to complete the function\n",
    "\n",
    "\n",
    "class Solution(object):\n",
    "    def hasPathSum(self, root, sum):\n",
    "        \"\"\"\n",
    "        :type root: TreeNode\n",
    "        :type sum: int\n",
    "        :rtype: bool\n",
    "        \"\"\"\n",
    "\n",
    "        if not root:\n",
    "            return False\n",
    "        \n",
    "        if (root.val - sum) == 0 and root.left is None and root.right is None:\n",
    "            return True\n",
    "        if root.left != None:\n",
    "            if self.hasPathSum(root.left, sum-root.val):\n",
    "                return True\n",
    "            \n",
    "        if root.right != None:\n",
    "            if self.hasPathSum(root.right, sum-root.val):\n",
    "                return True\n",
    "        \n",
    "        return False"
   ]
  },
  {
   "cell_type": "code",
   "execution_count": null,
   "metadata": {
    "collapsed": true
   },
   "outputs": [],
   "source": [
    "# LC_Path Sum_iteration\n",
    "\n",
    "# 想不到\n",
    "\n",
    "# 主要知識點：\n",
    "# when encountering iteration, think of BFS (sometimes post-order). And BFS is normally implemented with queue+loop \n",
    "\n",
    "from collections import deque\n",
    "class Solution(object):\n",
    "    def hasPathSum(self, root, sum):\n",
    "        \"\"\"\n",
    "        :type root: TreeNode\n",
    "        :type sum: int\n",
    "        :rtype: bool\n",
    "        \"\"\"\n",
    "        if not root:\n",
    "            return False\n",
    "\n",
    "        deq = deque([(root, root.val)])\n",
    "        temp = []\n",
    "        \n",
    "        while deq:\n",
    "            n, v = deq.popleft()\n",
    "            if not n.left and not n.right:\n",
    "                temp.append(v)\n",
    "            if n.left:\n",
    "                deq.append((n.left, v+n.left.val))\n",
    "            if n.right:\n",
    "                deq.append((n.right, v+n.right.val))\n",
    "        \n",
    "        return sum in temp"
   ]
  },
  {
   "cell_type": "code",
   "execution_count": null,
   "metadata": {
    "collapsed": true
   },
   "outputs": [],
   "source": []
  },
  {
   "cell_type": "code",
   "execution_count": null,
   "metadata": {
    "collapsed": true
   },
   "outputs": [],
   "source": []
  },
  {
   "cell_type": "code",
   "execution_count": null,
   "metadata": {
    "collapsed": true
   },
   "outputs": [],
   "source": []
  },
  {
   "cell_type": "code",
   "execution_count": null,
   "metadata": {
    "collapsed": true
   },
   "outputs": [],
   "source": []
  },
  {
   "cell_type": "code",
   "execution_count": null,
   "metadata": {
    "collapsed": true
   },
   "outputs": [],
   "source": []
  },
  {
   "cell_type": "code",
   "execution_count": null,
   "metadata": {
    "collapsed": true
   },
   "outputs": [],
   "source": []
  },
  {
   "cell_type": "markdown",
   "metadata": {},
   "source": [
    "# Linked List"
   ]
  },
  {
   "cell_type": "code",
   "execution_count": null,
   "metadata": {
    "collapsed": true
   },
   "outputs": [],
   "source": [
    "# LC_Middle of the Linked List\n",
    "\n",
    "# 想一下\n",
    "\n",
    "# 主要知識點：\n",
    "# use two pointers\n",
    "# Time Complexity: O(N), where N is the number of nodes in the given list.\n",
    "# Space Complexity: O(1), the space used by slow and fast. \n",
    "\n",
    "class Solution(object):\n",
    "    def middleNode(self, head):\n",
    "        slow = fast = head\n",
    "        while fast.next and fast.next.next:\n",
    "            fast = fast.next.next\n",
    "            slow = slow.next\n",
    "        # if number of nodes is even, not odd.\n",
    "        if fast.next:\n",
    "            slow = slow.next\n",
    "        return slow"
   ]
  },
  {
   "cell_type": "code",
   "execution_count": null,
   "metadata": {
    "collapsed": true
   },
   "outputs": [],
   "source": []
  },
  {
   "cell_type": "code",
   "execution_count": null,
   "metadata": {
    "collapsed": true
   },
   "outputs": [],
   "source": [
    "# LC_Merge Two Sorted Lists_iteration\n",
    "\n",
    "# 想一下\n",
    "\n",
    "# 主要知識點：\n",
    "# while l1 and l2, while l1, while l2... good technique!\n",
    "\n",
    "\n",
    "class Solution(object):\n",
    "    def mergeTwoLists(self, l1, l2):\n",
    "        \"\"\"\n",
    "        :type l1: ListNode\n",
    "        :type l2: ListNode\n",
    "        :rtype: ListNode\n",
    "        \"\"\" \n",
    "        new = ListNode(0)\n",
    "        new1 = new\n",
    "        while l1 and l2:\n",
    "            if l1.val <= l2.val:\n",
    "                new.next = l1\n",
    "                l1 = l1.next\n",
    "                new = new.next\n",
    "            else:\n",
    "                new.next = l2\n",
    "                l2 = l2.next\n",
    "                new = new.next\n",
    "        while l1:\n",
    "            new.next = l1\n",
    "            l1 = l1.next\n",
    "            new = new.next\n",
    "        \n",
    "        while l2:\n",
    "            new.next = l2\n",
    "            l2 = l2.next\n",
    "            new = new.next\n",
    "                \n",
    "        return new1.next"
   ]
  },
  {
   "cell_type": "code",
   "execution_count": null,
   "metadata": {
    "collapsed": true
   },
   "outputs": [],
   "source": [
    "# LC_Merge Two Sorted Lists_recursion\n",
    "\n",
    "# 想一下  (recur的解法想不到)\n",
    "\n",
    "# 主要知識點：\n",
    "# This solution on the Internet is brilliant. Look at that! recursion approach can recur in different ways!!!\n",
    "# But.. 3 steps\n",
    "# base, magical function, use them to build the recursion functions\n",
    "\n",
    "\n",
    "class Solution(object):\n",
    "    def mergeTwoLists(self, l1, l2):\n",
    "        \"\"\"\n",
    "        :type l1: ListNode\n",
    "        :type l2: ListNode\n",
    "        :rtype: ListNode\n",
    "        \"\"\" \n",
    "        if not l1 or not l2:\n",
    "            return l1 or l2\n",
    "        if l1.val < l2.val:\n",
    "            l1.next = self.mergeTwoLists(l1.next, l2)\n",
    "            return l1\n",
    "        else:\n",
    "            l2.next = self.mergeTwoLists(l1, l2.next)\n",
    "            return l2"
   ]
  },
  {
   "cell_type": "code",
   "execution_count": null,
   "metadata": {
    "collapsed": true
   },
   "outputs": [],
   "source": []
  },
  {
   "cell_type": "code",
   "execution_count": null,
   "metadata": {
    "collapsed": true
   },
   "outputs": [],
   "source": [
    "# LC_Remove Duplicates from Sorted List\n",
    "\n",
    "# 想一下  (但是一開始有小bug)\n",
    "\n",
    "class Solution(object):\n",
    "    def deleteDuplicates(self, head):\n",
    "        \"\"\"\n",
    "        :type head: ListNode\n",
    "        :rtype: ListNode\n",
    "        \"\"\"\n",
    "\n",
    "        dummy = head\n",
    "        while head and head.next:\n",
    "            if head.next.val == head.val:\n",
    "                head.next = head.next.next\n",
    "            else:\n",
    "                head = head.next\n",
    "        \n",
    "        return dummy"
   ]
  },
  {
   "cell_type": "code",
   "execution_count": null,
   "metadata": {
    "collapsed": true
   },
   "outputs": [],
   "source": []
  },
  {
   "cell_type": "code",
   "execution_count": null,
   "metadata": {
    "collapsed": true
   },
   "outputs": [],
   "source": [
    "# LC_Linked List Cycle_two pointers\n",
    "\n",
    "# 想一下  (但是一開始有小bug)\n",
    "\n",
    "# 主要知識點。 \n",
    "# besides this approach, we can use hashtable approach, with space complexity being O(n)\n",
    "# We go through each node one by one and record each node's reference (or memory address) in a hash table. \n",
    "\n",
    "# Time complexity: List has no cycle: O(n), The fast pointer reaches the end first and \n",
    "# the run time depends on the list's length. List has a cycle: O(N+K) = O(n), where N is the non-cyclic length\n",
    "# K is the cyclic length. K = diff between two pointers when the slow pointer enters the loop(K at most) / (2-1)\n",
    "# Space complexity : O(1). We only use two nodes (slow and fast) so the space complexity is O(1).\n",
    "\n",
    "\n",
    "class Solution(object):\n",
    "    def hasCycle(self, head, pos):\n",
    "        fast = slow = head\n",
    "        while slow and fast and fast.next:\n",
    "            slow = slow.next                \n",
    "            fast = fast.next.next           \n",
    "\n",
    "            if slow is fast:                \n",
    "                return True\n",
    "\n",
    "        return False"
   ]
  },
  {
   "cell_type": "code",
   "execution_count": null,
   "metadata": {
    "collapsed": true
   },
   "outputs": [],
   "source": []
  },
  {
   "cell_type": "code",
   "execution_count": null,
   "metadata": {
    "collapsed": true
   },
   "outputs": [],
   "source": [
    "# LC_Intersection of Two Linked Lists_hash table\n",
    "\n",
    "# 想一下  \n",
    "\n",
    "# 主要知識點。 \n",
    "# Traverse list A and store the address / reference to each node in a hash set(lookup in hash set is faster (O(1))). \n",
    "# Then check every node bi in list B: if bi appears in the hash set, then bi is the intersection node.\n",
    "# Time complexity: O(m+n), where m is length of ListA, n is length of ListB\n",
    "# Space complexity: O(m) or O(n)\n",
    "\n",
    "class Solution(object):\n",
    "    def getIntersectionNode(self, listA, listB):\n",
    "        d = dict()\n",
    "        while listA:\n",
    "            d[listA] = 1\n",
    "            listA = listA.next\n",
    "        while listB:\n",
    "            if listB in d:\n",
    "                return listB\n",
    "            listB = listB.next\n",
    "        return None"
   ]
  },
  {
   "cell_type": "code",
   "execution_count": null,
   "metadata": {
    "collapsed": true
   },
   "outputs": [],
   "source": [
    "# LC_Intersection of Two Linked Lists_two pointers\n",
    "\n",
    "# 想一下 (two pointer解法想不到)\n",
    "\n",
    "# 主要知識點。 \n",
    "# When pA reaches the end of a list, then redirect it to the head of B (yes, B, that's right.);\n",
    "# similarly when pB reaches the end of a list, redirect it the head of A.\n",
    "# If at any point pApA meets pBpB, then pApA/pBpB is the intersection node.\n",
    "# Time complexity: O(m+n), where m is the length of listA and n is the length of listB. \n",
    "# worst case time complexity occurs when.. e.g.pA runs through listA and listB. \n",
    "# Space complexity: O(1)\n",
    "\n",
    "class Solution(object):\n",
    "    def getIntersectionNode(self, listA, listB):\n",
    "        \n",
    "        headA, headB, swapped = listA, listB, 0\n",
    "        \n",
    "        while listA and listB:\n",
    "            if listA == listB:\n",
    "                return listA\n",
    "            listA, listB = listA.next, listB.next\n",
    "            if not listA and swapped == 0:\n",
    "                listA = headB\n",
    "                swapped = 1\n",
    "            if not listB:\n",
    "                listB = headA     \n",
    "        return None"
   ]
  },
  {
   "cell_type": "code",
   "execution_count": null,
   "metadata": {
    "collapsed": true
   },
   "outputs": [],
   "source": []
  },
  {
   "cell_type": "code",
   "execution_count": null,
   "metadata": {
    "collapsed": true
   },
   "outputs": [],
   "source": [
    "# LC_Remove Linked List Elements_iteration\n",
    "\n",
    "# 想不到\n",
    "\n",
    "# 主要知識點。 \n",
    "# 2 steps. First while loop ensures that the head.val != val. Second, use a while loop to remove all val nodes.\n",
    "\n",
    "class Solution(object):\n",
    "    def removeElements(self, head, val):\n",
    "        while head is not None and head.val == val:\n",
    "            head = head.next\n",
    "            \n",
    "        curr = head \n",
    "        if not curr:\n",
    "            return head\n",
    "        while curr.next:\n",
    "            if curr.next.val == val:\n",
    "                curr.next = curr.next.next\n",
    "            else:\n",
    "                curr = curr.next\n",
    "                \n",
    "        return head"
   ]
  },
  {
   "cell_type": "code",
   "execution_count": null,
   "metadata": {
    "collapsed": true
   },
   "outputs": [],
   "source": [
    "# LC_Remove Linked List Elements_recursion\n",
    "\n",
    "# 想不到\n",
    "\n",
    "class Solution(object):\n",
    "    def removeElements(self, head, val):\n",
    "        if not head:\n",
    "            return head\n",
    "        if head.val == val:\n",
    "            head = self.removeElements(head.next, val)\n",
    "        else:\n",
    "            head.next = self.removeElements(head.next, val)\n",
    "        \n",
    "        return head "
   ]
  },
  {
   "cell_type": "code",
   "execution_count": null,
   "metadata": {
    "collapsed": true
   },
   "outputs": [],
   "source": []
  },
  {
   "cell_type": "code",
   "execution_count": null,
   "metadata": {
    "collapsed": true
   },
   "outputs": [],
   "source": [
    "# LC_Reverse Linked List_iteration\n",
    "\n",
    "# 想不到\n",
    "\n",
    "# 主要知識點。 \n",
    "# use three pointers. \n",
    "# While you are traversing the list, change the current node's next pointer to point to its previous element.\n",
    "# Since a node does not have reference to its previous node, you must store its previous element beforehand. \n",
    "# You also need another pointer to store the next node before \n",
    "# changing the reference. Do not forget to return the new head reference at the end!\n",
    "# Time complexity: O(n)\n",
    "# Space complexity: O(1)\n",
    "\n",
    "class Solution(object):\n",
    "    def reverseList(self, head):\n",
    "        prev = None\n",
    "        while head:\n",
    "            tmp = head \n",
    "            head = head.next\n",
    "            tmp.next = prev\n",
    "            prev = tmp\n",
    "        return prev"
   ]
  },
  {
   "cell_type": "code",
   "execution_count": null,
   "metadata": {
    "collapsed": true
   },
   "outputs": [],
   "source": [
    "# LC_Reverse Linked List_recursion\n",
    "\n",
    "# 想不到 (recursive解法太猛)\n",
    "\n",
    "# 主要知識點。\n",
    "# one of the best solutions ever... so impressive. \n",
    "# But It's actually not hard to write it down. still three steps: base condition, magical function, build the final function\n",
    "# Time complexity: O(n)  (It's easily understandable if we simulate with real data)\n",
    "# Space complexity: O(n) (The extra space comes from implicit stack space due to recursion. \n",
    "# The recursion could go up to n levels deep.)\n",
    "\n",
    "class Solution(object):\n",
    "    def reverseList(self, head):\n",
    "        if not head or not head.next:\n",
    "            return head\n",
    "        \n",
    "        p = self.reverseList(head.next)\n",
    "        head.next.next = head\n",
    "        head.next = None\n",
    "        return p"
   ]
  },
  {
   "cell_type": "code",
   "execution_count": null,
   "metadata": {
    "collapsed": true
   },
   "outputs": [],
   "source": []
  },
  {
   "cell_type": "code",
   "execution_count": null,
   "metadata": {
    "collapsed": true
   },
   "outputs": [],
   "source": [
    "# LC_Palindrome Linked List\n",
    "\n",
    "# 想不到 \n",
    "\n",
    "# 主要知識點。\n",
    "# use three pointers: slow, tmp, fast \n",
    "# the key is that we use a while loop to find the middle of the Linkedlist and also change the direction of first half \n",
    "# part of the original Linkedlist\n",
    "# Time complexity: O(n)\n",
    "# Space complexity: O(1) (only three pointers are used)\n",
    "\n",
    "class Solution(object):\n",
    "    def isPalindrome(self, head):\n",
    "        if not head:\n",
    "            return True\n",
    "        slow = fast = head\n",
    "        prev = None\n",
    "        while fast.next and fast.next.next:\n",
    "            fast = fast.next.next\n",
    "            tmp = slow.next\n",
    "            slow.next = prev\n",
    "            prev = slow\n",
    "            slow = tmp\n",
    "        # if even nodes \n",
    "        if fast.next:\n",
    "            tmp = slow.next\n",
    "            slow.next = prev \n",
    "            prev = slow \n",
    "            slow = tmp\n",
    "        # if odd nodes\n",
    "        else:\n",
    "            slow = slow.next\n",
    "        while slow:\n",
    "            if slow.val != prev.val:\n",
    "                return False\n",
    "            slow = slow.next\n",
    "            prev = prev.next\n",
    "        return True"
   ]
  },
  {
   "cell_type": "code",
   "execution_count": null,
   "metadata": {
    "collapsed": true
   },
   "outputs": [],
   "source": []
  },
  {
   "cell_type": "code",
   "execution_count": null,
   "metadata": {
    "collapsed": true
   },
   "outputs": [],
   "source": [
    "# LC_Delete Node in a Linked List\n",
    "\n",
    "# 想一下\n",
    "\n",
    "# 主要知識點。\n",
    "# Time complexity: O(1)\n",
    "# Space complexity: O(1) \n",
    "\n",
    "class Solution(object):\n",
    "    def deleteNode(self, node):\n",
    "        node.val = node.next.val\n",
    "        node.next = node.next.next"
   ]
  },
  {
   "cell_type": "code",
   "execution_count": null,
   "metadata": {
    "collapsed": true
   },
   "outputs": [],
   "source": []
  },
  {
   "cell_type": "code",
   "execution_count": null,
   "metadata": {
    "collapsed": true
   },
   "outputs": [],
   "source": []
  },
  {
   "cell_type": "code",
   "execution_count": null,
   "metadata": {
    "collapsed": true
   },
   "outputs": [],
   "source": []
  },
  {
   "cell_type": "code",
   "execution_count": null,
   "metadata": {
    "collapsed": true
   },
   "outputs": [],
   "source": []
  },
  {
   "cell_type": "markdown",
   "metadata": {
    "collapsed": true
   },
   "source": [
    "# Hash Table"
   ]
  },
  {
   "cell_type": "code",
   "execution_count": null,
   "metadata": {
    "collapsed": true
   },
   "outputs": [],
   "source": [
    "# given an array A of N integers, returns the smallest positive integer (greater than 0) that does not occur in A.\n",
    "\n",
    "# For example, given A = [1, 3, 6, 4, 1, 2], the function should return 5.\n",
    "\n",
    "# Given A = [1, 2, 3], the function should return 4.\n",
    "\n",
    "# Given A = [−1, −3], the function should return 1.\n",
    "\n",
    "# Write an efficient algorithm for the following assumptions:\n",
    "\n",
    "# N is an integer within the range [1..100,000];\n",
    "# each element of array A is an integer within the range [−1,000,000..1,000,000].\n",
    "\n",
    "\n",
    "# time complexity: O(N) ( for i in A)\n",
    "# i not in d is lookup in hashtable, and its time complexity is O(1)\n",
    "def solution(A):\n",
    "    # write your code in Python 3.6\n",
    "    d = dict()\n",
    "    for i in A:\n",
    "        if i > 0:\n",
    "            d[i] = 1\n",
    "            \n",
    "    for i in range(1,100002):\n",
    "        if i not in d:\n",
    "            return i"
   ]
  },
  {
   "cell_type": "code",
   "execution_count": null,
   "metadata": {
    "collapsed": true
   },
   "outputs": [],
   "source": []
  },
  {
   "cell_type": "code",
   "execution_count": null,
   "metadata": {
    "collapsed": true
   },
   "outputs": [],
   "source": []
  },
  {
   "cell_type": "code",
   "execution_count": null,
   "metadata": {
    "collapsed": true
   },
   "outputs": [],
   "source": []
  },
  {
   "cell_type": "code",
   "execution_count": null,
   "metadata": {
    "collapsed": true
   },
   "outputs": [],
   "source": []
  },
  {
   "cell_type": "code",
   "execution_count": null,
   "metadata": {
    "collapsed": true
   },
   "outputs": [],
   "source": []
  },
  {
   "cell_type": "code",
   "execution_count": null,
   "metadata": {
    "collapsed": true
   },
   "outputs": [],
   "source": []
  },
  {
   "cell_type": "markdown",
   "metadata": {},
   "source": [
    "# array"
   ]
  },
  {
   "cell_type": "code",
   "execution_count": 33,
   "metadata": {},
   "outputs": [
    {
     "data": {
      "text/plain": [
       "[0, 1]"
      ]
     },
     "execution_count": 33,
     "metadata": {},
     "output_type": "execute_result"
    }
   ],
   "source": [
    "# LC_Two Sum\n",
    "\n",
    "# 想一下\n",
    "\n",
    "# 主要知識點：\n",
    "# 解法用One-pass Hash Table\n",
    "# Time complexity : O(n)\n",
    "# We traverse the list containing n elements only once. Each look up in the table costs only O(1) time.\n",
    "# Space complexity : O(n)\n",
    "# The extra space required depends on the number of items stored in the hash table, which stores at most n elements.\n",
    "\n",
    "class Solution(object):\n",
    "    def twoSum(self, nums, target):\n",
    "        if len(nums) <=1:\n",
    "            return None\n",
    "        \n",
    "        dic = {}\n",
    "        for i,v in enumerate(nums):\n",
    "            if target-v in dic:\n",
    "                return [dic[target-v], i]\n",
    "            dic[v] = i\n",
    "            \n",
    "x = Solution()\n",
    "x.twoSum([2, 7, 11, 15], 9)"
   ]
  },
  {
   "cell_type": "code",
   "execution_count": null,
   "metadata": {
    "collapsed": true
   },
   "outputs": [],
   "source": []
  },
  {
   "cell_type": "code",
   "execution_count": 18,
   "metadata": {},
   "outputs": [
    {
     "data": {
      "text/plain": [
       "[0, 1, 9, 16, 100]"
      ]
     },
     "execution_count": 18,
     "metadata": {},
     "output_type": "execute_result"
    }
   ],
   "source": [
    "# LC_Squares of a Sorted Array\n",
    "\n",
    "# 想一下\n",
    "\n",
    "# 主要知識點：\n",
    "# 解法用到 Two Pointer (兩個index)\n",
    "# 這題不要傻傻的先平方後再排序。題目一開始給的array就是排序好的，是一定有原因的！\n",
    "# Time complexity: O(N), where N is the length of A.\n",
    "# Space Complexity: O(N).\n",
    "\n",
    "class Solution(object):\n",
    "    def sortedSquares(self, A):\n",
    "        \"\"\"\n",
    "        :type A: List[int]\n",
    "        :rtype: List[int]\n",
    "        \"\"\"\n",
    "        N = len(A)\n",
    "        \n",
    "        j = 0\n",
    "        while j<N and A[j]<0:\n",
    "            j += 1\n",
    "        i = j-1\n",
    "        \n",
    "        box = []\n",
    "        while 0<=i and j<N:\n",
    "            if A[i]**2 < A[j]**2:\n",
    "                box.append(A[i]**2)\n",
    "                i -= 1\n",
    "            else:\n",
    "                box.append(A[j]**2)\n",
    "                j += 1\n",
    "        \n",
    "        while 0<=i:\n",
    "            box.append(A[i]**2)\n",
    "            i -=1\n",
    "        \n",
    "        while j<N:\n",
    "            box.append(A[j]**2)\n",
    "            j += 1\n",
    "        \n",
    "        return box    \n",
    "                \n",
    "x = Solution()\n",
    "x.sortedSquares([-4,-1,0,3,10])"
   ]
  },
  {
   "cell_type": "code",
   "execution_count": null,
   "metadata": {
    "collapsed": true
   },
   "outputs": [],
   "source": []
  },
  {
   "cell_type": "code",
   "execution_count": null,
   "metadata": {
    "collapsed": true
   },
   "outputs": [],
   "source": []
  },
  {
   "cell_type": "code",
   "execution_count": null,
   "metadata": {
    "collapsed": true
   },
   "outputs": [],
   "source": []
  },
  {
   "cell_type": "code",
   "execution_count": null,
   "metadata": {
    "collapsed": true
   },
   "outputs": [],
   "source": []
  },
  {
   "cell_type": "code",
   "execution_count": null,
   "metadata": {
    "collapsed": true
   },
   "outputs": [],
   "source": []
  },
  {
   "cell_type": "markdown",
   "metadata": {},
   "source": [
    "# DP (Dynamic Programming)"
   ]
  },
  {
   "cell_type": "code",
   "execution_count": 5,
   "metadata": {},
   "outputs": [
    {
     "name": "stdout",
     "output_type": "stream",
     "text": [
      "5\n"
     ]
    }
   ],
   "source": [
    "# ?_coin combination (給定某target(5) ＆ 一些零錢組合e.g. 1,2,3 。 試問這個零錢組合有多少種不同組合方式，可以湊成此target)\n",
    "\n",
    "# 想不到\n",
    "\n",
    "# 主要知識點：\n",
    "# 用到DP的概念，儲存intermediate result，以避免重複計算 ( e.g. 2+3 和 3+2 對這題而言，本質是一樣的)\n",
    "# https://stackoverflow.com/questions/14992411/understanding-change-making-algorithm\n",
    "\n",
    "target = 5\n",
    "coins = [1,2,3]\n",
    "ways = [1]+[0]*target\n",
    "for coin in coins:\n",
    "    for i in range(coin, target+1):\n",
    "        ways[i] += ways[i-coin]\n",
    "  \n",
    "        \n",
    "print(ways[target])"
   ]
  },
  {
   "cell_type": "code",
   "execution_count": null,
   "metadata": {
    "collapsed": true
   },
   "outputs": [],
   "source": []
  },
  {
   "cell_type": "code",
   "execution_count": null,
   "metadata": {
    "collapsed": true
   },
   "outputs": [],
   "source": []
  },
  {
   "cell_type": "code",
   "execution_count": 73,
   "metadata": {},
   "outputs": [
    {
     "data": {
      "text/plain": [
       "13"
      ]
     },
     "execution_count": 73,
     "metadata": {},
     "output_type": "execute_result"
    }
   ],
   "source": [
    "# ?_Fibonacci_bottomup\n",
    "\n",
    "# 想一下\n",
    "\n",
    "# 主要知識點：\n",
    "# bottom-up approach \n",
    "# Time complexity: O(n)\n",
    "# https://www.youtube.com/watch?v=vYquumk4nWw&t=1s\n",
    "\n",
    "\n",
    "def fb(n):\n",
    "    b = [0]*n\n",
    "    b[0] = 1\n",
    "    b[1] = 1\n",
    "    for i in range(2,n):\n",
    "        b[i] = b[i-1] + b[i-2]\n",
    "    \n",
    "    return b[n-1]\n",
    "fb(7)"
   ]
  },
  {
   "cell_type": "code",
   "execution_count": 19,
   "metadata": {},
   "outputs": [
    {
     "data": {
      "text/plain": [
       "13"
      ]
     },
     "execution_count": 19,
     "metadata": {},
     "output_type": "execute_result"
    }
   ],
   "source": [
    "# ?_Fibonacci_topdown\n",
    "\n",
    "# 想不到\n",
    "\n",
    "# 主要知識點：\n",
    "# top-down approach \n",
    "# 我真的想不出來這種解法，可能是因為recursive式的編程方式我還不習慣\n",
    "# Time complexity: O(n)\n",
    "# https://www.youtube.com/watch?v=vYquumk4nWw&t=1s\n",
    "\n",
    "def fb(n,memo):\n",
    "    if memo[n]:\n",
    "        return memo[n]\n",
    "    if n==1 or n==2:\n",
    "        result = 1\n",
    "    else:\n",
    "        result = fb(n-1,memo)+fb(n-2,memo)\n",
    "    memo[n] = result\n",
    "    return result\n",
    "\n",
    "\n",
    "fb(7,[None]*8)"
   ]
  },
  {
   "cell_type": "code",
   "execution_count": null,
   "metadata": {
    "collapsed": true
   },
   "outputs": [],
   "source": []
  },
  {
   "cell_type": "code",
   "execution_count": null,
   "metadata": {
    "collapsed": true
   },
   "outputs": [],
   "source": []
  },
  {
   "cell_type": "code",
   "execution_count": null,
   "metadata": {
    "collapsed": true
   },
   "outputs": [],
   "source": []
  },
  {
   "cell_type": "code",
   "execution_count": null,
   "metadata": {
    "collapsed": true
   },
   "outputs": [],
   "source": []
  },
  {
   "cell_type": "code",
   "execution_count": null,
   "metadata": {
    "collapsed": true
   },
   "outputs": [],
   "source": []
  },
  {
   "cell_type": "code",
   "execution_count": null,
   "metadata": {
    "collapsed": true
   },
   "outputs": [],
   "source": []
  },
  {
   "cell_type": "code",
   "execution_count": null,
   "metadata": {
    "collapsed": true
   },
   "outputs": [],
   "source": []
  },
  {
   "cell_type": "code",
   "execution_count": null,
   "metadata": {
    "collapsed": true
   },
   "outputs": [],
   "source": []
  },
  {
   "cell_type": "markdown",
   "metadata": {},
   "source": [
    "# Miscellaneous"
   ]
  },
  {
   "cell_type": "code",
   "execution_count": 56,
   "metadata": {
    "collapsed": true
   },
   "outputs": [],
   "source": [
    "# 這區塊主要紀錄在刷題時找到的一些其他知識點，可能是有關python的, 程式語言的, 數學的...等等\n",
    "# 等刷完題，會把這些知識點存入谷歌雲端_Research"
   ]
  },
  {
   "cell_type": "code",
   "execution_count": null,
   "metadata": {
    "collapsed": true
   },
   "outputs": [],
   "source": [
    "# everything in python is a object. and variables act as tags to an object\n",
    "\n",
    "# a = [1,2,3]\n",
    "# b = a\n",
    "# b.append(4)\n",
    "# >>>print(a)\n",
    "# [1,2,3,4]"
   ]
  },
  {
   "cell_type": "code",
   "execution_count": 1,
   "metadata": {
    "collapsed": true
   },
   "outputs": [],
   "source": [
    "# The self variable in python explained\n",
    "\n",
    "# https://pythontips.com/2013/08/07/the-self-variable-in-python-explained/\n",
    "# self refers to the bound variable or object of class."
   ]
  },
  {
   "cell_type": "code",
   "execution_count": null,
   "metadata": {
    "collapsed": true
   },
   "outputs": [],
   "source": [
    "# python class method\n",
    "\n",
    "# https://stackoverflow.com/questions/17557190/python-nameerror-global-name-is-not-defined\n",
    "# if within a class, you want to call other method A in method B, you should use self.A() in B, because A is not a \n",
    "# global function. It is a class method "
   ]
  },
  {
   "cell_type": "code",
   "execution_count": 39,
   "metadata": {
    "collapsed": true
   },
   "outputs": [],
   "source": [
    "# memoization?\n",
    "\n",
    "# https://pjchender.blogspot.com/2017/09/fibonacci-cache-memoization.html\n",
    "# It's like cache"
   ]
  },
  {
   "cell_type": "code",
   "execution_count": null,
   "metadata": {
    "collapsed": true
   },
   "outputs": [],
   "source": [
    "# deque in python?\n",
    "\n",
    "# deque is short for Double Ended Queue, which provides a sequence with efficient methods to work as a stack or a queue.\n",
    "\n",
    "# https://www.geeksforgeeks.org/deque-in-python/\n",
    "# Deque can be implemented in python using the module “collections“. Deque is preferred over list in the cases where \n",
    "# we need quicker append and pop operations from both the ends of container, \n",
    "# as deque provides an O(1) time complexity for append and pop operations"
   ]
  },
  {
   "cell_type": "code",
   "execution_count": null,
   "metadata": {
    "collapsed": true
   },
   "outputs": [],
   "source": [
    "# tree traversals\n",
    "\n",
    "# https://www.geeksforgeeks.org/tree-traversals-inorder-preorder-and-postorder/\n",
    "# DFS: Inorder, Preorder, Postorder(kind of like reversed version of BFS)\n",
    "# BFS (stops from the top, level by level to the leaves)"
   ]
  },
  {
   "cell_type": "code",
   "execution_count": null,
   "metadata": {
    "collapsed": true
   },
   "outputs": [],
   "source": [
    "# Difference between multiple if's and elif's?\n",
    "\n",
    "# https://stackoverflow.com/questions/9271712/difference-between-multiple-ifs-and-elifs\n",
    "# Multiple if's means your code would go and check all the if conditions,\n",
    "# where as in case of elif, if one if condition satisfies it would not check other conditions.."
   ]
  },
  {
   "cell_type": "code",
   "execution_count": null,
   "metadata": {
    "collapsed": true
   },
   "outputs": [],
   "source": [
    "# How to frame two for loops in list comprehension python\n",
    "\n",
    "# https://stackoverflow.com/questions/18551458/how-to-frame-two-for-loops-in-list-comprehension-python\n",
    "# e.g.\n",
    "\n",
    "result = []\n",
    "\n",
    "for tag in tags:\n",
    "    for entry in entries:\n",
    "        if tag in entry:\n",
    "            result.extend(entry)\n",
    "            \n",
    "# is equal to ..\n",
    "\n",
    "[entry for tag in tags for entry in entries if tag in entry]"
   ]
  },
  {
   "cell_type": "code",
   "execution_count": null,
   "metadata": {
    "collapsed": true
   },
   "outputs": [],
   "source": [
    "# some list tips\n",
    "\n",
    "# a = [1,2,3]; a[5:10] == []"
   ]
  },
  {
   "cell_type": "code",
   "execution_count": null,
   "metadata": {
    "collapsed": true
   },
   "outputs": [],
   "source": [
    "# some dict tips\n",
    "\n",
    "# the second parameter is the value to be returned if the key is not found. The default value is None.\n",
    "# a = dict; a[3] = 1; \n",
    "# a.get(3,2) returns 1\n",
    "# a.get(2,5) returns 5"
   ]
  },
  {
   "cell_type": "code",
   "execution_count": null,
   "metadata": {
    "collapsed": true
   },
   "outputs": [],
   "source": [
    "# some generator tips\n",
    "\n",
    "# def gen(n):\n",
    "# \twhile n<11:\n",
    "# \t\tyield n \n",
    "# \t\tn += 1\n",
    "\n",
    "# >>>print([*gen(1)])\n",
    "# [1,2,3,4,5,6,7,8,9]"
   ]
  },
  {
   "cell_type": "code",
   "execution_count": 1,
   "metadata": {
    "collapsed": true
   },
   "outputs": [],
   "source": [
    "# set in python\n",
    "\n",
    "# https://stackoverflow.com/questions/7351459/time-complexity-of-python-set-operations\n",
    "# set is implemented as a hash table. So you can expect to lookup/insert/delete in O(1) average.\n",
    "\n",
    "# {1,2,3}&{3,2} creates a set of {2,3}"
   ]
  },
  {
   "cell_type": "code",
   "execution_count": null,
   "metadata": {
    "collapsed": true
   },
   "outputs": [],
   "source": []
  },
  {
   "cell_type": "code",
   "execution_count": null,
   "metadata": {
    "collapsed": true
   },
   "outputs": [],
   "source": []
  },
  {
   "cell_type": "code",
   "execution_count": null,
   "metadata": {
    "collapsed": true
   },
   "outputs": [],
   "source": []
  },
  {
   "cell_type": "code",
   "execution_count": null,
   "metadata": {
    "collapsed": true
   },
   "outputs": [],
   "source": []
  }
 ],
 "metadata": {
  "kernelspec": {
   "display_name": "Python 3",
   "language": "python",
   "name": "python3"
  },
  "language_info": {
   "codemirror_mode": {
    "name": "ipython",
    "version": 3
   },
   "file_extension": ".py",
   "mimetype": "text/x-python",
   "name": "python",
   "nbconvert_exporter": "python",
   "pygments_lexer": "ipython3",
   "version": "3.6.1"
  }
 },
 "nbformat": 4,
 "nbformat_minor": 2
}
